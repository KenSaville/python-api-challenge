{
 "cells": [
  {
   "cell_type": "markdown",
   "metadata": {},
   "source": [
    "# WeatherPy\n",
    "----\n",
    "\n",
    "#### Note\n",
    "* Instructions have been included for each segment. You do not have to follow them exactly, but they are included to help you think through the steps."
   ]
  },
  {
   "cell_type": "code",
   "execution_count": 1,
   "metadata": {
    "scrolled": true
   },
   "outputs": [],
   "source": [
    "# Dependencies and Setup\n",
    "import matplotlib.pyplot as plt\n",
    "import pandas as pd\n",
    "import numpy as np\n",
    "import requests\n",
    "import time\n",
    "from scipy.stats import linregress\n",
    "from pprint import pprint\n",
    "import json\n",
    "\n",
    "# Import API key\n",
    "from config import api_key\n",
    "\n",
    "#print(api_key)\n",
    "\n",
    "# Incorporated citipy to determine city based on latitude and longitude\n",
    "from citipy import citipy\n",
    "\n",
    "# Output File (CSV)\n",
    "output_data_file = \"output_data/cities.csv\"\n",
    "\n",
    "# Range of latitudes and longitudes\n",
    "lat_range = (-90, 90)\n",
    "lng_range = (-180, 180)"
   ]
  },
  {
   "cell_type": "code",
   "execution_count": null,
   "metadata": {},
   "outputs": [],
   "source": []
  },
  {
   "cell_type": "markdown",
   "metadata": {},
   "source": [
    "## Generate Cities List"
   ]
  },
  {
   "cell_type": "code",
   "execution_count": 2,
   "metadata": {},
   "outputs": [
    {
     "name": "stdout",
     "output_type": "stream",
     "text": [
      "627\n"
     ]
    }
   ],
   "source": [
    "# List for holding lat_lngs and cities\n",
    "lat_lngs = []\n",
    "cities = []\n",
    "\n",
    "# Create a set of random lat and lng combinations\n",
    "lats = np.random.uniform(lat_range[0], lat_range[1], size=1500)\n",
    "lngs = np.random.uniform(lng_range[0], lng_range[1], size=1500)\n",
    "lat_lngs = zip(lats, lngs)\n",
    "\n",
    "# Identify nearest city for each lat, lng combination\n",
    "for lat_lng in lat_lngs:\n",
    "    city = citipy.nearest_city(lat_lng[0], lat_lng[1]).city_name\n",
    "    \n",
    "    # If the city is unique, then add it to a our cities list\n",
    "    if city not in cities:\n",
    "        cities.append(city)\n",
    "\n",
    "# Print the city count to confirm sufficient count\n",
    "print(len(cities))\n",
    "\n"
   ]
  },
  {
   "cell_type": "markdown",
   "metadata": {},
   "source": [
    "### Perform API Calls\n",
    "* Perform a weather check on each city using a series of successive API calls.\n",
    "* Include a print log of each city as it'sbeing processed (with the city number and city name).\n"
   ]
  },
  {
   "cell_type": "code",
   "execution_count": 3,
   "metadata": {
    "scrolled": true
   },
   "outputs": [
    {
     "name": "stdout",
     "output_type": "stream",
     "text": [
      "Retrieving weather data for city number 1:  pozo colorado\n",
      "Retrieving weather data for city number 2:  vaini\n",
      "Retrieving weather data for city number 3:  digapahandi\n",
      "Retrieving weather data for city number 4:  aswan\n",
      "Retrieving weather data for city number 5:  treinta y tres\n",
      "Retrieving weather data for city number 6:  beidao\n",
      "Retrieving weather data for city number 7:  balkhash\n",
      "Retrieving weather data for city number 8:  rikitea\n",
      "Retrieving weather data for city number 9:  hermanus\n",
      "vaitupu not found, skip this one\n",
      "Retrieving weather data for city number 11:  busselton\n",
      "Retrieving weather data for city number 12:  penzance\n",
      "barentsburg not found, skip this one\n",
      "Retrieving weather data for city number 14:  butaritari\n",
      "Retrieving weather data for city number 15:  ribeira grande\n",
      "Retrieving weather data for city number 16:  ushuaia\n",
      "Retrieving weather data for city number 17:  rieti\n",
      "taolanaro not found, skip this one\n",
      "Retrieving weather data for city number 19:  bani\n",
      "Retrieving weather data for city number 20:  severo-kurilsk\n",
      "Retrieving weather data for city number 21:  olafsvik\n",
      "Retrieving weather data for city number 22:  zanjan\n",
      "Retrieving weather data for city number 23:  cape town\n",
      "Retrieving weather data for city number 24:  jamestown\n",
      "Retrieving weather data for city number 25:  lyngseidet\n",
      "Retrieving weather data for city number 26:  poum\n",
      "Retrieving weather data for city number 27:  cabedelo\n",
      "Retrieving weather data for city number 28:  mar del plata\n",
      "Retrieving weather data for city number 29:  castro\n",
      "Retrieving weather data for city number 30:  geraldton\n",
      "Retrieving weather data for city number 31:  albany\n",
      "Retrieving weather data for city number 32:  marsh harbour\n",
      "Retrieving weather data for city number 33:  saint-augustin\n",
      "Retrieving weather data for city number 34:  bredasdorp\n",
      "Retrieving weather data for city number 35:  okhotsk\n",
      "Retrieving weather data for city number 36:  olenegorsk\n",
      "Retrieving weather data for city number 37:  punta arenas\n",
      "Retrieving weather data for city number 38:  barrow\n",
      "Retrieving weather data for city number 39:  bluff\n",
      "Retrieving weather data for city number 40:  torbay\n",
      "Retrieving weather data for city number 41:  jieshi\n",
      "Retrieving weather data for city number 42:  saint-philippe\n",
      "Retrieving weather data for city number 43:  la ronge\n",
      "Retrieving weather data for city number 44:  njeru\n",
      "Retrieving weather data for city number 45:  kopavogur\n",
      "Retrieving weather data for city number 46:  ural\n",
      "samusu not found, skip this one\n",
      "Retrieving weather data for city number 48:  kapaa\n",
      "Retrieving weather data for city number 49:  dong hoi\n",
      "Retrieving weather data for city number 50:  snyder\n",
      "Retrieving weather data for city number 51:  lavrentiya\n",
      "Retrieving weather data for city number 52:  alta floresta\n",
      "Retrieving weather data for city number 53:  mataura\n",
      "Retrieving weather data for city number 54:  nampula\n",
      "Retrieving weather data for city number 55:  kropotkin\n",
      "Retrieving weather data for city number 56:  port blair\n",
      "Retrieving weather data for city number 57:  the pas\n",
      "Retrieving weather data for city number 58:  constantine\n",
      "Retrieving weather data for city number 59:  filingue\n",
      "Retrieving weather data for city number 60:  sao joao da barra\n",
      "Retrieving weather data for city number 61:  qaanaaq\n",
      "Retrieving weather data for city number 62:  liverpool\n",
      "Retrieving weather data for city number 63:  beringovskiy\n",
      "Retrieving weather data for city number 64:  gorom-gorom\n",
      "Retrieving weather data for city number 65:  ciudad bolivar\n",
      "Retrieving weather data for city number 66:  fiche\n",
      "Retrieving weather data for city number 67:  sur\n",
      "Retrieving weather data for city number 68:  husavik\n",
      "Retrieving weather data for city number 69:  nikolskoye\n",
      "Retrieving weather data for city number 70:  norman wells\n",
      "Retrieving weather data for city number 71:  balsas\n",
      "Retrieving weather data for city number 72:  matay\n",
      "Retrieving weather data for city number 73:  pran buri\n",
      "Retrieving weather data for city number 74:  vagay\n",
      "Retrieving weather data for city number 75:  psygansu\n",
      "Retrieving weather data for city number 76:  hobart\n",
      "sentyabrskiy not found, skip this one\n",
      "Retrieving weather data for city number 78:  nyurba\n",
      "Retrieving weather data for city number 79:  cordoba\n",
      "Retrieving weather data for city number 80:  hithadhoo\n",
      "Retrieving weather data for city number 81:  luderitz\n",
      "Retrieving weather data for city number 82:  saint george\n",
      "Retrieving weather data for city number 83:  talnakh\n",
      "Retrieving weather data for city number 84:  ullal\n",
      "Retrieving weather data for city number 85:  dikson\n",
      "Retrieving weather data for city number 86:  puerto ayora\n",
      "Retrieving weather data for city number 87:  christchurch\n",
      "Retrieving weather data for city number 88:  kodiak\n",
      "Retrieving weather data for city number 89:  ondangwa\n",
      "amderma not found, skip this one\n",
      "Retrieving weather data for city number 91:  narsaq\n",
      "Retrieving weather data for city number 92:  viedma\n",
      "Retrieving weather data for city number 93:  taksimo\n",
      "Retrieving weather data for city number 94:  mount gambier\n",
      "Retrieving weather data for city number 95:  krasnoselkup\n",
      "Retrieving weather data for city number 96:  goderich\n",
      "Retrieving weather data for city number 97:  avarua\n",
      "Retrieving weather data for city number 98:  kaitangata\n",
      "varska not found, skip this one\n",
      "Retrieving weather data for city number 100:  tiznit\n",
      "Retrieving weather data for city number 101:  banjar\n",
      "Retrieving weather data for city number 102:  bambous virieux\n",
      "Retrieving weather data for city number 103:  kapit\n",
      "Retrieving weather data for city number 104:  new norfolk\n",
      "Retrieving weather data for city number 105:  chuy\n",
      "Retrieving weather data for city number 106:  itarema\n",
      "Retrieving weather data for city number 107:  chokurdakh\n",
      "Retrieving weather data for city number 108:  padang\n",
      "Retrieving weather data for city number 109:  dicabisagan\n",
      "Retrieving weather data for city number 110:  ialibu\n",
      "Retrieving weather data for city number 111:  quirinopolis\n",
      "Retrieving weather data for city number 112:  bogorodskoye\n",
      "Retrieving weather data for city number 113:  santa rosa\n",
      "Retrieving weather data for city number 114:  pirgos\n",
      "Retrieving weather data for city number 115:  den helder\n",
      "Retrieving weather data for city number 116:  airai\n",
      "Retrieving weather data for city number 117:  lavumisa\n",
      "Retrieving weather data for city number 118:  katsuura\n",
      "Retrieving weather data for city number 119:  cidreira\n",
      "Retrieving weather data for city number 120:  jacmel\n",
      "Retrieving weather data for city number 121:  butembo\n",
      "Retrieving weather data for city number 122:  cockburn town\n",
      "Retrieving weather data for city number 123:  tuktoyaktuk\n",
      "Retrieving weather data for city number 124:  vao\n",
      "Retrieving weather data for city number 125:  esperance\n",
      "Retrieving weather data for city number 126:  port pirie\n",
      "Retrieving weather data for city number 127:  cape canaveral\n",
      "halalo not found, skip this one\n",
      "Retrieving weather data for city number 129:  puerto narino\n",
      "Retrieving weather data for city number 130:  hofn\n",
      "Retrieving weather data for city number 131:  kevsala\n",
      "Retrieving weather data for city number 132:  pontianak\n",
      "Retrieving weather data for city number 133:  kirakira\n",
      "Retrieving weather data for city number 134:  dergachi\n",
      "Retrieving weather data for city number 135:  port hawkesbury\n",
      "paradwip not found, skip this one\n",
      "Retrieving weather data for city number 137:  mahebourg\n",
      "Retrieving weather data for city number 138:  pak phanang\n",
      "Retrieving weather data for city number 139:  mahibadhoo\n",
      "Retrieving weather data for city number 140:  suez\n",
      "Retrieving weather data for city number 141:  khani\n",
      "Retrieving weather data for city number 142:  mnogovershinnyy\n",
      "Retrieving weather data for city number 143:  anzio\n",
      "mys shmidta not found, skip this one\n",
      "Retrieving weather data for city number 145:  tarakan\n",
      "Retrieving weather data for city number 146:  nouadhibou\n",
      "Retrieving weather data for city number 147:  khatanga\n",
      "Retrieving weather data for city number 148:  gizo\n",
      "Retrieving weather data for city number 149:  port alfred\n",
      "Retrieving weather data for city number 150:  sao jose da coroa grande\n",
      "Retrieving weather data for city number 151:  majene\n",
      "Retrieving weather data for city number 152:  nantucket\n",
      "Retrieving weather data for city number 153:  opuwo\n",
      "Retrieving weather data for city number 154:  blagoyevo\n",
      "Retrieving weather data for city number 155:  shimoda\n",
      "illoqqortoormiut not found, skip this one\n",
      "Retrieving weather data for city number 157:  mackay\n",
      "Retrieving weather data for city number 158:  tateyama\n",
      "Retrieving weather data for city number 159:  east london\n",
      "attawapiskat not found, skip this one\n",
      "Retrieving weather data for city number 161:  marion\n",
      "Retrieving weather data for city number 162:  faanui\n",
      "Retrieving weather data for city number 163:  gora kalwaria\n",
      "Retrieving weather data for city number 164:  sitka\n",
      "Retrieving weather data for city number 165:  atuona\n",
      "Retrieving weather data for city number 166:  laguna\n",
      "Retrieving weather data for city number 167:  chicama\n",
      "Retrieving weather data for city number 168:  poronaysk\n",
      "Retrieving weather data for city number 169:  vilyuysk\n",
      "Retrieving weather data for city number 170:  hilo\n",
      "Retrieving weather data for city number 171:  flinders\n",
      "Retrieving weather data for city number 172:  carnarvon\n",
      "Retrieving weather data for city number 173:  kununurra\n",
      "Retrieving weather data for city number 174:  ilulissat\n",
      "longlac not found, skip this one\n",
      "Retrieving weather data for city number 176:  port-gentil\n",
      "Retrieving weather data for city number 177:  pevek\n",
      "Retrieving weather data for city number 178:  port elizabeth\n",
      "Retrieving weather data for city number 179:  ventanas\n",
      "Retrieving weather data for city number 180:  hasaki\n",
      "Retrieving weather data for city number 181:  concarneau\n",
      "Retrieving weather data for city number 182:  pringsewu\n",
      "Retrieving weather data for city number 183:  hambantota\n",
      "Retrieving weather data for city number 184:  belsand\n",
      "Retrieving weather data for city number 185:  hamilton\n",
      "Retrieving weather data for city number 186:  moyale\n",
      "Retrieving weather data for city number 187:  boa vista\n",
      "Retrieving weather data for city number 188:  coahuayana\n",
      "keshan not found, skip this one\n",
      "Retrieving weather data for city number 190:  kushmurun\n",
      "Retrieving weather data for city number 191:  oriximina\n",
      "Retrieving weather data for city number 192:  porto novo\n",
      "Retrieving weather data for city number 193:  victoria\n",
      "Retrieving weather data for city number 194:  iqaluit\n",
      "Retrieving weather data for city number 195:  pingliang\n",
      "Retrieving weather data for city number 196:  beoumi\n",
      "Retrieving weather data for city number 197:  chazuta\n",
      "Retrieving weather data for city number 198:  kawalu\n",
      "Retrieving weather data for city number 199:  praia da vitoria\n",
      "Retrieving weather data for city number 200:  khilok\n",
      "Retrieving weather data for city number 201:  orlik\n",
      "Retrieving weather data for city number 202:  thompson\n",
      "Retrieving weather data for city number 203:  yellowknife\n",
      "Retrieving weather data for city number 204:  upernavik\n",
      "Retrieving weather data for city number 205:  san antonio\n",
      "Retrieving weather data for city number 206:  timmins\n",
      "Retrieving weather data for city number 207:  requena\n",
      "Retrieving weather data for city number 208:  porvoo\n",
      "Retrieving weather data for city number 209:  saldanha\n",
      "sataua not found, skip this one\n",
      "Retrieving weather data for city number 211:  zakamensk\n",
      "Retrieving weather data for city number 212:  cabo san lucas\n",
      "Retrieving weather data for city number 213:  lebu\n",
      "Retrieving weather data for city number 214:  tucson\n",
      "Retrieving weather data for city number 215:  cherskiy\n",
      "Retrieving weather data for city number 216:  yulara\n",
      "Retrieving weather data for city number 217:  shakawe\n",
      "Retrieving weather data for city number 218:  arraial do cabo\n",
      "Retrieving weather data for city number 219:  onguday\n",
      "Retrieving weather data for city number 220:  sakakah\n",
      "Retrieving weather data for city number 221:  avera\n",
      "Retrieving weather data for city number 222:  axim\n",
      "Retrieving weather data for city number 223:  san andres\n",
      "Retrieving weather data for city number 224:  buala\n",
      "ozgon not found, skip this one\n",
      "Retrieving weather data for city number 226:  tombouctou\n",
      "Retrieving weather data for city number 227:  pangnirtung\n",
      "Retrieving weather data for city number 228:  krutinka\n",
      "Retrieving weather data for city number 229:  kotido\n",
      "Retrieving weather data for city number 230:  oksovskiy\n",
      "Retrieving weather data for city number 231:  bethel\n",
      "Retrieving weather data for city number 232:  paamiut\n",
      "Retrieving weather data for city number 233:  sept-iles\n",
      "Retrieving weather data for city number 234:  solvychegodsk\n",
      "Retrieving weather data for city number 235:  nahrin\n",
      "Retrieving weather data for city number 236:  westport\n",
      "Retrieving weather data for city number 237:  zarubino\n",
      "Retrieving weather data for city number 238:  new glasgow\n",
      "rawannawi not found, skip this one\n",
      "Retrieving weather data for city number 240:  grindavik\n",
      "Retrieving weather data for city number 241:  mawlaik\n",
      "Retrieving weather data for city number 242:  bratsk\n",
      "Retrieving weather data for city number 243:  konya\n",
      "Retrieving weather data for city number 244:  pacific grove\n",
      "Retrieving weather data for city number 245:  abu zabad\n",
      "Retrieving weather data for city number 246:  rawson\n",
      "Retrieving weather data for city number 247:  vila\n",
      "Retrieving weather data for city number 248:  todos santos\n",
      "Retrieving weather data for city number 249:  kahului\n",
      "Retrieving weather data for city number 250:  xiongyue\n",
      "Retrieving weather data for city number 251:  elko\n",
      "Retrieving weather data for city number 252:  constitucion\n",
      "belushya guba not found, skip this one\n",
      "Retrieving weather data for city number 254:  mareeba\n",
      "Retrieving weather data for city number 255:  nizhnyaya omka\n",
      "Retrieving weather data for city number 256:  tres lagoas\n",
      "Retrieving weather data for city number 257:  meulaboh\n",
      "Retrieving weather data for city number 258:  esso\n",
      "Retrieving weather data for city number 259:  luwuk\n",
      "Retrieving weather data for city number 260:  winneba\n",
      "Retrieving weather data for city number 261:  faridpur\n",
      "ngukurr not found, skip this one\n",
      "Retrieving weather data for city number 263:  golden\n",
      "Retrieving weather data for city number 264:  topeka\n",
      "Retrieving weather data for city number 265:  dingzhou\n",
      "Retrieving weather data for city number 266:  kandrian\n",
      "Retrieving weather data for city number 267:  sillamae\n",
      "Retrieving weather data for city number 268:  knysna\n",
      "Retrieving weather data for city number 269:  tuatapere\n",
      "Retrieving weather data for city number 270:  ambon\n",
      "Retrieving weather data for city number 271:  port lincoln\n",
      "Retrieving weather data for city number 272:  saint anthony\n",
      "Retrieving weather data for city number 273:  vryburg\n",
      "Retrieving weather data for city number 274:  inuvik\n",
      "Retrieving weather data for city number 275:  kupang\n",
      "Retrieving weather data for city number 276:  tiksi\n",
      "Retrieving weather data for city number 277:  san patricio\n",
      "Retrieving weather data for city number 278:  cotonou\n",
      "Retrieving weather data for city number 279:  clyde river\n",
      "Retrieving weather data for city number 280:  beira\n",
      "Retrieving weather data for city number 281:  haapiti\n",
      "Retrieving weather data for city number 282:  tahe\n",
      "Retrieving weather data for city number 283:  estepona\n",
      "Retrieving weather data for city number 284:  lompoc\n",
      "Retrieving weather data for city number 285:  mount isa\n",
      "Retrieving weather data for city number 286:  waunakee\n",
      "Retrieving weather data for city number 287:  vuktyl\n",
      "Retrieving weather data for city number 288:  camacha\n",
      "Retrieving weather data for city number 289:  bac lieu\n",
      "talah not found, skip this one\n",
      "Retrieving weather data for city number 291:  vila velha\n",
      "Retrieving weather data for city number 292:  escanaba\n",
      "Retrieving weather data for city number 293:  mangrol\n",
      "Retrieving weather data for city number 294:  asau\n",
      "Retrieving weather data for city number 295:  longyearbyen\n",
      "Retrieving weather data for city number 296:  kapoeta\n",
      "Retrieving weather data for city number 297:  klaksvik\n",
      "Retrieving weather data for city number 298:  alofi\n",
      "opobo not found, skip this one\n",
      "Retrieving weather data for city number 300:  fortuna\n",
      "Retrieving weather data for city number 301:  acapulco\n",
      "Retrieving weather data for city number 302:  haines junction\n",
      "Retrieving weather data for city number 303:  vila franca do campo\n",
      "Retrieving weather data for city number 304:  petit goave\n",
      "Retrieving weather data for city number 305:  emerald\n",
      "Retrieving weather data for city number 306:  yeppoon\n",
      "Retrieving weather data for city number 307:  aksu\n",
      "Retrieving weather data for city number 308:  uspenka\n",
      "Retrieving weather data for city number 309:  lagoa\n",
      "Retrieving weather data for city number 310:  lata\n",
      "Retrieving weather data for city number 311:  salalah\n",
      "Retrieving weather data for city number 312:  amapa\n",
      "Retrieving weather data for city number 313:  prince rupert\n",
      "Retrieving weather data for city number 314:  colomi\n",
      "Retrieving weather data for city number 315:  belyy yar\n",
      "Retrieving weather data for city number 316:  neftekamsk\n",
      "Retrieving weather data for city number 317:  nchelenge\n",
      "Retrieving weather data for city number 318:  walvis bay\n",
      "Retrieving weather data for city number 319:  mandalgovi\n",
      "Retrieving weather data for city number 320:  huarmey\n",
      "Retrieving weather data for city number 321:  morristown\n",
      "Retrieving weather data for city number 322:  aasiaat\n",
      "Retrieving weather data for city number 323:  kruisfontein\n",
      "Retrieving weather data for city number 324:  karratha\n",
      "Retrieving weather data for city number 325:  solnechnyy\n",
      "Retrieving weather data for city number 326:  coihaique\n",
      "Retrieving weather data for city number 327:  pochutla\n",
      "Retrieving weather data for city number 328:  touros\n",
      "Retrieving weather data for city number 329:  kemin\n",
      "Retrieving weather data for city number 330:  bayanday\n",
      "Retrieving weather data for city number 331:  luanda\n",
      "Retrieving weather data for city number 332:  nizhniy odes\n",
      "azimur not found, skip this one\n",
      "Retrieving weather data for city number 334:  rocha\n",
      "Retrieving weather data for city number 335:  taybad\n",
      "Retrieving weather data for city number 336:  rudarpur\n",
      "Retrieving weather data for city number 337:  beloha\n",
      "Retrieving weather data for city number 338:  codrington\n",
      "Retrieving weather data for city number 339:  ancud\n",
      "Retrieving weather data for city number 340:  sistranda\n",
      "tumannyy not found, skip this one\n",
      "Retrieving weather data for city number 342:  nanortalik\n",
      "Retrieving weather data for city number 343:  asosa\n",
      "Retrieving weather data for city number 344:  kyra\n",
      "Retrieving weather data for city number 345:  sola\n",
      "Retrieving weather data for city number 346:  isangel\n",
      "bolshiye uki not found, skip this one\n",
      "Retrieving weather data for city number 348:  kutum\n",
      "Retrieving weather data for city number 349:  tasiilaq\n",
      "Retrieving weather data for city number 350:  fukue\n",
      "Retrieving weather data for city number 351:  samarai\n",
      "Retrieving weather data for city number 352:  benalla\n",
      "Retrieving weather data for city number 353:  qasigiannguit\n",
      "Retrieving weather data for city number 354:  rodeo\n",
      "Retrieving weather data for city number 355:  nioro\n",
      "Retrieving weather data for city number 356:  tokmak\n",
      "Retrieving weather data for city number 357:  georgetown\n",
      "Retrieving weather data for city number 358:  hami\n",
      "Retrieving weather data for city number 359:  shiyan\n",
      "Retrieving weather data for city number 360:  kaeo\n",
      "Retrieving weather data for city number 361:  provideniya\n",
      "Retrieving weather data for city number 362:  sohag\n",
      "Retrieving weather data for city number 363:  lasa\n",
      "Retrieving weather data for city number 364:  batsfjord\n",
      "Retrieving weather data for city number 365:  parabel\n",
      "Retrieving weather data for city number 366:  peterhead\n",
      "Retrieving weather data for city number 367:  richards bay\n",
      "Retrieving weather data for city number 368:  grootfontein\n",
      "Retrieving weather data for city number 369:  tsumeb\n",
      "Retrieving weather data for city number 370:  carutapera\n",
      "Retrieving weather data for city number 371:  gribanovskiy\n",
      "Retrieving weather data for city number 372:  leeton\n",
      "Retrieving weather data for city number 373:  auki\n",
      "Retrieving weather data for city number 374:  solnechnoye\n",
      "Retrieving weather data for city number 375:  lingao\n",
      "Retrieving weather data for city number 376:  palmas de monte alto\n",
      "Retrieving weather data for city number 377:  cap malheureux\n",
      "Retrieving weather data for city number 378:  atmakur\n",
      "Retrieving weather data for city number 379:  inta\n",
      "Retrieving weather data for city number 380:  oranjemund\n",
      "Retrieving weather data for city number 381:  quang ngai\n",
      "Retrieving weather data for city number 382:  te anau\n",
      "Retrieving weather data for city number 383:  mianyang\n",
      "Retrieving weather data for city number 384:  gweta\n",
      "Retrieving weather data for city number 385:  mitu\n",
      "Retrieving weather data for city number 386:  anchorage\n",
      "Retrieving weather data for city number 387:  changji\n",
      "jiddah not found, skip this one\n",
      "Retrieving weather data for city number 389:  bay city\n",
      "Retrieving weather data for city number 390:  smithers\n",
      "Retrieving weather data for city number 391:  barabai\n",
      "Retrieving weather data for city number 392:  biak\n",
      "Retrieving weather data for city number 393:  bacolod\n",
      "Retrieving weather data for city number 394:  belmonte\n",
      "Retrieving weather data for city number 395:  yar-sale\n",
      "Retrieving weather data for city number 396:  valencia\n",
      "Retrieving weather data for city number 397:  grong\n",
      "Retrieving weather data for city number 398:  russell\n",
      "Retrieving weather data for city number 399:  mattru\n",
      "Retrieving weather data for city number 400:  naze\n",
      "Retrieving weather data for city number 401:  lindi\n",
      "Retrieving weather data for city number 402:  shalakusha\n",
      "Retrieving weather data for city number 403:  concordia\n",
      "Retrieving weather data for city number 404:  sabha\n",
      "Retrieving weather data for city number 405:  shenjiamen\n",
      "Retrieving weather data for city number 406:  tyumentsevo\n",
      "Retrieving weather data for city number 407:  lorengau\n",
      "Retrieving weather data for city number 408:  alice springs\n",
      "Retrieving weather data for city number 409:  fairbanks\n",
      "Retrieving weather data for city number 410:  kazachinskoye\n",
      "palabuhanratu not found, skip this one\n",
      "Retrieving weather data for city number 412:  kailua\n",
      "Retrieving weather data for city number 413:  portland\n",
      "Retrieving weather data for city number 414:  alcaniz\n",
      "Retrieving weather data for city number 415:  elliot lake\n",
      "Retrieving weather data for city number 416:  keti bandar\n",
      "Retrieving weather data for city number 417:  marawi\n",
      "Retrieving weather data for city number 418:  orotukan\n",
      "Retrieving weather data for city number 419:  pafos\n",
      "Retrieving weather data for city number 420:  porto nacional\n",
      "Retrieving weather data for city number 421:  mayumba\n",
      "Retrieving weather data for city number 422:  peniche\n",
      "Retrieving weather data for city number 423:  waipawa\n",
      "sorvag not found, skip this one\n",
      "Retrieving weather data for city number 425:  berlin\n",
      "Retrieving weather data for city number 426:  tura\n",
      "Retrieving weather data for city number 427:  yasugi\n",
      "Retrieving weather data for city number 428:  khasan\n",
      "Retrieving weather data for city number 429:  faya\n",
      "Retrieving weather data for city number 430:  maceio\n",
      "Retrieving weather data for city number 431:  puerto gaitan\n",
      "Retrieving weather data for city number 432:  leningradskiy\n",
      "Retrieving weather data for city number 433:  george\n",
      "Retrieving weather data for city number 434:  north bend\n",
      "Retrieving weather data for city number 435:  port shepstone\n",
      "Retrieving weather data for city number 436:  the valley\n",
      "Retrieving weather data for city number 437:  wajima\n",
      "Retrieving weather data for city number 438:  santa maria\n",
      "Retrieving weather data for city number 439:  adrar\n",
      "Retrieving weather data for city number 440:  hay river\n",
      "Retrieving weather data for city number 441:  rovaniemi\n",
      "Retrieving weather data for city number 442:  hays\n",
      "Retrieving weather data for city number 443:  kokkola\n",
      "Retrieving weather data for city number 444:  los llanos de aridane\n",
      "Retrieving weather data for city number 445:  mezen\n",
      "Retrieving weather data for city number 446:  sinnamary\n",
      "Retrieving weather data for city number 447:  grand gaube\n",
      "Retrieving weather data for city number 448:  houma\n",
      "Retrieving weather data for city number 449:  lahij\n",
      "Retrieving weather data for city number 450:  chalmette\n",
      "Retrieving weather data for city number 451:  subkhankulovo\n",
      "Retrieving weather data for city number 452:  fredericton\n",
      "Retrieving weather data for city number 453:  tucuman\n",
      "Retrieving weather data for city number 454:  gazli\n",
      "Retrieving weather data for city number 455:  atkarsk\n",
      "Retrieving weather data for city number 456:  borovoy\n",
      "umzimvubu not found, skip this one\n",
      "Retrieving weather data for city number 458:  port augusta\n",
      "Retrieving weather data for city number 459:  chunhuhub\n",
      "Retrieving weather data for city number 460:  marondera\n",
      "Retrieving weather data for city number 461:  yaring\n",
      "Retrieving weather data for city number 462:  moncao\n",
      "saleaula not found, skip this one\n",
      "Retrieving weather data for city number 464:  bida\n",
      "turtkul not found, skip this one\n",
      "Retrieving weather data for city number 466:  nalut\n",
      "Retrieving weather data for city number 467:  barranca\n",
      "Retrieving weather data for city number 468:  high prairie\n",
      "Retrieving weather data for city number 469:  salinopolis\n",
      "Retrieving weather data for city number 470:  lazaro cardenas\n",
      "Retrieving weather data for city number 471:  capalonga\n",
      "Retrieving weather data for city number 472:  koulikoro\n",
      "Retrieving weather data for city number 473:  presidente epitacio\n",
      "Retrieving weather data for city number 474:  tocopilla\n",
      "Retrieving weather data for city number 475:  saskylakh\n",
      "Retrieving weather data for city number 476:  limbang\n",
      "Retrieving weather data for city number 477:  sangar\n",
      "Retrieving weather data for city number 478:  pacifica\n",
      "Retrieving weather data for city number 479:  ewa beach\n",
      "yomitan not found, skip this one\n",
      "Retrieving weather data for city number 481:  qadirpur ran\n",
      "Retrieving weather data for city number 482:  shalinskoye\n",
      "Retrieving weather data for city number 483:  ouango\n",
      "Retrieving weather data for city number 484:  san cristobal\n",
      "Retrieving weather data for city number 485:  ixtapa\n",
      "Retrieving weather data for city number 486:  ushumun\n",
      "Retrieving weather data for city number 487:  veraval\n",
      "Retrieving weather data for city number 488:  hailun\n",
      "Retrieving weather data for city number 489:  sharjah\n",
      "Retrieving weather data for city number 490:  komsomolskiy\n",
      "Retrieving weather data for city number 491:  san pedro\n",
      "karaul not found, skip this one\n",
      "Retrieving weather data for city number 493:  innoshima\n",
      "Retrieving weather data for city number 494:  saint-leu\n",
      "Retrieving weather data for city number 495:  catuday\n",
      "Retrieving weather data for city number 496:  tabou\n",
      "Retrieving weather data for city number 497:  nanakuli\n",
      "Retrieving weather data for city number 498:  madang\n",
      "Retrieving weather data for city number 499:  pijijiapan\n",
      "Retrieving weather data for city number 500:  cherdyn\n",
      "Retrieving weather data for city number 501:  campos\n",
      "Retrieving weather data for city number 502:  progreso\n",
      "nizhneyansk not found, skip this one\n",
      "Retrieving weather data for city number 504:  ponta do sol\n",
      "Retrieving weather data for city number 505:  marabba\n",
      "Retrieving weather data for city number 506:  sao joao del rei\n",
      "Retrieving weather data for city number 507:  dingle\n",
      "Retrieving weather data for city number 508:  inhambane\n",
      "Retrieving weather data for city number 509:  oga\n",
      "Retrieving weather data for city number 510:  cozumel\n",
      "tsihombe not found, skip this one\n",
      "Retrieving weather data for city number 512:  boditi\n",
      "Retrieving weather data for city number 513:  zenzeli\n",
      "Retrieving weather data for city number 514:  macapa\n",
      "Retrieving weather data for city number 515:  kota tinggi\n",
      "Retrieving weather data for city number 516:  ponta delgada\n",
      "Retrieving weather data for city number 517:  kannangad\n",
      "Retrieving weather data for city number 518:  nikko\n",
      "Retrieving weather data for city number 519:  novikovo\n",
      "Retrieving weather data for city number 520:  kavaratti\n",
      "Retrieving weather data for city number 521:  homer\n",
      "Retrieving weather data for city number 522:  kabale\n",
      "Retrieving weather data for city number 523:  novaya zaimka\n",
      "Retrieving weather data for city number 524:  kostomuksha\n",
      "kerteh not found, skip this one\n",
      "Retrieving weather data for city number 526:  umm bab\n",
      "Retrieving weather data for city number 527:  cacahuatepec\n",
      "Retrieving weather data for city number 528:  watsa\n",
      "Retrieving weather data for city number 529:  aklavik\n",
      "Retrieving weather data for city number 530:  lander\n",
      "Retrieving weather data for city number 531:  basco\n",
      "Retrieving weather data for city number 532:  bose\n",
      "Retrieving weather data for city number 533:  sa kaeo\n",
      "Retrieving weather data for city number 534:  sayyan\n",
      "Retrieving weather data for city number 535:  port hardy\n",
      "Retrieving weather data for city number 536:  presidencia roque saenz pena\n",
      "Retrieving weather data for city number 537:  north platte\n",
      "Retrieving weather data for city number 538:  nkhata bay\n",
      "Retrieving weather data for city number 539:  abatskoye\n",
      "Retrieving weather data for city number 540:  morondava\n",
      "Retrieving weather data for city number 541:  hinche\n",
      "Retrieving weather data for city number 542:  eyl\n",
      "Retrieving weather data for city number 543:  poya\n",
      "Retrieving weather data for city number 544:  yumen\n",
      "Retrieving weather data for city number 545:  makkaveyevo\n",
      "Retrieving weather data for city number 546:  fuerte olimpo\n",
      "skalistyy not found, skip this one\n",
      "Retrieving weather data for city number 548:  sulmona\n",
      "fatikchhari not found, skip this one\n",
      "Retrieving weather data for city number 550:  bazaliya\n",
      "Retrieving weather data for city number 551:  bengkulu\n",
      "Retrieving weather data for city number 552:  koboko\n",
      "Retrieving weather data for city number 553:  kupino\n",
      "Retrieving weather data for city number 554:  beruwala\n",
      "grand river south east not found, skip this one\n",
      "Retrieving weather data for city number 556:  conde\n",
      "Retrieving weather data for city number 557:  batagay\n",
      "bina-etawa not found, skip this one\n",
      "ruatoria not found, skip this one\n",
      "mrirt not found, skip this one\n",
      "Retrieving weather data for city number 561:  guerrero negro\n",
      "Retrieving weather data for city number 562:  wanning\n",
      "Retrieving weather data for city number 563:  henties bay\n",
      "Retrieving weather data for city number 564:  vestmannaeyjar\n",
      "Retrieving weather data for city number 565:  prado\n",
      "Retrieving weather data for city number 566:  namatanai\n",
      "Retrieving weather data for city number 567:  kalmar\n",
      "Retrieving weather data for city number 568:  tsaratanana\n",
      "Retrieving weather data for city number 569:  klyuchi\n",
      "tabiauea not found, skip this one\n",
      "Retrieving weather data for city number 571:  mitsamiouli\n",
      "Retrieving weather data for city number 572:  griffith\n",
      "Retrieving weather data for city number 573:  teahupoo\n",
      "Retrieving weather data for city number 574:  doha\n",
      "Retrieving weather data for city number 575:  calama\n",
      "Retrieving weather data for city number 576:  okha\n",
      "Retrieving weather data for city number 577:  baker city\n",
      "Retrieving weather data for city number 578:  bemidji\n",
      "Retrieving weather data for city number 579:  orangeburg\n",
      "Retrieving weather data for city number 580:  iranshahr\n",
      "Retrieving weather data for city number 581:  gorontalo\n",
      "Retrieving weather data for city number 582:  takoradi\n",
      "Retrieving weather data for city number 583:  deputatskiy\n",
      "Retrieving weather data for city number 584:  pionerskiy\n",
      "Retrieving weather data for city number 585:  batagay-alyta\n",
      "Retrieving weather data for city number 586:  laramie\n",
      "Retrieving weather data for city number 587:  cartagena del chaira\n",
      "Retrieving weather data for city number 588:  tighnabruaich\n",
      "Retrieving weather data for city number 589:  saint-michel-des-saints\n",
      "Retrieving weather data for city number 590:  daru\n",
      "Retrieving weather data for city number 591:  can\n",
      "Retrieving weather data for city number 592:  maniitsoq\n",
      "Retrieving weather data for city number 593:  sasina\n",
      "ust-kamchatsk not found, skip this one\n",
      "Retrieving weather data for city number 595:  malatya\n",
      "Retrieving weather data for city number 596:  praya\n",
      "Retrieving weather data for city number 597:  sainte-suzanne\n",
      "Retrieving weather data for city number 598:  calatayud\n",
      "Retrieving weather data for city number 599:  shache\n",
      "Retrieving weather data for city number 600:  tirano\n",
      "Retrieving weather data for city number 601:  konskie\n",
      "Retrieving weather data for city number 602:  frederico westphalen\n",
      "Retrieving weather data for city number 603:  dom pedrito\n",
      "Retrieving weather data for city number 604:  sao filipe\n",
      "Retrieving weather data for city number 605:  broome\n",
      "Retrieving weather data for city number 606:  tsevie\n",
      "Retrieving weather data for city number 607:  caravelas\n",
      "Retrieving weather data for city number 608:  winnemucca\n",
      "Retrieving weather data for city number 609:  sisimiut\n",
      "Retrieving weather data for city number 610:  ancona\n",
      "Retrieving weather data for city number 611:  solwezi\n",
      "Retrieving weather data for city number 612:  whitehorse\n",
      "qurbah not found, skip this one\n",
      "Retrieving weather data for city number 614:  pisco\n",
      "Retrieving weather data for city number 615:  cap-aux-meules\n",
      "Retrieving weather data for city number 616:  datong\n",
      "Retrieving weather data for city number 617:  khovu-aksy\n",
      "Retrieving weather data for city number 618:  laurel\n",
      "Retrieving weather data for city number 619:  weinan\n",
      "Retrieving weather data for city number 620:  pasinler\n",
      "Retrieving weather data for city number 621:  el sauzal\n",
      "Retrieving weather data for city number 622:  san luis\n",
      "Retrieving weather data for city number 623:  santa isabel do rio negro\n",
      "Retrieving weather data for city number 624:  egvekinot\n",
      "Retrieving weather data for city number 625:  nemuro\n",
      "Retrieving weather data for city number 626:  gat\n",
      "Retrieving weather data for city number 627:  caninde\n"
     ]
    }
   ],
   "source": [
    "# Retrieve articles\n",
    "\n",
    "city_names = cities\n",
    "city_weather = []\n",
    "weather = {'City':[], \n",
    "           'Lat':[], \n",
    "            'Lng':[],\n",
    "            'Max Temp':[],\n",
    "            'Humidity':[],\n",
    "           'Cloudiness':[],\n",
    "           'Wind Speed':[],\n",
    "           'Country':[],\n",
    "           'Date':[]\n",
    "             }\n",
    "i=0\n",
    "for city_name in city_names:\n",
    "    query_url = f\"http://api.openweathermap.org/data/2.5/weather?q={city_name}&units=imperial&appid={api_key}\"\n",
    "    result = requests.get(query_url).json()\n",
    "    if 'coord' in result:\n",
    "        \n",
    "        city_weather.append(result)\n",
    "        print(f\"Retrieving weather data for city number {city_names.index(city_name)+1}:  {city_name}\")\n",
    "        number = city_names.index(city_name)+1\n",
    "        \n",
    "        name = city_weather[i]['name']\n",
    "        lat = city_weather[i]['coord']['lat']\n",
    "        lng = city_weather[i]['coord']['lon']\n",
    "        cur_temp = city_weather[i]['main']['temp']\n",
    "        max_temp = city_weather[i]['main']['temp_max']\n",
    "        hum = city_weather[i]['main']['humidity']\n",
    "        clouds = city_weather[i]['clouds']['all']\n",
    "        wind = city_weather[i]['wind']['speed']\n",
    "        country = city_weather[i]['sys']['country']\n",
    "        date = city_weather[i]['dt']\n",
    "    \n",
    "        weather['City'].append(name)\n",
    "        weather['Lat'].append(lat) \n",
    "        weather['Lng'].append(lng) \n",
    "        weather['Max Temp'].append(max_temp) \n",
    "        weather['Humidity'].append(hum) \n",
    "        weather['Cloudiness'].append(clouds) \n",
    "        weather['Country'].append(country) \n",
    "        weather['Wind Speed'].append(wind)\n",
    "        weather['Date'].append(date) \n",
    "        i+=1\n",
    "    else:\n",
    "        print(f\"{city_name} not found, skip this one\")\n",
    "    \n",
    "      \n",
    "\n",
    "#print(number,name, lat, hum, clouds, wind, country, date)\n",
    "\n",
    "#print (result)   \n",
    "\n",
    "\n",
    "#pprint(city_weather)\n",
    "\n",
    "\n"
   ]
  },
  {
   "cell_type": "markdown",
   "metadata": {},
   "source": [
    "### Convert Raw Data to DataFrame\n",
    "* Export the city data into a .csv.\n",
    "* Display the DataFrame"
   ]
  },
  {
   "cell_type": "code",
   "execution_count": 4,
   "metadata": {},
   "outputs": [
    {
     "data": {
      "text/html": [
       "<div>\n",
       "<style scoped>\n",
       "    .dataframe tbody tr th:only-of-type {\n",
       "        vertical-align: middle;\n",
       "    }\n",
       "\n",
       "    .dataframe tbody tr th {\n",
       "        vertical-align: top;\n",
       "    }\n",
       "\n",
       "    .dataframe thead th {\n",
       "        text-align: right;\n",
       "    }\n",
       "</style>\n",
       "<table border=\"1\" class=\"dataframe\">\n",
       "  <thead>\n",
       "    <tr style=\"text-align: right;\">\n",
       "      <th></th>\n",
       "      <th>City</th>\n",
       "      <th>Lat</th>\n",
       "      <th>Lng</th>\n",
       "      <th>Max Temp</th>\n",
       "      <th>Humidity</th>\n",
       "      <th>Cloudiness</th>\n",
       "      <th>Wind Speed</th>\n",
       "      <th>Country</th>\n",
       "      <th>Date</th>\n",
       "    </tr>\n",
       "  </thead>\n",
       "  <tbody>\n",
       "    <tr>\n",
       "      <th>0</th>\n",
       "      <td>Pozo Colorado</td>\n",
       "      <td>-23.49</td>\n",
       "      <td>-58.80</td>\n",
       "      <td>73.83</td>\n",
       "      <td>74</td>\n",
       "      <td>51</td>\n",
       "      <td>8.41</td>\n",
       "      <td>PY</td>\n",
       "      <td>1608514074</td>\n",
       "    </tr>\n",
       "    <tr>\n",
       "      <th>1</th>\n",
       "      <td>Vaini</td>\n",
       "      <td>-21.20</td>\n",
       "      <td>-175.20</td>\n",
       "      <td>84.20</td>\n",
       "      <td>79</td>\n",
       "      <td>40</td>\n",
       "      <td>16.11</td>\n",
       "      <td>TO</td>\n",
       "      <td>1608514074</td>\n",
       "    </tr>\n",
       "    <tr>\n",
       "      <th>2</th>\n",
       "      <td>Digapahandi</td>\n",
       "      <td>19.37</td>\n",
       "      <td>84.58</td>\n",
       "      <td>57.58</td>\n",
       "      <td>41</td>\n",
       "      <td>0</td>\n",
       "      <td>2.86</td>\n",
       "      <td>IN</td>\n",
       "      <td>1608514074</td>\n",
       "    </tr>\n",
       "    <tr>\n",
       "      <th>3</th>\n",
       "      <td>Aswān</td>\n",
       "      <td>24.09</td>\n",
       "      <td>32.91</td>\n",
       "      <td>59.79</td>\n",
       "      <td>72</td>\n",
       "      <td>0</td>\n",
       "      <td>7.85</td>\n",
       "      <td>EG</td>\n",
       "      <td>1608514075</td>\n",
       "    </tr>\n",
       "    <tr>\n",
       "      <th>4</th>\n",
       "      <td>Treinta y Tres</td>\n",
       "      <td>-33.23</td>\n",
       "      <td>-54.38</td>\n",
       "      <td>56.53</td>\n",
       "      <td>63</td>\n",
       "      <td>0</td>\n",
       "      <td>6.78</td>\n",
       "      <td>UY</td>\n",
       "      <td>1608513901</td>\n",
       "    </tr>\n",
       "    <tr>\n",
       "      <th>...</th>\n",
       "      <td>...</td>\n",
       "      <td>...</td>\n",
       "      <td>...</td>\n",
       "      <td>...</td>\n",
       "      <td>...</td>\n",
       "      <td>...</td>\n",
       "      <td>...</td>\n",
       "      <td>...</td>\n",
       "      <td>...</td>\n",
       "    </tr>\n",
       "    <tr>\n",
       "      <th>578</th>\n",
       "      <td>Santa Isabel Rio Negro</td>\n",
       "      <td>-0.41</td>\n",
       "      <td>-65.02</td>\n",
       "      <td>75.65</td>\n",
       "      <td>96</td>\n",
       "      <td>100</td>\n",
       "      <td>1.97</td>\n",
       "      <td>BR</td>\n",
       "      <td>1608514154</td>\n",
       "    </tr>\n",
       "    <tr>\n",
       "      <th>579</th>\n",
       "      <td>Egvekinot</td>\n",
       "      <td>66.32</td>\n",
       "      <td>-179.17</td>\n",
       "      <td>-16.31</td>\n",
       "      <td>84</td>\n",
       "      <td>9</td>\n",
       "      <td>16.11</td>\n",
       "      <td>RU</td>\n",
       "      <td>1608514062</td>\n",
       "    </tr>\n",
       "    <tr>\n",
       "      <th>580</th>\n",
       "      <td>Nemuro</td>\n",
       "      <td>43.32</td>\n",
       "      <td>145.57</td>\n",
       "      <td>24.80</td>\n",
       "      <td>53</td>\n",
       "      <td>20</td>\n",
       "      <td>9.17</td>\n",
       "      <td>JP</td>\n",
       "      <td>1608514155</td>\n",
       "    </tr>\n",
       "    <tr>\n",
       "      <th>581</th>\n",
       "      <td>Kiryat Gat</td>\n",
       "      <td>31.61</td>\n",
       "      <td>34.76</td>\n",
       "      <td>53.01</td>\n",
       "      <td>87</td>\n",
       "      <td>0</td>\n",
       "      <td>3.36</td>\n",
       "      <td>IL</td>\n",
       "      <td>1608514024</td>\n",
       "    </tr>\n",
       "    <tr>\n",
       "      <th>582</th>\n",
       "      <td>Canindé</td>\n",
       "      <td>-4.36</td>\n",
       "      <td>-39.31</td>\n",
       "      <td>76.64</td>\n",
       "      <td>75</td>\n",
       "      <td>0</td>\n",
       "      <td>3.60</td>\n",
       "      <td>BR</td>\n",
       "      <td>1608514155</td>\n",
       "    </tr>\n",
       "  </tbody>\n",
       "</table>\n",
       "<p>583 rows × 9 columns</p>\n",
       "</div>"
      ],
      "text/plain": [
       "                       City    Lat     Lng  Max Temp  Humidity  Cloudiness  \\\n",
       "0             Pozo Colorado -23.49  -58.80     73.83        74          51   \n",
       "1                     Vaini -21.20 -175.20     84.20        79          40   \n",
       "2               Digapahandi  19.37   84.58     57.58        41           0   \n",
       "3                     Aswān  24.09   32.91     59.79        72           0   \n",
       "4            Treinta y Tres -33.23  -54.38     56.53        63           0   \n",
       "..                      ...    ...     ...       ...       ...         ...   \n",
       "578  Santa Isabel Rio Negro  -0.41  -65.02     75.65        96         100   \n",
       "579               Egvekinot  66.32 -179.17    -16.31        84           9   \n",
       "580                  Nemuro  43.32  145.57     24.80        53          20   \n",
       "581              Kiryat Gat  31.61   34.76     53.01        87           0   \n",
       "582                 Canindé  -4.36  -39.31     76.64        75           0   \n",
       "\n",
       "     Wind Speed Country        Date  \n",
       "0          8.41      PY  1608514074  \n",
       "1         16.11      TO  1608514074  \n",
       "2          2.86      IN  1608514074  \n",
       "3          7.85      EG  1608514075  \n",
       "4          6.78      UY  1608513901  \n",
       "..          ...     ...         ...  \n",
       "578        1.97      BR  1608514154  \n",
       "579       16.11      RU  1608514062  \n",
       "580        9.17      JP  1608514155  \n",
       "581        3.36      IL  1608514024  \n",
       "582        3.60      BR  1608514155  \n",
       "\n",
       "[583 rows x 9 columns]"
      ]
     },
     "execution_count": 4,
     "metadata": {},
     "output_type": "execute_result"
    }
   ],
   "source": [
    "weather_df = pd.DataFrame(weather)\n",
    "weather_df.to_csv(\"output_data/cities.csv\", index = False)\n",
    "weather_df"
   ]
  },
  {
   "cell_type": "code",
   "execution_count": null,
   "metadata": {},
   "outputs": [],
   "source": []
  },
  {
   "cell_type": "markdown",
   "metadata": {},
   "source": [
    "## Inspect the data and remove the cities where the humidity > 100%.\n",
    "----\n",
    "Skip this step if there are no cities that have humidity > 100%. "
   ]
  },
  {
   "cell_type": "code",
   "execution_count": 17,
   "metadata": {},
   "outputs": [],
   "source": [
    "len(weather_df)\n",
    "for i in range(len(weather_df)):\n",
    "    if weather_df['Humidity'][i] > 100:\n",
    "        print(i)\n",
    "        print(weather_df['Humidity'][i])\n",
    "        \n",
    "        weather_df.drop(index=i)\n",
    "\n",
    "clean_city_data = weather_df        \n",
    "len(clean_city_data)\n",
    "clean_city_data.rename(columns = {'Lat': 'Latitude'}, inplace = True)\n",
    "\n",
    "\n",
    "\n"
   ]
  },
  {
   "cell_type": "code",
   "execution_count": 18,
   "metadata": {},
   "outputs": [
    {
     "data": {
      "text/html": [
       "<div>\n",
       "<style scoped>\n",
       "    .dataframe tbody tr th:only-of-type {\n",
       "        vertical-align: middle;\n",
       "    }\n",
       "\n",
       "    .dataframe tbody tr th {\n",
       "        vertical-align: top;\n",
       "    }\n",
       "\n",
       "    .dataframe thead th {\n",
       "        text-align: right;\n",
       "    }\n",
       "</style>\n",
       "<table border=\"1\" class=\"dataframe\">\n",
       "  <thead>\n",
       "    <tr style=\"text-align: right;\">\n",
       "      <th></th>\n",
       "      <th>City</th>\n",
       "      <th>Latitude</th>\n",
       "      <th>Lng</th>\n",
       "      <th>Max Temp</th>\n",
       "      <th>Humidity</th>\n",
       "      <th>Cloudiness</th>\n",
       "      <th>Wind Speed</th>\n",
       "      <th>Country</th>\n",
       "      <th>Date</th>\n",
       "    </tr>\n",
       "  </thead>\n",
       "  <tbody>\n",
       "    <tr>\n",
       "      <th>0</th>\n",
       "      <td>Pozo Colorado</td>\n",
       "      <td>-23.49</td>\n",
       "      <td>-58.80</td>\n",
       "      <td>73.83</td>\n",
       "      <td>74</td>\n",
       "      <td>51</td>\n",
       "      <td>8.41</td>\n",
       "      <td>PY</td>\n",
       "      <td>1608514074</td>\n",
       "    </tr>\n",
       "    <tr>\n",
       "      <th>1</th>\n",
       "      <td>Vaini</td>\n",
       "      <td>-21.20</td>\n",
       "      <td>-175.20</td>\n",
       "      <td>84.20</td>\n",
       "      <td>79</td>\n",
       "      <td>40</td>\n",
       "      <td>16.11</td>\n",
       "      <td>TO</td>\n",
       "      <td>1608514074</td>\n",
       "    </tr>\n",
       "    <tr>\n",
       "      <th>2</th>\n",
       "      <td>Digapahandi</td>\n",
       "      <td>19.37</td>\n",
       "      <td>84.58</td>\n",
       "      <td>57.58</td>\n",
       "      <td>41</td>\n",
       "      <td>0</td>\n",
       "      <td>2.86</td>\n",
       "      <td>IN</td>\n",
       "      <td>1608514074</td>\n",
       "    </tr>\n",
       "    <tr>\n",
       "      <th>3</th>\n",
       "      <td>Aswān</td>\n",
       "      <td>24.09</td>\n",
       "      <td>32.91</td>\n",
       "      <td>59.79</td>\n",
       "      <td>72</td>\n",
       "      <td>0</td>\n",
       "      <td>7.85</td>\n",
       "      <td>EG</td>\n",
       "      <td>1608514075</td>\n",
       "    </tr>\n",
       "    <tr>\n",
       "      <th>4</th>\n",
       "      <td>Treinta y Tres</td>\n",
       "      <td>-33.23</td>\n",
       "      <td>-54.38</td>\n",
       "      <td>56.53</td>\n",
       "      <td>63</td>\n",
       "      <td>0</td>\n",
       "      <td>6.78</td>\n",
       "      <td>UY</td>\n",
       "      <td>1608513901</td>\n",
       "    </tr>\n",
       "  </tbody>\n",
       "</table>\n",
       "</div>"
      ],
      "text/plain": [
       "             City  Latitude     Lng  Max Temp  Humidity  Cloudiness  \\\n",
       "0   Pozo Colorado    -23.49  -58.80     73.83        74          51   \n",
       "1           Vaini    -21.20 -175.20     84.20        79          40   \n",
       "2     Digapahandi     19.37   84.58     57.58        41           0   \n",
       "3           Aswān     24.09   32.91     59.79        72           0   \n",
       "4  Treinta y Tres    -33.23  -54.38     56.53        63           0   \n",
       "\n",
       "   Wind Speed Country        Date  \n",
       "0        8.41      PY  1608514074  \n",
       "1       16.11      TO  1608514074  \n",
       "2        2.86      IN  1608514074  \n",
       "3        7.85      EG  1608514075  \n",
       "4        6.78      UY  1608513901  "
      ]
     },
     "execution_count": 18,
     "metadata": {},
     "output_type": "execute_result"
    }
   ],
   "source": [
    "clean_city_data.head()\n"
   ]
  },
  {
   "cell_type": "code",
   "execution_count": 19,
   "metadata": {},
   "outputs": [],
   "source": [
    "#Define function for making  scatter plots\n",
    "\n",
    "def make_scatter_plot(df, x_col, y_col):\n",
    "    \"This creates a scatter plot given a list of x values, y values, x label, y label and title\"\n",
    "    x = df[x_col]\n",
    "    y = df[y_col]\n",
    "    \n",
    "    plt.scatter(x, y)\n",
    "    plt.xlabel(x_col)\n",
    "    plt.ylabel(y_col)\n",
    "    plt.title(f\"{y_col} as a function of {x_col}\")\n",
    "    plt.savefig(f\"{x_col}_{y_col}.png\")\n",
    "    plt.ylim(min(y)-10,max(y)+10)\n",
    "    \n",
    "    linregress(x,y)\n",
    "    reg = linregress(x,y)\n",
    "    reg_line = reg[0]*x + reg[1]\n",
    "\n",
    "    plt.plot(x,reg_line, color=\"red\")\n",
    "    r_squared = round(reg[2]**2,2)\n",
    "    print(f\"r squared = {r_squared}\")\n",
    "              \n"
   ]
  },
  {
   "cell_type": "markdown",
   "metadata": {},
   "source": [
    "## Latitude vs. Temperature Plot"
   ]
  },
  {
   "cell_type": "code",
   "execution_count": 20,
   "metadata": {
    "scrolled": true
   },
   "outputs": [
    {
     "name": "stdout",
     "output_type": "stream",
     "text": [
      "r squared = 0.58\n"
     ]
    },
    {
     "data": {
      "image/png": "[encoded data removed]",
      "text/plain": [
       "<Figure size 432x288 with 1 Axes>"
      ]
     },
     "metadata": {
      "needs_background": "light"
     },
     "output_type": "display_data"
    }
   ],
   "source": [
    "make_scatter_plot(clean_city_data, 'Latitude', 'Max Temp')\n"
   ]
  },
  {
   "cell_type": "markdown",
   "metadata": {},
   "source": [
    "## Latitude vs. Humidity Plot"
   ]
  },
  {
   "cell_type": "code",
   "execution_count": 21,
   "metadata": {},
   "outputs": [
    {
     "name": "stdout",
     "output_type": "stream",
     "text": [
      "r squared = 0.04\n"
     ]
    },
    {
     "data": {
      "image/png": "[encoded data removed]",
      "text/plain": [
       "<Figure size 432x288 with 1 Axes>"
      ]
     },
     "metadata": {
      "needs_background": "light"
     },
     "output_type": "display_data"
    }
   ],
   "source": [
    "make_scatter_plot(clean_city_data,'Latitude','Humidity')"
   ]
  },
  {
   "cell_type": "markdown",
   "metadata": {},
   "source": [
    "## Latitude vs. Cloudiness Plot"
   ]
  },
  {
   "cell_type": "code",
   "execution_count": 22,
   "metadata": {},
   "outputs": [
    {
     "name": "stdout",
     "output_type": "stream",
     "text": [
      "r squared = 0.01\n"
     ]
    },
    {
     "data": {
      "image/png": "[encoded data removed]",
      "text/plain": [
       "<Figure size 432x288 with 1 Axes>"
      ]
     },
     "metadata": {
      "needs_background": "light"
     },
     "output_type": "display_data"
    }
   ],
   "source": [
    "make_scatter_plot(clean_city_data,'Latitude','Cloudiness')"
   ]
  },
  {
   "cell_type": "markdown",
   "metadata": {},
   "source": [
    "## Latitude vs. Wind Speed Plot"
   ]
  },
  {
   "cell_type": "code",
   "execution_count": 23,
   "metadata": {},
   "outputs": [
    {
     "name": "stdout",
     "output_type": "stream",
     "text": [
      "r squared = 0.0\n"
     ]
    },
    {
     "data": {
      "image/png": "[encoded data removed]",
      "text/plain": [
       "<Figure size 432x288 with 1 Axes>"
      ]
     },
     "metadata": {
      "needs_background": "light"
     },
     "output_type": "display_data"
    }
   ],
   "source": [
    "make_scatter_plot(clean_city_data, 'Latitude','Wind Speed')"
   ]
  },
  {
   "cell_type": "markdown",
   "metadata": {},
   "source": [
    "## Linear Regression"
   ]
  },
  {
   "cell_type": "code",
   "execution_count": 30,
   "metadata": {},
   "outputs": [
    {
     "data": {
      "text/plain": [
       "583"
      ]
     },
     "execution_count": 30,
     "metadata": {},
     "output_type": "execute_result"
    }
   ],
   "source": [
    "clean_city_data.head()\n",
    "north = clean_city_data[clean_city_data['Lng']>0]\n",
    "north.head()\n",
    "len(north)\n",
    "\n",
    "south = clean_city_data[clean_city_data['Lng']<0]\n",
    "south.head()\n",
    "len(south)    "
   ]
  },
  {
   "cell_type": "markdown",
   "metadata": {},
   "source": [
    "####  Northern Hemisphere - Max Temp vs. Latitude Linear Regression"
   ]
  },
  {
   "cell_type": "code",
   "execution_count": 31,
   "metadata": {},
   "outputs": [
    {
     "name": "stdout",
     "output_type": "stream",
     "text": [
      "r squared = 0.65\n"
     ]
    },
    {
     "data": {
      "image/png": "[encoded data removed]",
      "text/plain": [
       "<Figure size 432x288 with 1 Axes>"
      ]
     },
     "metadata": {
      "needs_background": "light"
     },
     "output_type": "display_data"
    }
   ],
   "source": [
    "make_scatter_plot(north, 'Latitude','Max Temp')"
   ]
  },
  {
   "cell_type": "markdown",
   "metadata": {},
   "source": [
    "####  Southern Hemisphere - Max Temp vs. Latitude Linear Regression"
   ]
  },
  {
   "cell_type": "code",
   "execution_count": 32,
   "metadata": {},
   "outputs": [
    {
     "name": "stdout",
     "output_type": "stream",
     "text": [
      "r squared = 0.51\n"
     ]
    },
    {
     "data": {
      "image/png": "[encoded data removed]",
      "text/plain": [
       "<Figure size 432x288 with 1 Axes>"
      ]
     },
     "metadata": {
      "needs_background": "light"
     },
     "output_type": "display_data"
    }
   ],
   "source": [
    "make_scatter_plot(south, 'Latitude','Max Temp')"
   ]
  },
  {
   "cell_type": "markdown",
   "metadata": {},
   "source": [
    "####  Northern Hemisphere - Humidity (%) vs. Latitude Linear Regression"
   ]
  },
  {
   "cell_type": "code",
   "execution_count": 33,
   "metadata": {},
   "outputs": [
    {
     "name": "stdout",
     "output_type": "stream",
     "text": [
      "r squared = 0.07\n"
     ]
    },
    {
     "data": {
      "image/png": "[encoded data removed]",
      "text/plain": [
       "<Figure size 432x288 with 1 Axes>"
      ]
     },
     "metadata": {
      "needs_background": "light"
     },
     "output_type": "display_data"
    }
   ],
   "source": [
    "make_scatter_plot(north, 'Latitude','Humidity')"
   ]
  },
  {
   "cell_type": "markdown",
   "metadata": {},
   "source": [
    "####  Southern Hemisphere - Humidity (%) vs. Latitude Linear Regression"
   ]
  },
  {
   "cell_type": "code",
   "execution_count": 34,
   "metadata": {},
   "outputs": [
    {
     "name": "stdout",
     "output_type": "stream",
     "text": [
      "r squared = 0.02\n"
     ]
    },
    {
     "data": {
      "image/png": "[encoded data removed]",
      "text/plain": [
       "<Figure size 432x288 with 1 Axes>"
      ]
     },
     "metadata": {
      "needs_background": "light"
     },
     "output_type": "display_data"
    }
   ],
   "source": [
    "make_scatter_plot(south, 'Latitude','Humidity')"
   ]
  },
  {
   "cell_type": "markdown",
   "metadata": {},
   "source": [
    "####  Northern Hemisphere - Cloudiness (%) vs. Latitude Linear Regression"
   ]
  },
  {
   "cell_type": "code",
   "execution_count": 35,
   "metadata": {},
   "outputs": [
    {
     "name": "stdout",
     "output_type": "stream",
     "text": [
      "r squared = 0.0\n"
     ]
    },
    {
     "data": {
      "image/png": "[encoded data removed]",
      "text/plain": [
       "<Figure size 432x288 with 1 Axes>"
      ]
     },
     "metadata": {
      "needs_background": "light"
     },
     "output_type": "display_data"
    }
   ],
   "source": [
    "make_scatter_plot(north, 'Latitude','Cloudiness')"
   ]
  },
  {
   "cell_type": "markdown",
   "metadata": {},
   "source": [
    "####  Southern Hemisphere - Cloudiness (%) vs. Latitude Linear Regression"
   ]
  },
  {
   "cell_type": "code",
   "execution_count": 36,
   "metadata": {},
   "outputs": [
    {
     "name": "stdout",
     "output_type": "stream",
     "text": [
      "r squared = 0.03\n"
     ]
    },
    {
     "data": {
      "image/png": "[encoded data removed]",
      "text/plain": [
       "<Figure size 432x288 with 1 Axes>"
      ]
     },
     "metadata": {
      "needs_background": "light"
     },
     "output_type": "display_data"
    }
   ],
   "source": [
    "make_scatter_plot(south, 'Latitude','Cloudiness')"
   ]
  },
  {
   "cell_type": "markdown",
   "metadata": {},
   "source": [
    "####  Northern Hemisphere - Wind Speed (mph) vs. Latitude Linear Regression"
   ]
  },
  {
   "cell_type": "code",
   "execution_count": 37,
   "metadata": {},
   "outputs": [
    {
     "name": "stdout",
     "output_type": "stream",
     "text": [
      "r squared = 0.0\n"
     ]
    },
    {
     "data": {
      "image/png": "[encoded data removed]",
      "text/plain": [
       "<Figure size 432x288 with 1 Axes>"
      ]
     },
     "metadata": {
      "needs_background": "light"
     },
     "output_type": "display_data"
    }
   ],
   "source": [
    "make_scatter_plot(north, 'Latitude','Wind Speed')"
   ]
  },
  {
   "cell_type": "markdown",
   "metadata": {},
   "source": [
    "####  Southern Hemisphere - Wind Speed (mph) vs. Latitude Linear Regression"
   ]
  },
  {
   "cell_type": "code",
   "execution_count": 38,
   "metadata": {},
   "outputs": [
    {
     "name": "stdout",
     "output_type": "stream",
     "text": [
      "r squared = 0.02\n"
     ]
    },
    {
     "data": {
      "image/png": "[encoded data removed]",
      "text/plain": [
       "<Figure size 432x288 with 1 Axes>"
      ]
     },
     "metadata": {
      "needs_background": "light"
     },
     "output_type": "display_data"
    }
   ],
   "source": [
    "make_scatter_plot(south, 'Latitude','Humidity')"
   ]
  },
  {
   "cell_type": "code",
   "execution_count": null,
   "metadata": {},
   "outputs": [],
   "source": []
  }
 ],
 "metadata": {
  "anaconda-cloud": {},
  "kernel_info": {
   "name": "python3"
  },
  "kernelspec": {
   "display_name": "Python [conda env:PythonData] *",
   "language": "python",
   "name": "conda-env-PythonData-py"
  },
  "language_info": {
   "codemirror_mode": {
    "name": "ipython",
    "version": 3
   },
   "file_extension": ".py",
   "mimetype": "text/x-python",
   "name": "python",
   "nbconvert_exporter": "python",
   "pygments_lexer": "ipython3",
   "version": "3.6.10"
  },
  "latex_envs": {
   "LaTeX_envs_menu_present": true,
   "autoclose": false,
   "autocomplete": true,
   "bibliofile": "biblio.bib",
   "cite_by": "apalike",
   "current_citInitial": 1,
   "eqLabelWithNumbers": true,
   "eqNumInitial": 1,
   "hotkeys": {
    "equation": "Ctrl-E",
    "itemize": "Ctrl-I"
   },
   "labels_anchors": false,
   "latex_user_defs": false,
   "report_style_numbering": false,
   "user_envs_cfg": false
  },
  "nteract": {
   "version": "0.12.3"
  }
 },
 "nbformat": 4,
 "nbformat_minor": 4
}
