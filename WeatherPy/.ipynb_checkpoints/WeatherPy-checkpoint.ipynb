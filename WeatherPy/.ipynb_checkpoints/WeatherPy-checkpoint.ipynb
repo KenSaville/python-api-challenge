{
 "cells": [
  {
   "cell_type": "markdown",
   "metadata": {},
   "source": [
    "# WeatherPy\n",
    "----\n",
    "\n",
    "#### Note\n",
    "* Instructions have been included for each segment. You do not have to follow them exactly, but they are included to help you think through the steps."
   ]
  },
  {
   "cell_type": "code",
   "execution_count": 1,
   "metadata": {
    "scrolled": true
   },
   "outputs": [],
   "source": [
    "# Dependencies and Setup\n",
    "import matplotlib.pyplot as plt\n",
    "import pandas as pd\n",
    "import numpy as np\n",
    "import requests\n",
    "import time\n",
    "from scipy.stats import linregress\n",
    "from pprint import pprint\n",
    "import json\n",
    "import random\n",
    "\n",
    "# Import API key\n",
    "from config import api_key\n",
    "\n",
    "#print(api_key)\n",
    "\n",
    "# Incorporated citipy to determine city based on latitude and longitude\n",
    "from citipy import citipy\n",
    "\n",
    "# Output File (CSV)\n",
    "output_data_file = \"output_data/cities.csv\"\n",
    "\n",
    "# Range of latitudes and longitudes\n",
    "lat_range = (-90, 90)\n",
    "lng_range = (-180, 180)\n",
    "\n",
    "from datetime import date"
   ]
  },
  {
   "cell_type": "markdown",
   "metadata": {},
   "source": [
    "## Generate Cities List"
   ]
  },
  {
   "cell_type": "code",
   "execution_count": 2,
   "metadata": {},
   "outputs": [
    {
     "name": "stdout",
     "output_type": "stream",
     "text": [
      "604\n"
     ]
    }
   ],
   "source": [
    "# List for holding lat_lngs and cities\n",
    "lat_lngs = []\n",
    "cities = []\n",
    "\n",
    "# Create a set of random lat and lng combinations\n",
    "lats = np.random.uniform(lat_range[0], lat_range[1], size=1500)\n",
    "lngs = np.random.uniform(lng_range[0], lng_range[1], size=1500)\n",
    "lat_lngs = zip(lats, lngs)\n",
    "\n",
    "# Identify nearest city for each lat, lng combination\n",
    "for lat_lng in lat_lngs:\n",
    "    city = citipy.nearest_city(lat_lng[0], lat_lng[1]).city_name\n",
    "    \n",
    "    # If the city is unique, then add it to a our cities list\n",
    "    if city not in cities:\n",
    "        cities.append(city)\n",
    "\n",
    "# Print the city count to confirm sufficient count\n",
    "print(len(cities))\n",
    "\n"
   ]
  },
  {
   "cell_type": "markdown",
   "metadata": {},
   "source": [
    "### Perform API Calls\n",
    "* Perform a weather check on each city using a series of successive API calls.\n",
    "* Include a print log of each city as it'sbeing processed (with the city number and city name).\n"
   ]
  },
  {
   "cell_type": "code",
   "execution_count": 3,
   "metadata": {
    "scrolled": true
   },
   "outputs": [
    {
     "name": "stdout",
     "output_type": "stream",
     "text": [
      "Retrieving weather data for city number 1:  cherskiy\n",
      "Retrieving weather data for city number 2:  port augusta\n",
      "Retrieving weather data for city number 3:  port lincoln\n",
      "Retrieving weather data for city number 4:  hasaki\n",
      "Retrieving weather data for city number 5:  talnakh\n",
      "Retrieving weather data for city number 6:  zhanakorgan\n",
      "Retrieving weather data for city number 7:  butaritari\n",
      "Retrieving weather data for city number 8:  lebu\n",
      "Retrieving weather data for city number 9:  port hedland\n",
      "Retrieving weather data for city number 10:  severo-kurilsk\n",
      "Retrieving weather data for city number 11:  ponta do sol\n",
      "illoqqortoormiut not found, skip this one\n",
      "Retrieving weather data for city number 13:  klaksvik\n",
      "Retrieving weather data for city number 14:  merauke\n",
      "Retrieving weather data for city number 15:  lapusnicel\n",
      "Retrieving weather data for city number 16:  rikitea\n",
      "Retrieving weather data for city number 17:  vaini\n",
      "Retrieving weather data for city number 18:  yellowknife\n",
      "Retrieving weather data for city number 19:  korla\n",
      "Retrieving weather data for city number 20:  kapaa\n",
      "Retrieving weather data for city number 21:  atuona\n",
      "Retrieving weather data for city number 22:  georgetown\n",
      "Retrieving weather data for city number 23:  qaanaaq\n",
      "Retrieving weather data for city number 24:  bambous virieux\n",
      "Retrieving weather data for city number 25:  chokurdakh\n",
      "Retrieving weather data for city number 26:  airai\n",
      "Retrieving weather data for city number 27:  powell river\n",
      "Retrieving weather data for city number 28:  hambantota\n",
      "Retrieving weather data for city number 29:  lagoa\n",
      "Retrieving weather data for city number 30:  barrow\n",
      "Retrieving weather data for city number 31:  hirtshals\n",
      "Retrieving weather data for city number 32:  gigmoto\n",
      "Retrieving weather data for city number 33:  sur\n",
      "Retrieving weather data for city number 34:  meulaboh\n",
      "Retrieving weather data for city number 35:  samandag\n",
      "Retrieving weather data for city number 36:  punta arenas\n",
      "Retrieving weather data for city number 37:  busselton\n",
      "Retrieving weather data for city number 38:  madras\n",
      "Retrieving weather data for city number 39:  bredasdorp\n",
      "Retrieving weather data for city number 40:  ayia galini\n",
      "Retrieving weather data for city number 41:  esperance\n",
      "Retrieving weather data for city number 42:  yarada\n",
      "Retrieving weather data for city number 43:  svetlogorsk\n",
      "Retrieving weather data for city number 44:  mahendranagar\n",
      "Retrieving weather data for city number 45:  karratha\n",
      "Retrieving weather data for city number 46:  shingu\n",
      "Retrieving weather data for city number 47:  tiksi\n",
      "Retrieving weather data for city number 48:  alakurtti\n",
      "deh rawud not found, skip this one\n",
      "Retrieving weather data for city number 50:  namibe\n",
      "Retrieving weather data for city number 51:  dukat\n",
      "Retrieving weather data for city number 52:  albany\n",
      "Retrieving weather data for city number 53:  ushuaia\n",
      "Retrieving weather data for city number 54:  sabang\n",
      "dinsor not found, skip this one\n",
      "nizhneyansk not found, skip this one\n",
      "sentyabrskiy not found, skip this one\n",
      "Retrieving weather data for city number 58:  mar del plata\n",
      "Retrieving weather data for city number 59:  sao filipe\n",
      "Retrieving weather data for city number 60:  mataura\n",
      "Retrieving weather data for city number 61:  ust-karsk\n",
      "Retrieving weather data for city number 62:  yulara\n",
      "Retrieving weather data for city number 63:  bull savanna\n",
      "Retrieving weather data for city number 64:  ak-dovurak\n",
      "Retrieving weather data for city number 65:  ajdabiya\n",
      "Retrieving weather data for city number 66:  carnarvon\n",
      "taolanaro not found, skip this one\n",
      "Retrieving weather data for city number 68:  jiayuguan\n",
      "Retrieving weather data for city number 69:  poronaysk\n",
      "Retrieving weather data for city number 70:  port alfred\n",
      "Retrieving weather data for city number 71:  dingle\n",
      "Retrieving weather data for city number 72:  virginia beach\n",
      "Retrieving weather data for city number 73:  brebes\n",
      "Retrieving weather data for city number 74:  bluff\n",
      "Retrieving weather data for city number 75:  biak\n",
      "Retrieving weather data for city number 76:  boende\n",
      "Retrieving weather data for city number 77:  saint-philippe\n",
      "Retrieving weather data for city number 78:  san lawrenz\n",
      "Retrieving weather data for city number 79:  terrace bay\n",
      "umzimvubu not found, skip this one\n",
      "Retrieving weather data for city number 81:  kavieng\n",
      "Retrieving weather data for city number 82:  baishishan\n",
      "kuche not found, skip this one\n",
      "Retrieving weather data for city number 84:  lasa\n",
      "Retrieving weather data for city number 85:  lisakovsk\n",
      "Retrieving weather data for city number 86:  vardo\n",
      "Retrieving weather data for city number 87:  pedernales\n",
      "Retrieving weather data for city number 88:  hobart\n",
      "Retrieving weather data for city number 89:  chuy\n",
      "Retrieving weather data for city number 90:  kota kinabalu\n",
      "Retrieving weather data for city number 91:  castro\n",
      "belushya guba not found, skip this one\n",
      "Retrieving weather data for city number 93:  hermanus\n",
      "Retrieving weather data for city number 94:  alexandria\n",
      "Retrieving weather data for city number 95:  naron\n",
      "Retrieving weather data for city number 96:  riyadh\n",
      "Retrieving weather data for city number 97:  popondetta\n",
      "Retrieving weather data for city number 98:  mandalgovi\n",
      "Retrieving weather data for city number 99:  pevek\n",
      "Retrieving weather data for city number 100:  murakami\n",
      "Retrieving weather data for city number 101:  roma\n",
      "Retrieving weather data for city number 102:  clyde river\n",
      "Retrieving weather data for city number 103:  new norfolk\n",
      "Retrieving weather data for city number 104:  hamilton\n",
      "Retrieving weather data for city number 105:  ust-maya\n",
      "Retrieving weather data for city number 106:  ust-kuyga\n",
      "Retrieving weather data for city number 107:  samarai\n",
      "Retrieving weather data for city number 108:  carutapera\n",
      "barentsburg not found, skip this one\n",
      "Retrieving weather data for city number 110:  east london\n",
      "Retrieving weather data for city number 111:  pangnirtung\n",
      "Retrieving weather data for city number 112:  fomboni\n",
      "Retrieving weather data for city number 113:  ukiah\n",
      "Retrieving weather data for city number 114:  tuktoyaktuk\n",
      "Retrieving weather data for city number 115:  torbay\n",
      "Retrieving weather data for city number 116:  cape town\n",
      "ngukurr not found, skip this one\n",
      "Retrieving weather data for city number 118:  matara\n",
      "Retrieving weather data for city number 119:  san quintin\n",
      "Retrieving weather data for city number 120:  portland\n",
      "Retrieving weather data for city number 121:  sao joao da barra\n",
      "Retrieving weather data for city number 122:  klyuchi\n",
      "Retrieving weather data for city number 123:  leh\n",
      "Retrieving weather data for city number 124:  thunder bay\n",
      "Retrieving weather data for city number 125:  luderitz\n",
      "Retrieving weather data for city number 126:  isangel\n",
      "Retrieving weather data for city number 127:  alofi\n",
      "Retrieving weather data for city number 128:  tasiilaq\n",
      "Retrieving weather data for city number 129:  piro\n",
      "Retrieving weather data for city number 130:  conroe\n",
      "tingrela not found, skip this one\n",
      "Retrieving weather data for city number 132:  jamestown\n",
      "Retrieving weather data for city number 133:  akyab\n",
      "Retrieving weather data for city number 134:  buzmeyin\n",
      "Retrieving weather data for city number 135:  caohe\n",
      "kleck not found, skip this one\n",
      "Retrieving weather data for city number 137:  katangli\n",
      "Retrieving weather data for city number 138:  smolenka\n",
      "Retrieving weather data for city number 139:  kruisfontein\n",
      "Retrieving weather data for city number 140:  aklavik\n",
      "Retrieving weather data for city number 141:  jiaozuo\n",
      "Retrieving weather data for city number 142:  gat\n",
      "Retrieving weather data for city number 143:  banes\n",
      "Retrieving weather data for city number 144:  erenhot\n",
      "Retrieving weather data for city number 145:  salinas\n",
      "Retrieving weather data for city number 146:  paamiut\n",
      "Retrieving weather data for city number 147:  vostok\n",
      "Retrieving weather data for city number 148:  nieuw amsterdam\n",
      "karaul not found, skip this one\n",
      "Retrieving weather data for city number 150:  tuatapere\n",
      "Retrieving weather data for city number 151:  huarmey\n",
      "attawapiskat not found, skip this one\n",
      "Retrieving weather data for city number 153:  laguna\n",
      "Retrieving weather data for city number 154:  puerto ayora\n",
      "Retrieving weather data for city number 155:  waipawa\n",
      "Retrieving weather data for city number 156:  kaitangata\n"
     ]
    },
    {
     "name": "stdout",
     "output_type": "stream",
     "text": [
      "Retrieving weather data for city number 157:  sinnamary\n",
      "Retrieving weather data for city number 158:  minsk\n",
      "Retrieving weather data for city number 159:  port elizabeth\n",
      "Retrieving weather data for city number 160:  nyurba\n",
      "Retrieving weather data for city number 161:  bethel\n",
      "Retrieving weather data for city number 162:  mahibadhoo\n",
      "Retrieving weather data for city number 163:  neiafu\n",
      "Retrieving weather data for city number 164:  saldanha\n",
      "Retrieving weather data for city number 165:  kodiak\n",
      "Retrieving weather data for city number 166:  pingliang\n",
      "mys shmidta not found, skip this one\n",
      "Retrieving weather data for city number 168:  qasigiannguit\n",
      "samusu not found, skip this one\n",
      "Retrieving weather data for city number 170:  alamosa\n",
      "Retrieving weather data for city number 171:  beian\n",
      "Retrieving weather data for city number 172:  kuching\n",
      "Retrieving weather data for city number 173:  hay river\n",
      "Retrieving weather data for city number 174:  palauig\n",
      "Retrieving weather data for city number 175:  saskylakh\n",
      "Retrieving weather data for city number 176:  tonekabon\n",
      "Retrieving weather data for city number 177:  arraial do cabo\n",
      "Retrieving weather data for city number 178:  poum\n",
      "Retrieving weather data for city number 179:  celestun\n",
      "Retrieving weather data for city number 180:  formosa do rio preto\n",
      "Retrieving weather data for city number 181:  suining\n",
      "Retrieving weather data for city number 182:  ganta\n",
      "Retrieving weather data for city number 183:  el jicaro\n",
      "Retrieving weather data for city number 184:  dongsheng\n",
      "Retrieving weather data for city number 185:  monzon\n",
      "Retrieving weather data for city number 186:  dharchula\n",
      "Retrieving weather data for city number 187:  waw\n",
      "Retrieving weather data for city number 188:  hithadhoo\n",
      "Retrieving weather data for city number 189:  longyearbyen\n",
      "Retrieving weather data for city number 190:  tipuani\n",
      "Retrieving weather data for city number 191:  cidreira\n",
      "Retrieving weather data for city number 192:  avarua\n",
      "Retrieving weather data for city number 193:  itarema\n",
      "Retrieving weather data for city number 194:  henties bay\n",
      "Retrieving weather data for city number 195:  yumen\n",
      "Retrieving weather data for city number 196:  petropavlovsk-kamchatskiy\n",
      "Retrieving weather data for city number 197:  langsa\n",
      "Retrieving weather data for city number 198:  te anau\n",
      "Retrieving weather data for city number 199:  salalah\n",
      "Retrieving weather data for city number 200:  gushikawa\n",
      "Retrieving weather data for city number 201:  san patricio\n",
      "Retrieving weather data for city number 202:  sakaraha\n",
      "Retrieving weather data for city number 203:  hualmay\n",
      "Retrieving weather data for city number 204:  santiago de cao\n",
      "Retrieving weather data for city number 205:  asosa\n",
      "Retrieving weather data for city number 206:  churapcha\n",
      "Retrieving weather data for city number 207:  beringovskiy\n",
      "Retrieving weather data for city number 208:  iralaya\n",
      "Retrieving weather data for city number 209:  yar-sale\n",
      "Retrieving weather data for city number 210:  maicao\n",
      "Retrieving weather data for city number 211:  verkh-usugli\n",
      "Retrieving weather data for city number 212:  lavrentiya\n",
      "tsihombe not found, skip this one\n",
      "kamenskoye not found, skip this one\n",
      "Retrieving weather data for city number 215:  shimoda\n",
      "Retrieving weather data for city number 216:  arlit\n",
      "Retrieving weather data for city number 217:  nikolskoye\n",
      "Retrieving weather data for city number 218:  hilo\n",
      "Retrieving weather data for city number 219:  manakara\n",
      "Retrieving weather data for city number 220:  buarcos\n",
      "Retrieving weather data for city number 221:  comodoro rivadavia\n",
      "Retrieving weather data for city number 222:  saint-pierre\n",
      "agva not found, skip this one\n",
      "Retrieving weather data for city number 224:  pisco\n",
      "Retrieving weather data for city number 225:  saint anthony\n",
      "Retrieving weather data for city number 226:  tebingtinggi\n",
      "Retrieving weather data for city number 227:  kasongo-lunda\n",
      "Retrieving weather data for city number 228:  kitimat\n",
      "Retrieving weather data for city number 229:  beaverlodge\n",
      "Retrieving weather data for city number 230:  brandon\n",
      "Retrieving weather data for city number 231:  norman wells\n",
      "Retrieving weather data for city number 232:  coquimbo\n",
      "Retrieving weather data for city number 233:  paracuru\n",
      "Retrieving weather data for city number 234:  yebaishou\n",
      "Retrieving weather data for city number 235:  brae\n",
      "Retrieving weather data for city number 236:  tigil\n",
      "Retrieving weather data for city number 237:  amsterdam\n",
      "umm durman not found, skip this one\n",
      "Retrieving weather data for city number 239:  faanui\n",
      "Retrieving weather data for city number 240:  bosaso\n",
      "Retrieving weather data for city number 241:  geraldton\n",
      "Retrieving weather data for city number 242:  zhuhai\n",
      "Retrieving weather data for city number 243:  upernavik\n",
      "grand river south east not found, skip this one\n",
      "Retrieving weather data for city number 245:  atambua\n",
      "Retrieving weather data for city number 246:  lillehammer\n",
      "Retrieving weather data for city number 247:  fuerte olimpo\n",
      "falealupo not found, skip this one\n",
      "karauzyak not found, skip this one\n",
      "Retrieving weather data for city number 250:  souillac\n",
      "Retrieving weather data for city number 251:  zhucheng\n",
      "Retrieving weather data for city number 252:  moses lake\n",
      "Retrieving weather data for city number 253:  cayenne\n",
      "Retrieving weather data for city number 254:  husavik\n",
      "Retrieving weather data for city number 255:  komsomolskiy\n",
      "Retrieving weather data for city number 256:  bandarbeyla\n",
      "Retrieving weather data for city number 257:  ribeira grande\n",
      "Retrieving weather data for city number 258:  fairbanks\n",
      "Retrieving weather data for city number 259:  grindavik\n",
      "cheuskiny not found, skip this one\n",
      "Retrieving weather data for city number 261:  ubinskoye\n",
      "Retrieving weather data for city number 262:  bengkulu\n",
      "Retrieving weather data for city number 263:  progreso\n",
      "Retrieving weather data for city number 264:  victoria\n",
      "Retrieving weather data for city number 265:  puerto escondido\n",
      "Retrieving weather data for city number 266:  guane\n",
      "crab hill not found, skip this one\n",
      "Retrieving weather data for city number 268:  mareeba\n",
      "Retrieving weather data for city number 269:  cuamba\n",
      "Retrieving weather data for city number 270:  kahului\n",
      "Retrieving weather data for city number 271:  zarand\n",
      "Retrieving weather data for city number 272:  timizart\n",
      "meyungs not found, skip this one\n",
      "Retrieving weather data for city number 274:  garissa\n",
      "Retrieving weather data for city number 275:  linqing\n",
      "Retrieving weather data for city number 276:  richards bay\n",
      "Retrieving weather data for city number 277:  seoul\n",
      "Retrieving weather data for city number 278:  vao\n",
      "Retrieving weather data for city number 279:  klamath falls\n",
      "Retrieving weather data for city number 280:  baykit\n",
      "Retrieving weather data for city number 281:  coos bay\n",
      "vaitupu not found, skip this one\n",
      "Retrieving weather data for city number 283:  saint-augustin\n",
      "Retrieving weather data for city number 284:  katsuura\n",
      "Retrieving weather data for city number 285:  ostrovnoy\n",
      "Retrieving weather data for city number 286:  hami\n",
      "Retrieving weather data for city number 287:  thompson\n",
      "doctor pedro p. pena not found, skip this one\n",
      "Retrieving weather data for city number 289:  tilichiki\n",
      "Retrieving weather data for city number 290:  anshun\n",
      "Retrieving weather data for city number 291:  eucaliptus\n",
      "Retrieving weather data for city number 292:  toyooka\n",
      "Retrieving weather data for city number 293:  araouane\n",
      "Retrieving weather data for city number 294:  sorland\n",
      "Retrieving weather data for city number 295:  la ronge\n",
      "Retrieving weather data for city number 296:  almaznyy\n",
      "Retrieving weather data for city number 297:  fort nelson\n",
      "Retrieving weather data for city number 298:  camacha\n",
      "Retrieving weather data for city number 299:  cozumel\n",
      "Retrieving weather data for city number 300:  naze\n",
      "Retrieving weather data for city number 301:  buala\n",
      "Retrieving weather data for city number 302:  whitehorse\n",
      "Retrieving weather data for city number 303:  hervey bay\n",
      "Retrieving weather data for city number 304:  ryotsu\n",
      "Retrieving weather data for city number 305:  ratnagiri\n",
      "Retrieving weather data for city number 306:  saint-paul\n",
      "Retrieving weather data for city number 307:  xuddur\n",
      "Retrieving weather data for city number 308:  mangrul pir\n",
      "guajara-mirim not found, skip this one\n",
      "Retrieving weather data for city number 310:  rossland\n"
     ]
    },
    {
     "name": "stdout",
     "output_type": "stream",
     "text": [
      "Retrieving weather data for city number 311:  sioux lookout\n",
      "Retrieving weather data for city number 312:  narsaq\n",
      "Retrieving weather data for city number 313:  hofn\n",
      "shkotovo-26 not found, skip this one\n",
      "Retrieving weather data for city number 315:  gornopravdinsk\n",
      "Retrieving weather data for city number 316:  sembe\n",
      "Retrieving weather data for city number 317:  guerrero negro\n",
      "Retrieving weather data for city number 318:  deputatskiy\n",
      "Retrieving weather data for city number 319:  gibraleon\n",
      "Retrieving weather data for city number 320:  ranong\n",
      "Retrieving weather data for city number 321:  pekan\n",
      "Retrieving weather data for city number 322:  nantucket\n",
      "Retrieving weather data for city number 323:  cortez\n",
      "Retrieving weather data for city number 324:  parintins\n",
      "Retrieving weather data for city number 325:  vila velha\n",
      "Retrieving weather data for city number 326:  tigzirt\n",
      "Retrieving weather data for city number 327:  monrovia\n",
      "Retrieving weather data for city number 328:  braganca\n",
      "Retrieving weather data for city number 329:  quatre cocos\n",
      "Retrieving weather data for city number 330:  worcester\n",
      "nguiu not found, skip this one\n",
      "khonuu not found, skip this one\n",
      "Retrieving weather data for city number 333:  nevsehir\n",
      "Retrieving weather data for city number 334:  ishinomaki\n",
      "Retrieving weather data for city number 335:  oktyabrskiy\n",
      "mrirt not found, skip this one\n",
      "Retrieving weather data for city number 337:  palmer\n",
      "Retrieving weather data for city number 338:  kukmor\n",
      "Retrieving weather data for city number 339:  iqaluit\n",
      "Retrieving weather data for city number 340:  nanortalik\n",
      "Retrieving weather data for city number 341:  mahebourg\n",
      "Retrieving weather data for city number 342:  pastavy\n",
      "Retrieving weather data for city number 343:  manono\n",
      "Retrieving weather data for city number 344:  torrington\n",
      "Retrieving weather data for city number 345:  wollongong\n",
      "Retrieving weather data for city number 346:  grand gaube\n",
      "Retrieving weather data for city number 347:  hanmer springs\n",
      "halalo not found, skip this one\n",
      "Retrieving weather data for city number 349:  bereda\n",
      "amderma not found, skip this one\n",
      "Retrieving weather data for city number 351:  yagodnoye\n",
      "Retrieving weather data for city number 352:  valera\n",
      "Retrieving weather data for city number 353:  poya\n",
      "Retrieving weather data for city number 354:  sawakin\n",
      "Retrieving weather data for city number 355:  gogrial\n",
      "Retrieving weather data for city number 356:  odweyne\n",
      "Retrieving weather data for city number 357:  pangkalanbuun\n",
      "Retrieving weather data for city number 358:  olafsvik\n",
      "Retrieving weather data for city number 359:  sao miguel do tapuio\n",
      "Retrieving weather data for city number 360:  provideniya\n",
      "Retrieving weather data for city number 361:  coihaique\n",
      "Retrieving weather data for city number 362:  dikson\n",
      "Retrieving weather data for city number 363:  ofaqim\n",
      "Retrieving weather data for city number 364:  khani\n",
      "Retrieving weather data for city number 365:  changji\n",
      "Retrieving weather data for city number 366:  amboasary\n",
      "Retrieving weather data for city number 367:  antsla\n",
      "hihifo not found, skip this one\n",
      "Retrieving weather data for city number 369:  pochutla\n",
      "Retrieving weather data for city number 370:  hargeysa\n",
      "Retrieving weather data for city number 371:  chulman\n",
      "Retrieving weather data for city number 372:  manaira\n",
      "Retrieving weather data for city number 373:  lagos\n",
      "saleaula not found, skip this one\n",
      "Retrieving weather data for city number 375:  ambilobe\n",
      "sorvag not found, skip this one\n",
      "Retrieving weather data for city number 377:  oriximina\n",
      "Retrieving weather data for city number 378:  moron\n",
      "Retrieving weather data for city number 379:  rockport\n",
      "Retrieving weather data for city number 380:  douglas\n",
      "Retrieving weather data for city number 381:  wilkie\n",
      "Retrieving weather data for city number 382:  lompoc\n",
      "Retrieving weather data for city number 383:  endicott\n",
      "Retrieving weather data for city number 384:  weinan\n",
      "Retrieving weather data for city number 385:  ust-nera\n",
      "Retrieving weather data for city number 386:  meadow lake\n",
      "Retrieving weather data for city number 387:  nizip\n",
      "Retrieving weather data for city number 388:  ancud\n",
      "Retrieving weather data for city number 389:  srednekolymsk\n",
      "Retrieving weather data for city number 390:  broken hill\n",
      "Retrieving weather data for city number 391:  huilong\n",
      "Retrieving weather data for city number 392:  bathsheba\n",
      "Retrieving weather data for city number 393:  mahajanga\n",
      "Retrieving weather data for city number 394:  russell\n",
      "Retrieving weather data for city number 395:  dalbandin\n",
      "rungata not found, skip this one\n",
      "tumannyy not found, skip this one\n",
      "Retrieving weather data for city number 398:  sitka\n",
      "Retrieving weather data for city number 399:  leningradskiy\n",
      "Retrieving weather data for city number 400:  axim\n",
      "Retrieving weather data for city number 401:  hobyo\n",
      "Retrieving weather data for city number 402:  cheney\n",
      "Retrieving weather data for city number 403:  north bend\n",
      "Retrieving weather data for city number 404:  lar\n",
      "Retrieving weather data for city number 405:  santa marinella\n",
      "Retrieving weather data for city number 406:  pitanga\n",
      "Retrieving weather data for city number 407:  fengrun\n",
      "roches noires not found, skip this one\n",
      "Retrieving weather data for city number 409:  griffith\n",
      "Retrieving weather data for city number 410:  waddan\n",
      "Retrieving weather data for city number 411:  luanda\n",
      "Retrieving weather data for city number 412:  nouadhibou\n",
      "Retrieving weather data for city number 413:  tiznit\n",
      "Retrieving weather data for city number 414:  kurilsk\n",
      "Retrieving weather data for city number 415:  coahuayana\n",
      "Retrieving weather data for city number 416:  marinette\n",
      "Retrieving weather data for city number 417:  zyryanka\n",
      "Retrieving weather data for city number 418:  bodmin\n",
      "Retrieving weather data for city number 419:  morondava\n",
      "karkaralinsk not found, skip this one\n",
      "Retrieving weather data for city number 421:  ures\n",
      "Retrieving weather data for city number 422:  san jose\n",
      "Retrieving weather data for city number 423:  mikumi\n",
      "Retrieving weather data for city number 424:  luwuk\n",
      "Retrieving weather data for city number 425:  vila franca do campo\n",
      "Retrieving weather data for city number 426:  rock springs\n",
      "Retrieving weather data for city number 427:  pontian kecil\n",
      "Retrieving weather data for city number 428:  cabo san lucas\n",
      "Retrieving weather data for city number 429:  wamba\n",
      "Retrieving weather data for city number 430:  birao\n",
      "Retrieving weather data for city number 431:  barra do corda\n",
      "Retrieving weather data for city number 432:  kolpny\n",
      "Retrieving weather data for city number 433:  greymouth\n",
      "Retrieving weather data for city number 434:  nombre de dios\n",
      "Retrieving weather data for city number 435:  fayetteville\n",
      "Retrieving weather data for city number 436:  tabatinga\n",
      "Retrieving weather data for city number 437:  haines junction\n",
      "Retrieving weather data for city number 438:  waterloo\n",
      "Retrieving weather data for city number 439:  biltine\n",
      "Retrieving weather data for city number 440:  mudanya\n",
      "Retrieving weather data for city number 441:  sturgeon bay\n",
      "Retrieving weather data for city number 442:  nan\n",
      "Retrieving weather data for city number 443:  solnechnyy\n",
      "Retrieving weather data for city number 444:  arak\n",
      "Retrieving weather data for city number 445:  road town\n",
      "Retrieving weather data for city number 446:  garowe\n",
      "bokspits not found, skip this one\n",
      "Retrieving weather data for city number 448:  takikawa\n",
      "Retrieving weather data for city number 449:  heinola\n",
      "Retrieving weather data for city number 450:  kiama\n",
      "Retrieving weather data for city number 451:  khatanga\n",
      "Retrieving weather data for city number 452:  pemangkat\n",
      "Retrieving weather data for city number 453:  andenes\n",
      "Retrieving weather data for city number 454:  fortuna\n",
      "Retrieving weather data for city number 455:  southbridge\n",
      "Retrieving weather data for city number 456:  sistranda\n",
      "Retrieving weather data for city number 457:  lorengau\n",
      "Retrieving weather data for city number 458:  girne\n",
      "Retrieving weather data for city number 459:  simitli\n",
      "Retrieving weather data for city number 460:  mount gambier\n",
      "Retrieving weather data for city number 461:  port blair\n",
      "Retrieving weather data for city number 462:  onega\n",
      "Retrieving weather data for city number 463:  kyren\n",
      "Retrieving weather data for city number 464:  englehart\n",
      "Retrieving weather data for city number 465:  dubbo\n"
     ]
    },
    {
     "name": "stdout",
     "output_type": "stream",
     "text": [
      "Retrieving weather data for city number 466:  seymchan\n",
      "Retrieving weather data for city number 467:  cap malheureux\n",
      "Retrieving weather data for city number 468:  ayni\n",
      "Retrieving weather data for city number 469:  cambridge\n",
      "Retrieving weather data for city number 470:  ulaanbaatar\n",
      "Retrieving weather data for city number 471:  constitucion\n",
      "Retrieving weather data for city number 472:  palu\n",
      "Retrieving weather data for city number 473:  muyezerskiy\n",
      "Retrieving weather data for city number 474:  palermo\n",
      "Retrieving weather data for city number 475:  rey bouba\n",
      "tarudant not found, skip this one\n",
      "Retrieving weather data for city number 477:  sobolevo\n",
      "Retrieving weather data for city number 478:  kousseri\n",
      "Retrieving weather data for city number 479:  asau\n",
      "Retrieving weather data for city number 480:  lesnikovo\n",
      "Retrieving weather data for city number 481:  san rafael\n",
      "mentok not found, skip this one\n",
      "Retrieving weather data for city number 483:  santiago del estero\n",
      "Retrieving weather data for city number 484:  namatanai\n",
      "Retrieving weather data for city number 485:  panzhihua\n",
      "Retrieving weather data for city number 486:  puerto ayacucho\n",
      "Retrieving weather data for city number 487:  acarau\n",
      "Retrieving weather data for city number 488:  necochea\n",
      "Retrieving weather data for city number 489:  san juancito\n",
      "Retrieving weather data for city number 490:  izyaslav\n",
      "Retrieving weather data for city number 491:  caiaponia\n",
      "Retrieving weather data for city number 492:  ulaangom\n",
      "dzhusaly not found, skip this one\n",
      "taburi not found, skip this one\n",
      "Retrieving weather data for city number 495:  mehamn\n",
      "Retrieving weather data for city number 496:  liaocheng\n",
      "Retrieving weather data for city number 497:  bambanglipuro\n",
      "Retrieving weather data for city number 498:  lianzhou\n",
      "Retrieving weather data for city number 499:  xai-xai\n",
      "Retrieving weather data for city number 500:  inhambane\n",
      "Retrieving weather data for city number 501:  rio grande\n",
      "louisbourg not found, skip this one\n",
      "Retrieving weather data for city number 503:  hengyang\n",
      "Retrieving weather data for city number 504:  saint george\n",
      "Retrieving weather data for city number 505:  teguldet\n",
      "Retrieving weather data for city number 506:  magadan\n",
      "Retrieving weather data for city number 507:  dutlwe\n",
      "Retrieving weather data for city number 508:  elbistan\n",
      "Retrieving weather data for city number 509:  fayaoue\n",
      "Retrieving weather data for city number 510:  bhatkal\n",
      "Retrieving weather data for city number 511:  kutum\n",
      "Retrieving weather data for city number 512:  sonqor\n",
      "Retrieving weather data for city number 513:  touros\n",
      "Retrieving weather data for city number 514:  wanning\n",
      "Retrieving weather data for city number 515:  newport\n",
      "Retrieving weather data for city number 516:  leeton\n",
      "Retrieving weather data for city number 517:  sept-iles\n",
      "Retrieving weather data for city number 518:  malatya\n",
      "Retrieving weather data for city number 519:  viedma\n",
      "Retrieving weather data for city number 520:  zheleznodorozhnyy\n",
      "Retrieving weather data for city number 521:  dehloran\n",
      "warqla not found, skip this one\n",
      "Retrieving weather data for city number 523:  calamar\n",
      "Retrieving weather data for city number 524:  aligudarz\n",
      "Retrieving weather data for city number 525:  bloomington\n",
      "Retrieving weather data for city number 526:  glenluce\n",
      "Retrieving weather data for city number 527:  jalapa\n",
      "Retrieving weather data for city number 528:  sigli\n",
      "Retrieving weather data for city number 529:  lubango\n",
      "Retrieving weather data for city number 530:  ugoofaaru\n",
      "Retrieving weather data for city number 531:  krasnoselkup\n",
      "Retrieving weather data for city number 532:  ewa beach\n",
      "Retrieving weather data for city number 533:  manta\n",
      "Retrieving weather data for city number 534:  pacific grove\n",
      "Retrieving weather data for city number 535:  yudong\n",
      "Retrieving weather data for city number 536:  nha trang\n",
      "Retrieving weather data for city number 537:  sola\n",
      "Retrieving weather data for city number 538:  datong\n",
      "Retrieving weather data for city number 539:  ucluelet\n",
      "lolua not found, skip this one\n",
      "Retrieving weather data for city number 541:  kimbe\n",
      "Retrieving weather data for city number 542:  mount isa\n",
      "Retrieving weather data for city number 543:  adrar\n",
      "Retrieving weather data for city number 544:  daru\n",
      "Retrieving weather data for city number 545:  sibolga\n",
      "Retrieving weather data for city number 546:  kizhinga\n",
      "Retrieving weather data for city number 547:  belfast\n",
      "Retrieving weather data for city number 548:  yerkoy\n",
      "Retrieving weather data for city number 549:  kautokeino\n",
      "Retrieving weather data for city number 550:  brigantine\n",
      "Retrieving weather data for city number 551:  magdalena\n",
      "Retrieving weather data for city number 552:  sisimiut\n",
      "Retrieving weather data for city number 553:  petropavlovka\n",
      "Retrieving weather data for city number 554:  gondanglegi\n",
      "Retrieving weather data for city number 555:  marsa matruh\n",
      "Retrieving weather data for city number 556:  praia\n",
      "armacao dos buzios not found, skip this one\n",
      "Retrieving weather data for city number 558:  champerico\n",
      "Retrieving weather data for city number 559:  saryozek\n",
      "Retrieving weather data for city number 560:  mindelo\n",
      "Retrieving weather data for city number 561:  pasighat\n",
      "Retrieving weather data for city number 562:  rogers\n",
      "Retrieving weather data for city number 563:  tautira\n",
      "viligili not found, skip this one\n",
      "Retrieving weather data for city number 565:  bubaque\n",
      "Retrieving weather data for city number 566:  zhangjiakou\n",
      "Retrieving weather data for city number 567:  kloulklubed\n",
      "Retrieving weather data for city number 568:  porto seguro\n",
      "el faiyum not found, skip this one\n",
      "Retrieving weather data for city number 570:  barcelos\n",
      "Retrieving weather data for city number 571:  nelson bay\n",
      "Retrieving weather data for city number 572:  eastbourne\n",
      "Retrieving weather data for city number 573:  penzance\n",
      "Retrieving weather data for city number 574:  parana\n",
      "Retrieving weather data for city number 575:  kalevala\n",
      "Retrieving weather data for city number 576:  chapais\n",
      "Retrieving weather data for city number 577:  colares\n",
      "Retrieving weather data for city number 578:  gweta\n",
      "Retrieving weather data for city number 579:  paita\n",
      "sinkat not found, skip this one\n",
      "Retrieving weather data for city number 581:  kardailovo\n",
      "Retrieving weather data for city number 582:  lubumbashi\n",
      "shkotovo-22 not found, skip this one\n",
      "Retrieving weather data for city number 584:  olavarria\n",
      "gulshat not found, skip this one\n",
      "Retrieving weather data for city number 586:  teya\n",
      "Retrieving weather data for city number 587:  aitape\n",
      "Retrieving weather data for city number 588:  goundam\n",
      "Retrieving weather data for city number 589:  presidencia roque saenz pena\n",
      "Retrieving weather data for city number 590:  nioro\n",
      "Retrieving weather data for city number 591:  gravelbourg\n",
      "Retrieving weather data for city number 592:  mokolo\n",
      "Retrieving weather data for city number 593:  aleksandrovskiy zavod\n",
      "Retrieving weather data for city number 594:  baker city\n",
      "Retrieving weather data for city number 595:  abong mbang\n",
      "Retrieving weather data for city number 596:  talaya\n",
      "Retrieving weather data for city number 597:  altamira\n",
      "Retrieving weather data for city number 598:  port hardy\n",
      "Retrieving weather data for city number 599:  hoquiam\n",
      "Retrieving weather data for city number 600:  bijie\n",
      "Retrieving weather data for city number 601:  puerto colombia\n",
      "Retrieving weather data for city number 602:  okhotsk\n",
      "Retrieving weather data for city number 603:  semporna\n",
      "Retrieving weather data for city number 604:  kon tum\n"
     ]
    }
   ],
   "source": [
    "# Retrieve articles\n",
    "\n",
    "city_names = cities\n",
    "city_weather = []\n",
    "weather = {'City':[], \n",
    "           'Lat':[], \n",
    "            'Lng':[],\n",
    "            'Max Temp':[],\n",
    "            'Humidity':[],\n",
    "           'Cloudiness':[],\n",
    "           'Wind Speed':[],\n",
    "           'Country':[],\n",
    "           'Date':[]\n",
    "             }\n",
    "i=0\n",
    "for city_name in city_names:\n",
    "    #try:\n",
    "    query_url = f\"http://api.openweathermap.org/data/2.5/weather?q={city_name}&units=imperial&appid={api_key}\"\n",
    "    result = requests.get(query_url).json()\n",
    "    #print(result)\n",
    "    \n",
    "    if 'coord' in result:  #Used this to check for missing cities, but will switch to the try/except method\n",
    "        \n",
    "        city_weather.append(result)\n",
    "        print(f\"Retrieving weather data for city number {city_names.index(city_name)+1}:  {city_name}\")\n",
    "        number = city_names.index(city_name)+1\n",
    "        \n",
    "        name = city_weather[i]['name']\n",
    "        lat = city_weather[i]['coord']['lat']\n",
    "        lng = city_weather[i]['coord']['lon']\n",
    "        cur_temp = city_weather[i]['main']['temp']\n",
    "        max_temp = city_weather[i]['main']['temp_max']\n",
    "        hum = city_weather[i]['main']['humidity']\n",
    "        clouds = city_weather[i]['clouds']['all']\n",
    "        wind = city_weather[i]['wind']['speed']\n",
    "        country = city_weather[i]['sys']['country']\n",
    "        dt = city_weather[i]['dt']\n",
    "    \n",
    "        weather['City'].append(name)\n",
    "        weather['Lat'].append(lat) \n",
    "        weather['Lng'].append(lng) \n",
    "        weather['Max Temp'].append(max_temp) \n",
    "        weather['Humidity'].append(hum) \n",
    "        weather['Cloudiness'].append(clouds) \n",
    "        weather['Country'].append(country) \n",
    "        weather['Wind Speed'].append(wind)\n",
    "        weather['Date'].append(dt) \n",
    "        i+=1\n",
    "    \n",
    "    else: \n",
    "        print(f\"{city_name} not found, skip this one\")\n",
    "        \n",
    "\n",
    "    \n",
    "    \n",
    "\n"
   ]
  },
  {
   "cell_type": "markdown",
   "metadata": {},
   "source": [
    "### Convert Raw Data to DataFrame\n",
    "* Export the city data into a .csv.\n",
    "* Display the DataFrame"
   ]
  },
  {
   "cell_type": "code",
   "execution_count": 4,
   "metadata": {},
   "outputs": [
    {
     "data": {
      "text/html": [
       "<div>\n",
       "<style scoped>\n",
       "    .dataframe tbody tr th:only-of-type {\n",
       "        vertical-align: middle;\n",
       "    }\n",
       "\n",
       "    .dataframe tbody tr th {\n",
       "        vertical-align: top;\n",
       "    }\n",
       "\n",
       "    .dataframe thead th {\n",
       "        text-align: right;\n",
       "    }\n",
       "</style>\n",
       "<table border=\"1\" class=\"dataframe\">\n",
       "  <thead>\n",
       "    <tr style=\"text-align: right;\">\n",
       "      <th></th>\n",
       "      <th>City</th>\n",
       "      <th>Lat</th>\n",
       "      <th>Lng</th>\n",
       "      <th>Max Temp</th>\n",
       "      <th>Humidity</th>\n",
       "      <th>Cloudiness</th>\n",
       "      <th>Wind Speed</th>\n",
       "      <th>Country</th>\n",
       "      <th>Date</th>\n",
       "    </tr>\n",
       "  </thead>\n",
       "  <tbody>\n",
       "    <tr>\n",
       "      <th>0</th>\n",
       "      <td>Cherskiy</td>\n",
       "      <td>68.75</td>\n",
       "      <td>161.30</td>\n",
       "      <td>-36.81</td>\n",
       "      <td>82</td>\n",
       "      <td>100</td>\n",
       "      <td>4.23</td>\n",
       "      <td>RU</td>\n",
       "      <td>1609373016</td>\n",
       "    </tr>\n",
       "    <tr>\n",
       "      <th>1</th>\n",
       "      <td>Port Augusta</td>\n",
       "      <td>-32.50</td>\n",
       "      <td>137.77</td>\n",
       "      <td>80.01</td>\n",
       "      <td>64</td>\n",
       "      <td>0</td>\n",
       "      <td>16.11</td>\n",
       "      <td>AU</td>\n",
       "      <td>1609373048</td>\n",
       "    </tr>\n",
       "    <tr>\n",
       "      <th>2</th>\n",
       "      <td>Port Lincoln</td>\n",
       "      <td>-34.73</td>\n",
       "      <td>135.87</td>\n",
       "      <td>64.47</td>\n",
       "      <td>75</td>\n",
       "      <td>73</td>\n",
       "      <td>18.03</td>\n",
       "      <td>AU</td>\n",
       "      <td>1609373031</td>\n",
       "    </tr>\n",
       "    <tr>\n",
       "      <th>3</th>\n",
       "      <td>Hasaki</td>\n",
       "      <td>35.73</td>\n",
       "      <td>140.83</td>\n",
       "      <td>36.00</td>\n",
       "      <td>37</td>\n",
       "      <td>20</td>\n",
       "      <td>10.29</td>\n",
       "      <td>JP</td>\n",
       "      <td>1609373015</td>\n",
       "    </tr>\n",
       "    <tr>\n",
       "      <th>4</th>\n",
       "      <td>Talnakh</td>\n",
       "      <td>69.49</td>\n",
       "      <td>88.40</td>\n",
       "      <td>-5.80</td>\n",
       "      <td>53</td>\n",
       "      <td>0</td>\n",
       "      <td>4.47</td>\n",
       "      <td>RU</td>\n",
       "      <td>1609373005</td>\n",
       "    </tr>\n",
       "    <tr>\n",
       "      <th>...</th>\n",
       "      <td>...</td>\n",
       "      <td>...</td>\n",
       "      <td>...</td>\n",
       "      <td>...</td>\n",
       "      <td>...</td>\n",
       "      <td>...</td>\n",
       "      <td>...</td>\n",
       "      <td>...</td>\n",
       "      <td>...</td>\n",
       "    </tr>\n",
       "    <tr>\n",
       "      <th>542</th>\n",
       "      <td>Bijie</td>\n",
       "      <td>27.31</td>\n",
       "      <td>105.29</td>\n",
       "      <td>27.72</td>\n",
       "      <td>96</td>\n",
       "      <td>100</td>\n",
       "      <td>4.00</td>\n",
       "      <td>CN</td>\n",
       "      <td>1609373236</td>\n",
       "    </tr>\n",
       "    <tr>\n",
       "      <th>543</th>\n",
       "      <td>Puerto Colombia</td>\n",
       "      <td>10.99</td>\n",
       "      <td>-74.95</td>\n",
       "      <td>80.60</td>\n",
       "      <td>78</td>\n",
       "      <td>20</td>\n",
       "      <td>11.41</td>\n",
       "      <td>CO</td>\n",
       "      <td>1609373236</td>\n",
       "    </tr>\n",
       "    <tr>\n",
       "      <th>544</th>\n",
       "      <td>Okhotsk</td>\n",
       "      <td>59.38</td>\n",
       "      <td>143.30</td>\n",
       "      <td>1.29</td>\n",
       "      <td>86</td>\n",
       "      <td>100</td>\n",
       "      <td>15.75</td>\n",
       "      <td>RU</td>\n",
       "      <td>1609373236</td>\n",
       "    </tr>\n",
       "    <tr>\n",
       "      <th>545</th>\n",
       "      <td>Semporna</td>\n",
       "      <td>4.48</td>\n",
       "      <td>118.61</td>\n",
       "      <td>75.20</td>\n",
       "      <td>94</td>\n",
       "      <td>20</td>\n",
       "      <td>1.12</td>\n",
       "      <td>MY</td>\n",
       "      <td>1609373236</td>\n",
       "    </tr>\n",
       "    <tr>\n",
       "      <th>546</th>\n",
       "      <td>Kon Tum</td>\n",
       "      <td>14.35</td>\n",
       "      <td>108.00</td>\n",
       "      <td>62.40</td>\n",
       "      <td>73</td>\n",
       "      <td>88</td>\n",
       "      <td>4.25</td>\n",
       "      <td>VN</td>\n",
       "      <td>1609373236</td>\n",
       "    </tr>\n",
       "  </tbody>\n",
       "</table>\n",
       "<p>547 rows × 9 columns</p>\n",
       "</div>"
      ],
      "text/plain": [
       "                City    Lat     Lng  Max Temp  Humidity  Cloudiness  \\\n",
       "0           Cherskiy  68.75  161.30    -36.81        82         100   \n",
       "1       Port Augusta -32.50  137.77     80.01        64           0   \n",
       "2       Port Lincoln -34.73  135.87     64.47        75          73   \n",
       "3             Hasaki  35.73  140.83     36.00        37          20   \n",
       "4            Talnakh  69.49   88.40     -5.80        53           0   \n",
       "..               ...    ...     ...       ...       ...         ...   \n",
       "542            Bijie  27.31  105.29     27.72        96         100   \n",
       "543  Puerto Colombia  10.99  -74.95     80.60        78          20   \n",
       "544          Okhotsk  59.38  143.30      1.29        86         100   \n",
       "545         Semporna   4.48  118.61     75.20        94          20   \n",
       "546          Kon Tum  14.35  108.00     62.40        73          88   \n",
       "\n",
       "     Wind Speed Country        Date  \n",
       "0          4.23      RU  1609373016  \n",
       "1         16.11      AU  1609373048  \n",
       "2         18.03      AU  1609373031  \n",
       "3         10.29      JP  1609373015  \n",
       "4          4.47      RU  1609373005  \n",
       "..          ...     ...         ...  \n",
       "542        4.00      CN  1609373236  \n",
       "543       11.41      CO  1609373236  \n",
       "544       15.75      RU  1609373236  \n",
       "545        1.12      MY  1609373236  \n",
       "546        4.25      VN  1609373236  \n",
       "\n",
       "[547 rows x 9 columns]"
      ]
     },
     "execution_count": 4,
     "metadata": {},
     "output_type": "execute_result"
    }
   ],
   "source": [
    "weather_df = pd.DataFrame(weather)\n",
    "weather_df.to_csv(\"output_data/cities.csv\", index = False)\n",
    "weather_df"
   ]
  },
  {
   "cell_type": "code",
   "execution_count": null,
   "metadata": {},
   "outputs": [],
   "source": []
  },
  {
   "cell_type": "markdown",
   "metadata": {},
   "source": [
    "## Inspect the data and remove the cities where the humidity > 100%.\n",
    "----\n",
    "Skip this step if there are no cities that have humidity > 100%. "
   ]
  },
  {
   "cell_type": "code",
   "execution_count": 5,
   "metadata": {},
   "outputs": [],
   "source": [
    "len(weather_df)\n",
    "for i in range(len(weather_df)):\n",
    "    if weather_df['Humidity'][i] > 100:\n",
    "        print(i)\n",
    "        print(weather_df['Humidity'][i])\n",
    "        \n",
    "        weather_df.drop(index=i)\n",
    "\n",
    "clean_city_data = weather_df        \n",
    "len(clean_city_data)\n",
    "clean_city_data.rename(columns = {'Lat': 'Latitude'}, inplace = True)"
   ]
  },
  {
   "cell_type": "code",
   "execution_count": 9,
   "metadata": {},
   "outputs": [
    {
     "name": "stdout",
     "output_type": "stream",
     "text": [
      "2020-12-30\n"
     ]
    }
   ],
   "source": [
    "#clean_city_data.head()\n",
    "\n",
    "today = date.today()\n",
    "print(today)\n"
   ]
  },
  {
   "cell_type": "code",
   "execution_count": 22,
   "metadata": {},
   "outputs": [],
   "source": [
    "#Define function for making  scatter plots\n",
    "\n",
    "def make_scatter_plot(df, x_col, y_col):\n",
    "    \"This creates a scatter plot given a list of x values, y values, x label, y label and title\"\n",
    "    x = df[x_col]\n",
    "    y = df[y_col]\n",
    "  \n",
    "    \n",
    "    #generating random number to be included in fig name so that new figure is unlikely to \n",
    "    #be named the same as a previous figure \n",
    "    \n",
    "    #fig_num = random.randint(1, 100)\n",
    "\n",
    "    plt.scatter(x, y)\n",
    "    plt.xlabel(x_col)\n",
    "    plt.ylabel(y_col)\n",
    "    plt.title(f\"{y_col} as a function of {x_col} {today}\")\n",
    "    plt.ylim(min(y)-10,max(y)+10)\n",
    "    plt.savefig(f\"{x_col}_{y_col} ({today}).png\")\n",
    "   \n",
    "    linregress(x,y)\n",
    "    reg = linregress(x,y)\n",
    "    reg_line = reg[0]*x + reg[1]\n",
    "\n",
    "    plt.plot(x,reg_line, color=\"red\")\n",
    "    r_squared = round(reg[2]**2,2)\n",
    "    print(f\"r squared = {r_squared}\")\n",
    "              \n"
   ]
  },
  {
   "cell_type": "markdown",
   "metadata": {},
   "source": [
    "## Latitude vs. Temperature Plot"
   ]
  },
  {
   "cell_type": "code",
   "execution_count": 23,
   "metadata": {
    "scrolled": true
   },
   "outputs": [
    {
     "name": "stdout",
     "output_type": "stream",
     "text": [
      "r squared = 0.59\n"
     ]
    },
    {
     "data": {
      "image/png": "[encoded data removed]",
      "text/plain": [
       "<Figure size 432x288 with 1 Axes>"
      ]
     },
     "metadata": {
      "needs_background": "light"
     },
     "output_type": "display_data"
    }
   ],
   "source": [
    "make_scatter_plot(clean_city_data, 'Latitude', 'Max Temp')\n"
   ]
  },
  {
   "cell_type": "markdown",
   "metadata": {},
   "source": [
    "This plot shows maximum temperature plotted against latitude.  Temperature appears to\n",
    "decrease as the latitude gets farther from 0, more so in the northern hemisphere (lat > 0).\n",
    "The r-squared value of .52 doesn't seem particularly strong, but this is confounded by using negative and positive lat numbers in the same graph.  Graphs per hemisphere, and based on the absolute latitude are shown in later figures."
   ]
  },
  {
   "cell_type": "markdown",
   "metadata": {},
   "source": [
    "## Latitude vs. Humidity Plot"
   ]
  },
  {
   "cell_type": "code",
   "execution_count": 24,
   "metadata": {},
   "outputs": [
    {
     "name": "stdout",
     "output_type": "stream",
     "text": [
      "r squared = 0.03\n"
     ]
    },
    {
     "data": {
      "image/png": "[encoded data removed]",
      "text/plain": [
       "<Figure size 432x288 with 1 Axes>"
      ]
     },
     "metadata": {
      "needs_background": "light"
     },
     "output_type": "display_data"
    }
   ],
   "source": [
    "make_scatter_plot(clean_city_data,'Latitude','Humidity')"
   ]
  },
  {
   "cell_type": "markdown",
   "metadata": {},
   "source": [
    "There does not seem to be an effect of latitude on humidity"
   ]
  },
  {
   "cell_type": "markdown",
   "metadata": {},
   "source": [
    "## Latitude vs. Cloudiness Plot"
   ]
  },
  {
   "cell_type": "code",
   "execution_count": 25,
   "metadata": {},
   "outputs": [
    {
     "name": "stdout",
     "output_type": "stream",
     "text": [
      "r squared = 0.01\n"
     ]
    },
    {
     "data": {
      "image/png": "[encoded data removed]",
      "text/plain": [
       "<Figure size 432x288 with 1 Axes>"
      ]
     },
     "metadata": {
      "needs_background": "light"
     },
     "output_type": "display_data"
    }
   ],
   "source": [
    "make_scatter_plot(clean_city_data,'Latitude','Cloudiness')"
   ]
  },
  {
   "cell_type": "markdown",
   "metadata": {},
   "source": [
    "There is no correlation between latitude and cloudiness."
   ]
  },
  {
   "cell_type": "markdown",
   "metadata": {},
   "source": [
    "## Latitude vs. Wind Speed Plot"
   ]
  },
  {
   "cell_type": "code",
   "execution_count": 26,
   "metadata": {},
   "outputs": [
    {
     "name": "stdout",
     "output_type": "stream",
     "text": [
      "r squared = 0.0\n"
     ]
    },
    {
     "data": {
      "image/png": "[encoded data removed]",
      "text/plain": [
       "<Figure size 432x288 with 1 Axes>"
      ]
     },
     "metadata": {
      "needs_background": "light"
     },
     "output_type": "display_data"
    }
   ],
   "source": [
    "make_scatter_plot(clean_city_data, 'Latitude','Wind Speed')"
   ]
  },
  {
   "cell_type": "markdown",
   "metadata": {},
   "source": [
    "There is no correlation between latitude and wind speed"
   ]
  },
  {
   "cell_type": "markdown",
   "metadata": {},
   "source": [
    "## Linear Regression"
   ]
  },
  {
   "cell_type": "code",
   "execution_count": 27,
   "metadata": {},
   "outputs": [
    {
     "name": "stdout",
     "output_type": "stream",
     "text": [
      "391 cities were analyzed for the northern hemisphere\n",
      "156 cities were analyzed for the southern hemisphere\n"
     ]
    },
    {
     "data": {
      "text/plain": [
       "-0.22"
      ]
     },
     "execution_count": 27,
     "metadata": {},
     "output_type": "execute_result"
    }
   ],
   "source": [
    "# The clean city daa frame was filtered for latitiudes > or < 0, splitting it into two DFs, \n",
    "#one for the northern hemisphere and one for the southern hemisphere.\n",
    "\n",
    "clean_city_data.head()\n",
    "\n",
    "north = clean_city_data[clean_city_data['Latitude']>0]\n",
    "north.head()\n",
    "print(f\"{len(north)} cities were analyzed for the northern hemisphere\")\n",
    "\n",
    "south = clean_city_data[clean_city_data['Latitude']<0]\n",
    "south.head()\n",
    "print(f\"{len(south)} cities were analyzed for the southern hemisphere\")  \n",
    "\n",
    "# check that filtering worked\n",
    "min(north['Latitude'])\n",
    "max(south['Latitude'])"
   ]
  },
  {
   "cell_type": "markdown",
   "metadata": {},
   "source": [
    "####  Northern Hemisphere - Max Temp vs. Latitude Linear Regression"
   ]
  },
  {
   "cell_type": "code",
   "execution_count": 28,
   "metadata": {},
   "outputs": [
    {
     "name": "stdout",
     "output_type": "stream",
     "text": [
      "r squared = 0.67\n"
     ]
    },
    {
     "data": {
      "image/png": "[encoded data removed]",
      "text/plain": [
       "<Figure size 432x288 with 1 Axes>"
      ]
     },
     "metadata": {
      "needs_background": "light"
     },
     "output_type": "display_data"
    }
   ],
   "source": [
    "make_scatter_plot(north, 'Latitude','Max Temp')"
   ]
  },
  {
   "cell_type": "markdown",
   "metadata": {},
   "source": [
    "Focusing just on the northern hemisphere (lat > 0) reveals a much stronger correlation\n",
    "(r^2 = 0.74) between Max Temp and Latitude"
   ]
  },
  {
   "cell_type": "markdown",
   "metadata": {},
   "source": [
    "####  Southern Hemisphere - Max Temp vs. Latitude Linear Regression"
   ]
  },
  {
   "cell_type": "code",
   "execution_count": 29,
   "metadata": {},
   "outputs": [
    {
     "name": "stdout",
     "output_type": "stream",
     "text": [
      "r squared = 0.37\n"
     ]
    },
    {
     "data": {
      "image/png": "[encoded data removed]",
      "text/plain": [
       "<Figure size 432x288 with 1 Axes>"
      ]
     },
     "metadata": {
      "needs_background": "light"
     },
     "output_type": "display_data"
    }
   ],
   "source": [
    "make_scatter_plot(south, 'Latitude','Max Temp')"
   ]
  },
  {
   "cell_type": "markdown",
   "metadata": {},
   "source": [
    "Focusing just on the southern hemisphere (lat < 0) reveals an apparent correlation between\n",
    "Max Temp and Latitude (r^2 = .37).  this correlation is much weaker than that for the northern hemisphere."
   ]
  },
  {
   "cell_type": "markdown",
   "metadata": {},
   "source": [
    "####  Northern Hemisphere - Humidity (%) vs. Latitude Linear Regression"
   ]
  },
  {
   "cell_type": "code",
   "execution_count": 30,
   "metadata": {},
   "outputs": [
    {
     "name": "stdout",
     "output_type": "stream",
     "text": [
      "r squared = 0.11\n"
     ]
    },
    {
     "data": {
      "image/png": "[encoded data removed]",
      "text/plain": [
       "<Figure size 432x288 with 1 Axes>"
      ]
     },
     "metadata": {
      "needs_background": "light"
     },
     "output_type": "display_data"
    }
   ],
   "source": [
    "make_scatter_plot(north, 'Latitude','Humidity')"
   ]
  },
  {
   "cell_type": "markdown",
   "metadata": {},
   "source": [
    " There is perhaps a weak correlation between Latitude and Humidity when considering just the\n",
    "northern hemisphere."
   ]
  },
  {
   "cell_type": "markdown",
   "metadata": {},
   "source": [
    "####  Southern Hemisphere - Humidity (%) vs. Latitude Linear Regression"
   ]
  },
  {
   "cell_type": "code",
   "execution_count": 31,
   "metadata": {},
   "outputs": [
    {
     "name": "stdout",
     "output_type": "stream",
     "text": [
      "r squared = 0.08\n"
     ]
    },
    {
     "data": {
      "image/png": "[encoded data removed]",
      "text/plain": [
       "<Figure size 432x288 with 1 Axes>"
      ]
     },
     "metadata": {
      "needs_background": "light"
     },
     "output_type": "display_data"
    }
   ],
   "source": [
    "make_scatter_plot(south, 'Latitude','Humidity')"
   ]
  },
  {
   "cell_type": "markdown",
   "metadata": {},
   "source": [
    "There is no correlation between Latitude and Humidity when considering just the\n",
    "southern hemisphere."
   ]
  },
  {
   "cell_type": "markdown",
   "metadata": {},
   "source": [
    "####  Northern Hemisphere - Cloudiness (%) vs. Latitude Linear Regression"
   ]
  },
  {
   "cell_type": "code",
   "execution_count": 32,
   "metadata": {},
   "outputs": [
    {
     "name": "stdout",
     "output_type": "stream",
     "text": [
      "r squared = 0.11\n"
     ]
    },
    {
     "data": {
      "image/png": "[encoded data removed]",
      "text/plain": [
       "<Figure size 432x288 with 1 Axes>"
      ]
     },
     "metadata": {
      "needs_background": "light"
     },
     "output_type": "display_data"
    }
   ],
   "source": [
    "make_scatter_plot(north, 'Latitude','Cloudiness')"
   ]
  },
  {
   "cell_type": "markdown",
   "metadata": {},
   "source": [
    "There is no correlation between Latitude and Cloudiness when considering just the\n",
    "northern hemisphere."
   ]
  },
  {
   "cell_type": "markdown",
   "metadata": {},
   "source": [
    "####  Southern Hemisphere - Cloudiness (%) vs. Latitude Linear Regression"
   ]
  },
  {
   "cell_type": "code",
   "execution_count": 33,
   "metadata": {},
   "outputs": [
    {
     "name": "stdout",
     "output_type": "stream",
     "text": [
      "r squared = 0.03\n"
     ]
    },
    {
     "data": {
      "image/png": "[encoded data removed]",
      "text/plain": [
       "<Figure size 432x288 with 1 Axes>"
      ]
     },
     "metadata": {
      "needs_background": "light"
     },
     "output_type": "display_data"
    }
   ],
   "source": [
    "make_scatter_plot(south, 'Latitude','Cloudiness')"
   ]
  },
  {
   "cell_type": "markdown",
   "metadata": {},
   "source": [
    "There is no correlation between Latitude and Cloudiness when considering just the\n",
    "southern hemisphere."
   ]
  },
  {
   "cell_type": "markdown",
   "metadata": {},
   "source": [
    "####  Northern Hemisphere - Wind Speed (mph) vs. Latitude Linear Regression"
   ]
  },
  {
   "cell_type": "code",
   "execution_count": 34,
   "metadata": {},
   "outputs": [
    {
     "name": "stdout",
     "output_type": "stream",
     "text": [
      "r squared = 0.0\n"
     ]
    },
    {
     "data": {
      "image/png": "[encoded data removed]",
      "text/plain": [
       "<Figure size 432x288 with 1 Axes>"
      ]
     },
     "metadata": {
      "needs_background": "light"
     },
     "output_type": "display_data"
    }
   ],
   "source": [
    "make_scatter_plot(north, 'Latitude','Wind Speed')"
   ]
  },
  {
   "cell_type": "markdown",
   "metadata": {},
   "source": [
    "There is no correlation between Latitude and Cloudiness when considering just the\n",
    "southern hemisphere."
   ]
  },
  {
   "cell_type": "markdown",
   "metadata": {},
   "source": [
    "####  Southern Hemisphere - Wind Speed (mph) vs. Latitude Linear Regression"
   ]
  },
  {
   "cell_type": "code",
   "execution_count": null,
   "metadata": {},
   "outputs": [],
   "source": [
    "make_scatter_plot(south, 'Latitude','Wind Speed')"
   ]
  },
  {
   "cell_type": "markdown",
   "metadata": {},
   "source": [
    "There is no correlation between Latitude and wind speed when considering just the\n",
    "southern hemisphere."
   ]
  },
  {
   "cell_type": "markdown",
   "metadata": {},
   "source": [
    "Convert latitude to abs value to see if raw distance from equator is linear  temp"
   ]
  },
  {
   "cell_type": "code",
   "execution_count": 35,
   "metadata": {},
   "outputs": [],
   "source": [
    "abs_lat = np.absolute(clean_city_data['Latitude'])\n",
    "clean_abs = clean_city_data\n",
    "clean_abs['Abs Latitude'] = abs_lat"
   ]
  },
  {
   "cell_type": "code",
   "execution_count": 36,
   "metadata": {},
   "outputs": [
    {
     "name": "stdout",
     "output_type": "stream",
     "text": [
      "r squared = 0.67\n"
     ]
    },
    {
     "data": {
      "image/png": "[encoded data removed]",
      "text/plain": [
       "<Figure size 432x288 with 1 Axes>"
      ]
     },
     "metadata": {
      "needs_background": "light"
     },
     "output_type": "display_data"
    }
   ],
   "source": [
    "\n",
    "make_scatter_plot(clean_abs,'Abs Latitude','Max Temp')\n"
   ]
  },
  {
   "cell_type": "markdown",
   "metadata": {},
   "source": [
    "There is a strong correlation between Latitude and Max temp when considering just the\n",
    "raw distance from the equator (absolute value of latititude)"
   ]
  }
 ],
 "metadata": {
  "anaconda-cloud": {},
  "kernel_info": {
   "name": "python3"
  },
  "kernelspec": {
   "display_name": "Python 3",
   "language": "python",
   "name": "python3"
  },
  "language_info": {
   "codemirror_mode": {
    "name": "ipython",
    "version": 3
   },
   "file_extension": ".py",
   "mimetype": "text/x-python",
   "name": "python",
   "nbconvert_exporter": "python",
   "pygments_lexer": "ipython3",
   "version": "3.6.10"
  },
  "latex_envs": {
   "LaTeX_envs_menu_present": true,
   "autoclose": false,
   "autocomplete": true,
   "bibliofile": "biblio.bib",
   "cite_by": "apalike",
   "current_citInitial": 1,
   "eqLabelWithNumbers": true,
   "eqNumInitial": 1,
   "hotkeys": {
    "equation": "Ctrl-E",
    "itemize": "Ctrl-I"
   },
   "labels_anchors": false,
   "latex_user_defs": false,
   "report_style_numbering": false,
   "user_envs_cfg": false
  },
  "nteract": {
   "version": "0.12.3"
  }
 },
 "nbformat": 4,
 "nbformat_minor": 4
}
