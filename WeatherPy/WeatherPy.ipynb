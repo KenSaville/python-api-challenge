{
 "cells": [
  {
   "cell_type": "markdown",
   "metadata": {},
   "source": [
    "# WeatherPy\n",
    "----\n",
    "\n",
    "#### Note\n",
    "* Instructions have been included for each segment. You do not have to follow them exactly, but they are included to help you think through the steps."
   ]
  },
  {
   "cell_type": "code",
   "execution_count": 1,
   "metadata": {
    "scrolled": true
   },
   "outputs": [],
   "source": [
    "# Dependencies and Setup\n",
    "import matplotlib.pyplot as plt\n",
    "import pandas as pd\n",
    "import numpy as np\n",
    "import requests\n",
    "import time\n",
    "from scipy.stats import linregress\n",
    "from pprint import pprint\n",
    "import json\n",
    "import random\n",
    "\n",
    "# Import API key\n",
    "from config import api_key\n",
    "\n",
    "#print(api_key)\n",
    "\n",
    "# Incorporated citipy to determine city based on latitude and longitude\n",
    "from citipy import citipy\n",
    "\n",
    "# Output File (CSV)\n",
    "output_data_file = \"output_data/cities.csv\"\n",
    "\n",
    "# Range of latitudes and longitudes\n",
    "lat_range = (-90, 90)\n",
    "lng_range = (-180, 180)\n",
    "\n",
    "from datetime import date"
   ]
  },
  {
   "cell_type": "markdown",
   "metadata": {},
   "source": [
    "## Generate Cities List"
   ]
  },
  {
   "cell_type": "code",
   "execution_count": 2,
   "metadata": {},
   "outputs": [
    {
     "name": "stdout",
     "output_type": "stream",
     "text": [
      "590\n"
     ]
    }
   ],
   "source": [
    "# List for holding lat_lngs and cities\n",
    "lat_lngs = []\n",
    "cities = []\n",
    "\n",
    "# Create a set of random lat and lng combinations\n",
    "lats = np.random.uniform(lat_range[0], lat_range[1], size=1500)\n",
    "lngs = np.random.uniform(lng_range[0], lng_range[1], size=1500)\n",
    "lat_lngs = zip(lats, lngs)\n",
    "\n",
    "# Identify nearest city for each lat, lng combination\n",
    "for lat_lng in lat_lngs:\n",
    "    city = citipy.nearest_city(lat_lng[0], lat_lng[1]).city_name\n",
    "    \n",
    "    # If the city is unique, then add it to a our cities list\n",
    "    if city not in cities:\n",
    "        cities.append(city)\n",
    "\n",
    "# Print the city count to confirm sufficient count\n",
    "print(len(cities))\n",
    "\n"
   ]
  },
  {
   "cell_type": "markdown",
   "metadata": {},
   "source": [
    "### Perform API Calls\n",
    "* Perform a weather check on each city using a series of successive API calls.\n",
    "* Include a print log of each city as it'sbeing processed (with the city number and city name).\n"
   ]
  },
  {
   "cell_type": "code",
   "execution_count": null,
   "metadata": {
    "scrolled": true
   },
   "outputs": [
    {
     "name": "stdout",
     "output_type": "stream",
     "text": [
      "Retrieving weather data for city number 1:  rikitea\n",
      "Retrieving weather data for city number 2:  albany\n",
      "Retrieving weather data for city number 3:  banda aceh\n",
      "Retrieving weather data for city number 4:  puerto ayora\n",
      "Retrieving weather data for city number 5:  isangel\n",
      "Retrieving weather data for city number 6:  faanui\n",
      "Retrieving weather data for city number 7:  dikson\n",
      "Retrieving weather data for city number 8:  busselton\n",
      "Retrieving weather data for city number 9:  kodiak\n",
      "Retrieving weather data for city number 10:  khatanga\n",
      "Retrieving weather data for city number 11:  roald\n",
      "Retrieving weather data for city number 12:  castro\n",
      "Retrieving weather data for city number 13:  rawlins\n",
      "Retrieving weather data for city number 14:  hasaki\n",
      "Retrieving weather data for city number 15:  ilulissat\n",
      "Retrieving weather data for city number 16:  vila franca do campo\n",
      "Retrieving weather data for city number 17:  qaanaaq\n",
      "Retrieving weather data for city number 18:  garden city\n",
      "Retrieving weather data for city number 19:  nagato\n",
      "Retrieving weather data for city number 20:  kokopo\n",
      "Retrieving weather data for city number 21:  bredasdorp\n",
      "Retrieving weather data for city number 22:  port alfred\n",
      "Retrieving weather data for city number 23:  laguna\n",
      "Retrieving weather data for city number 24:  pangnirtung\n",
      "Retrieving weather data for city number 25:  tilichiki\n",
      "Retrieving weather data for city number 26:  puerto leguizamo\n",
      "umzimvubu not found, skip this one\n",
      "Retrieving weather data for city number 28:  khilok\n",
      "Retrieving weather data for city number 29:  cidreira\n",
      "Retrieving weather data for city number 30:  ushuaia\n",
      "Retrieving weather data for city number 31:  kavaratti\n",
      "Retrieving weather data for city number 32:  sangar\n",
      "Retrieving weather data for city number 33:  punta arenas\n",
      "Retrieving weather data for city number 34:  olafsvik\n",
      "Retrieving weather data for city number 35:  vilhena\n",
      "Retrieving weather data for city number 36:  ancud\n",
      "Retrieving weather data for city number 37:  khandyga\n",
      "Retrieving weather data for city number 38:  ugoofaaru\n",
      "Retrieving weather data for city number 39:  tahe\n",
      "Retrieving weather data for city number 40:  saquena\n",
      "Retrieving weather data for city number 41:  tasiilaq\n",
      "Retrieving weather data for city number 42:  georgetown\n",
      "Retrieving weather data for city number 43:  saint-philippe\n",
      "Retrieving weather data for city number 44:  half moon bay\n",
      "Retrieving weather data for city number 45:  buala\n",
      "Retrieving weather data for city number 46:  luderitz\n",
      "Retrieving weather data for city number 47:  kieta\n",
      "Retrieving weather data for city number 48:  januaria\n",
      "Retrieving weather data for city number 49:  torbay\n",
      "Retrieving weather data for city number 50:  mataura\n",
      "Retrieving weather data for city number 51:  jamestown\n",
      "Retrieving weather data for city number 52:  tuatapere\n",
      "Retrieving weather data for city number 53:  gorontalo\n",
      "Retrieving weather data for city number 54:  manta\n",
      "attawapiskat not found, skip this one\n",
      "Retrieving weather data for city number 56:  teguise\n",
      "Retrieving weather data for city number 57:  port hedland\n",
      "Retrieving weather data for city number 58:  sur\n",
      "Retrieving weather data for city number 59:  bluff\n",
      "Retrieving weather data for city number 60:  dingle\n",
      "Retrieving weather data for city number 61:  ambon\n",
      "Retrieving weather data for city number 62:  qaqortoq\n",
      "Retrieving weather data for city number 63:  iqaluit\n",
      "Retrieving weather data for city number 64:  mar del plata\n",
      "Retrieving weather data for city number 65:  thompson\n",
      "Retrieving weather data for city number 66:  sisimiut\n",
      "Retrieving weather data for city number 67:  hermanus\n",
      "Retrieving weather data for city number 68:  beyneu\n",
      "Retrieving weather data for city number 69:  nsanje\n",
      "Retrieving weather data for city number 70:  setermoen\n",
      "Retrieving weather data for city number 71:  carnarvon\n",
      "Retrieving weather data for city number 72:  krasnomayskiy\n",
      "Retrieving weather data for city number 73:  port elizabeth\n",
      "Retrieving weather data for city number 74:  sao paulo de olivenca\n",
      "Retrieving weather data for city number 75:  belyy yar\n",
      "Retrieving weather data for city number 76:  chebsara\n",
      "Retrieving weather data for city number 77:  longyearbyen\n",
      "Retrieving weather data for city number 78:  saskylakh\n",
      "Retrieving weather data for city number 79:  sao joao da barra\n",
      "Retrieving weather data for city number 80:  yellowknife\n",
      "Retrieving weather data for city number 81:  rujewa\n",
      "Retrieving weather data for city number 82:  ribeira grande\n",
      "Retrieving weather data for city number 83:  byron bay\n",
      "nizhneyansk not found, skip this one\n",
      "Retrieving weather data for city number 85:  abha\n",
      "Retrieving weather data for city number 86:  atuona\n",
      "Retrieving weather data for city number 87:  fortuna\n",
      "Retrieving weather data for city number 88:  mizdah\n",
      "Retrieving weather data for city number 89:  champerico\n",
      "Retrieving weather data for city number 90:  cabo san lucas\n",
      "Retrieving weather data for city number 91:  lebu\n",
      "Retrieving weather data for city number 92:  palmer\n",
      "Retrieving weather data for city number 93:  charters towers\n",
      "Retrieving weather data for city number 94:  lithakia\n",
      "Retrieving weather data for city number 95:  hovd\n",
      "Retrieving weather data for city number 96:  victoria\n",
      "Retrieving weather data for city number 97:  barrow\n",
      "Retrieving weather data for city number 98:  colares\n",
      "Retrieving weather data for city number 99:  husavik\n",
      "Retrieving weather data for city number 100:  kapaa\n",
      "barentsburg not found, skip this one\n",
      "Retrieving weather data for city number 102:  hofn\n",
      "Retrieving weather data for city number 103:  lewiston\n",
      "bolungarvik not found, skip this one\n",
      "Retrieving weather data for city number 105:  mahibadhoo\n",
      "Retrieving weather data for city number 106:  chokurdakh\n",
      "taolanaro not found, skip this one\n",
      "Retrieving weather data for city number 108:  maniwaki\n",
      "Retrieving weather data for city number 109:  chuy\n",
      "Retrieving weather data for city number 110:  birin\n",
      "Retrieving weather data for city number 111:  turukhansk\n",
      "Retrieving weather data for city number 112:  hilo\n",
      "mys shmidta not found, skip this one\n",
      "Retrieving weather data for city number 114:  east london\n",
      "Retrieving weather data for city number 115:  garoua boulai\n",
      "halalo not found, skip this one\n",
      "Retrieving weather data for city number 117:  tiksi\n",
      "illoqqortoormiut not found, skip this one\n",
      "Retrieving weather data for city number 119:  itatiba\n",
      "Retrieving weather data for city number 120:  traverse city\n",
      "Retrieving weather data for city number 121:  kanniyakumari\n",
      "Retrieving weather data for city number 122:  leshukonskoye\n",
      "Retrieving weather data for city number 123:  mamallapuram\n",
      "Retrieving weather data for city number 124:  itoman\n",
      "Retrieving weather data for city number 125:  tafresh\n",
      "Retrieving weather data for city number 126:  zhob\n",
      "Retrieving weather data for city number 127:  upernavik\n",
      "Retrieving weather data for city number 128:  healdsburg\n",
      "Retrieving weather data for city number 129:  brainerd\n",
      "Retrieving weather data for city number 130:  new norfolk\n",
      "Retrieving weather data for city number 131:  amherst\n",
      "Retrieving weather data for city number 132:  vostok\n",
      "Retrieving weather data for city number 133:  maniitsoq\n",
      "Retrieving weather data for city number 134:  havoysund\n",
      "Retrieving weather data for city number 135:  sao filipe\n",
      "Retrieving weather data for city number 136:  cabo rojo\n",
      "Retrieving weather data for city number 137:  cayenne\n",
      "Retrieving weather data for city number 138:  saint george\n",
      "Retrieving weather data for city number 139:  manuk mangkaw\n",
      "Retrieving weather data for city number 140:  daru\n",
      "Retrieving weather data for city number 141:  petatlan\n",
      "Retrieving weather data for city number 142:  loa janan\n",
      "Retrieving weather data for city number 143:  vaini\n",
      "Retrieving weather data for city number 144:  geraldton\n",
      "Retrieving weather data for city number 145:  severo-kurilsk\n",
      "Retrieving weather data for city number 146:  san quintin\n",
      "Retrieving weather data for city number 147:  mulchen\n",
      "Retrieving weather data for city number 148:  tornio\n",
      "Retrieving weather data for city number 149:  edgewater\n",
      "Retrieving weather data for city number 150:  cape town\n",
      "Retrieving weather data for city number 151:  uruguaiana\n",
      "Retrieving weather data for city number 152:  araouane\n",
      "Retrieving weather data for city number 153:  arraial do cabo\n",
      "Retrieving weather data for city number 154:  poronaysk\n",
      "Retrieving weather data for city number 155:  arethousa\n"
     ]
    },
    {
     "name": "stdout",
     "output_type": "stream",
     "text": [
      "Retrieving weather data for city number 156:  serrana\n",
      "Retrieving weather data for city number 157:  boguchany\n",
      "Retrieving weather data for city number 158:  marfino\n",
      "Retrieving weather data for city number 159:  tzucacab\n",
      "Retrieving weather data for city number 160:  vetluzhskiy\n",
      "Retrieving weather data for city number 161:  bandarbeyla\n",
      "Retrieving weather data for city number 162:  cuamba\n",
      "Retrieving weather data for city number 163:  aklavik\n",
      "Retrieving weather data for city number 164:  airai\n",
      "Retrieving weather data for city number 165:  sibolga\n",
      "Retrieving weather data for city number 166:  mingshui\n",
      "Retrieving weather data for city number 167:  kruisfontein\n",
      "Retrieving weather data for city number 168:  krasnoselkup\n",
      "Retrieving weather data for city number 169:  nikolskoye\n",
      "Retrieving weather data for city number 170:  tayoltita\n",
      "Retrieving weather data for city number 171:  mopipi\n",
      "Retrieving weather data for city number 172:  santiago del estero\n",
      "Retrieving weather data for city number 173:  tateyama\n",
      "Retrieving weather data for city number 174:  ostrovnoy\n",
      "sumbawa not found, skip this one\n",
      "Retrieving weather data for city number 176:  hailar\n",
      "Retrieving weather data for city number 177:  diego de almagro\n",
      "Retrieving weather data for city number 178:  nishihara\n",
      "grand river south east not found, skip this one\n",
      "mahadday weyne not found, skip this one\n",
      "Retrieving weather data for city number 181:  agar\n",
      "Retrieving weather data for city number 182:  coihaique\n",
      "Retrieving weather data for city number 183:  elliot lake\n",
      "Retrieving weather data for city number 184:  adeje\n",
      "Retrieving weather data for city number 185:  mahebourg\n",
      "Retrieving weather data for city number 186:  buraydah\n",
      "Retrieving weather data for city number 187:  kaitangata\n",
      "Retrieving weather data for city number 188:  iguai\n",
      "Retrieving weather data for city number 189:  bathsheba\n",
      "amderma not found, skip this one\n",
      "Retrieving weather data for city number 191:  lewisporte\n",
      "Retrieving weather data for city number 192:  lagunas\n",
      "Retrieving weather data for city number 193:  oranjemund\n",
      "Retrieving weather data for city number 194:  cap-aux-meules\n",
      "Retrieving weather data for city number 195:  bethel\n",
      "solovetskiy not found, skip this one\n",
      "okandja not found, skip this one\n",
      "Retrieving weather data for city number 198:  virginia beach\n",
      "Retrieving weather data for city number 199:  hobart\n",
      "Retrieving weather data for city number 200:  guerande\n",
      "Retrieving weather data for city number 201:  mama\n",
      "Retrieving weather data for city number 202:  atambua\n",
      "Retrieving weather data for city number 203:  clyde river\n",
      "Retrieving weather data for city number 204:  santa rosa\n",
      "Retrieving weather data for city number 205:  northam\n",
      "Retrieving weather data for city number 206:  comodoro rivadavia\n",
      "Retrieving weather data for city number 207:  macklin\n",
      "Retrieving weather data for city number 208:  hithadhoo\n",
      "Retrieving weather data for city number 209:  mazagao\n",
      "Retrieving weather data for city number 210:  zyryanka\n",
      "Retrieving weather data for city number 211:  izumo\n",
      "Retrieving weather data for city number 212:  liverpool\n",
      "Retrieving weather data for city number 213:  nuuk\n",
      "Retrieving weather data for city number 214:  tuktoyaktuk\n",
      "Retrieving weather data for city number 215:  talnakh\n",
      "Retrieving weather data for city number 216:  avarua\n",
      "Retrieving weather data for city number 217:  asau\n",
      "Retrieving weather data for city number 218:  ust-kuyga\n",
      "Retrieving weather data for city number 219:  codrington\n",
      "Retrieving weather data for city number 220:  coquimbo\n",
      "Retrieving weather data for city number 221:  grand gaube\n",
      "Retrieving weather data for city number 222:  namibe\n",
      "Retrieving weather data for city number 223:  haines junction\n",
      "Retrieving weather data for city number 224:  yulara\n",
      "Retrieving weather data for city number 225:  lat yao\n",
      "Retrieving weather data for city number 226:  prieska\n",
      "Retrieving weather data for city number 227:  butaritari\n",
      "Retrieving weather data for city number 228:  gorele\n",
      "Retrieving weather data for city number 229:  quatre cocos\n",
      "Retrieving weather data for city number 230:  porto santo\n",
      "Retrieving weather data for city number 231:  bambous virieux\n",
      "Retrieving weather data for city number 232:  troitsko-pechorsk\n",
      "Retrieving weather data for city number 233:  mayenne\n",
      "Retrieving weather data for city number 234:  tunceli\n",
      "Retrieving weather data for city number 235:  la rioja\n",
      "Retrieving weather data for city number 236:  westport\n",
      "Retrieving weather data for city number 237:  angoche\n",
      "marcona not found, skip this one\n"
     ]
    }
   ],
   "source": [
    "# Retrieve articles\n",
    "\n",
    "city_names = cities\n",
    "city_weather = []\n",
    "weather = {'City':[], \n",
    "           'Lat':[], \n",
    "            'Lng':[],\n",
    "            'Max Temp':[],\n",
    "            'Humidity':[],\n",
    "           'Cloudiness':[],\n",
    "           'Wind Speed':[],\n",
    "           'Country':[],\n",
    "           'Date':[]\n",
    "             }\n",
    "i=0\n",
    "for city_name in city_names:\n",
    "    #try:\n",
    "    query_url = f\"http://api.openweathermap.org/data/2.5/weather?q={city_name}&units=imperial&appid={api_key}\"\n",
    "    result = requests.get(query_url).json()\n",
    "    #print(result)\n",
    "    \n",
    "    if 'coord' in result:  #Used this to check for missing cities, but will switch to the try/except method\n",
    "        \n",
    "        city_weather.append(result)\n",
    "        print(f\"Retrieving weather data for city number {city_names.index(city_name)+1}:  {city_name}\")\n",
    "        number = city_names.index(city_name)+1\n",
    "        \n",
    "        name = city_weather[i]['name']\n",
    "        lat = city_weather[i]['coord']['lat']\n",
    "        lng = city_weather[i]['coord']['lon']\n",
    "        cur_temp = city_weather[i]['main']['temp']\n",
    "        max_temp = city_weather[i]['main']['temp_max']\n",
    "        hum = city_weather[i]['main']['humidity']\n",
    "        clouds = city_weather[i]['clouds']['all']\n",
    "        wind = city_weather[i]['wind']['speed']\n",
    "        country = city_weather[i]['sys']['country']\n",
    "        dt = city_weather[i]['dt']\n",
    "    \n",
    "        weather['City'].append(name)\n",
    "        weather['Lat'].append(lat) \n",
    "        weather['Lng'].append(lng) \n",
    "        weather['Max Temp'].append(max_temp) \n",
    "        weather['Humidity'].append(hum) \n",
    "        weather['Cloudiness'].append(clouds) \n",
    "        weather['Country'].append(country) \n",
    "        weather['Wind Speed'].append(wind)\n",
    "        weather['Date'].append(dt) \n",
    "        i+=1\n",
    "    \n",
    "    else: \n",
    "        print(f\"{city_name} not found, skip this one\")\n",
    "        \n",
    "\n",
    "    \n",
    "    \n",
    "\n"
   ]
  },
  {
   "cell_type": "markdown",
   "metadata": {},
   "source": [
    "### Convert Raw Data to DataFrame\n",
    "* Export the city data into a .csv.\n",
    "* Display the DataFrame"
   ]
  },
  {
   "cell_type": "code",
   "execution_count": null,
   "metadata": {},
   "outputs": [],
   "source": [
    "weather_df = pd.DataFrame(weather)\n",
    "weather_df.to_csv(\"output_data/cities.csv\", index = False)\n",
    "weather_df"
   ]
  },
  {
   "cell_type": "code",
   "execution_count": null,
   "metadata": {},
   "outputs": [],
   "source": []
  },
  {
   "cell_type": "markdown",
   "metadata": {},
   "source": [
    "## Inspect the data and remove the cities where the humidity > 100%.\n",
    "----\n",
    "Skip this step if there are no cities that have humidity > 100%. "
   ]
  },
  {
   "cell_type": "code",
   "execution_count": null,
   "metadata": {},
   "outputs": [],
   "source": [
    "len(weather_df)\n",
    "for i in range(len(weather_df)):\n",
    "    if weather_df['Humidity'][i] > 100:\n",
    "        print(i)\n",
    "        print(weather_df['Humidity'][i])\n",
    "        \n",
    "        weather_df.drop(index=i)\n",
    "\n",
    "clean_city_data = weather_df        \n",
    "len(clean_city_data)\n",
    "clean_city_data.rename(columns = {'Lat': 'Latitude'}, inplace = True)"
   ]
  },
  {
   "cell_type": "code",
   "execution_count": null,
   "metadata": {},
   "outputs": [],
   "source": [
    "#clean_city_data.head()\n",
    "\n",
    "today = date.today()\n",
    "print(today)\n"
   ]
  },
  {
   "cell_type": "code",
   "execution_count": null,
   "metadata": {},
   "outputs": [],
   "source": [
    "#Define function for making  scatter plots\n",
    "\n",
    "def make_scatter_plot(df, x_col, y_col):\n",
    "    \"This creates a scatter plot given a list of x values, y values, x label, y label and title\"\n",
    "    x = df[x_col]\n",
    "    y = df[y_col]\n",
    "  \n",
    "    \n",
    "    #generating random number to be included in fig name so that new figure is unlikely to \n",
    "    #be named the same as a previous figure \n",
    "    \n",
    "    fig_num = random.randint(1, 100)\n",
    "\n",
    "    plt.scatter(x, y)\n",
    "    plt.xlabel(x_col)\n",
    "    plt.ylabel(y_col)\n",
    "    plt.title(f\"{y_col} as a function of {x_col} {today}\")\n",
    "    plt.ylim(min(y)-10,max(y)+10)\n",
    "    plt.savefig(f\"{x_col}_{y_col} ({today})_{fig_num}.png\")\n",
    "   \n",
    "    linregress(x,y)\n",
    "    reg = linregress(x,y)\n",
    "    reg_line = reg[0]*x + reg[1]\n",
    "\n",
    "    plt.plot(x,reg_line, color=\"red\")\n",
    "    r_squared = round(reg[2]**2,2)\n",
    "    print(f\"r squared = {r_squared}\")\n",
    "              \n"
   ]
  },
  {
   "cell_type": "markdown",
   "metadata": {},
   "source": [
    "## Latitude vs. Temperature Plot"
   ]
  },
  {
   "cell_type": "code",
   "execution_count": null,
   "metadata": {
    "scrolled": true
   },
   "outputs": [],
   "source": [
    "make_scatter_plot(clean_city_data, 'Latitude', 'Max Temp')\n"
   ]
  },
  {
   "cell_type": "markdown",
   "metadata": {},
   "source": [
    "This plot shows maximum temperature plotted against latitude.  Temperature appears to\n",
    "decrease as the latitude gets farther from 0, more so in the northern hemisphere (lat > 0).\n",
    "The r-squared value of .52 doesn't seem particularly strong, but this is confounded by using negative and positive lat numbers in the same graph.  Graphs per hemisphere, and based on the absolute latitude are shown in later figures."
   ]
  },
  {
   "cell_type": "markdown",
   "metadata": {},
   "source": [
    "## Latitude vs. Humidity Plot"
   ]
  },
  {
   "cell_type": "code",
   "execution_count": null,
   "metadata": {},
   "outputs": [],
   "source": [
    "make_scatter_plot(clean_city_data,'Latitude','Humidity')"
   ]
  },
  {
   "cell_type": "markdown",
   "metadata": {},
   "source": [
    "There does not seem to be an effect of latitude on humidity"
   ]
  },
  {
   "cell_type": "markdown",
   "metadata": {},
   "source": [
    "## Latitude vs. Cloudiness Plot"
   ]
  },
  {
   "cell_type": "code",
   "execution_count": null,
   "metadata": {},
   "outputs": [],
   "source": [
    "make_scatter_plot(clean_city_data,'Latitude','Cloudiness')"
   ]
  },
  {
   "cell_type": "markdown",
   "metadata": {},
   "source": [
    "There is no correlation between latitude and cloudiness."
   ]
  },
  {
   "cell_type": "markdown",
   "metadata": {},
   "source": [
    "## Latitude vs. Wind Speed Plot"
   ]
  },
  {
   "cell_type": "code",
   "execution_count": null,
   "metadata": {},
   "outputs": [],
   "source": [
    "make_scatter_plot(clean_city_data, 'Latitude','Wind Speed')"
   ]
  },
  {
   "cell_type": "markdown",
   "metadata": {},
   "source": [
    "There is no correlation between latitude and wind speed"
   ]
  },
  {
   "cell_type": "markdown",
   "metadata": {},
   "source": [
    "## Linear Regression"
   ]
  },
  {
   "cell_type": "code",
   "execution_count": null,
   "metadata": {},
   "outputs": [],
   "source": [
    "# The clean city daa frame was filtered for latitiudes > or < 0, splitting it into two DFs, \n",
    "#one for the northern hemisphere and one for the southern hemisphere.\n",
    "\n",
    "clean_city_data.head()\n",
    "\n",
    "north = clean_city_data[clean_city_data['Latitude']>0]\n",
    "north.head()\n",
    "print(f\"{len(north)} cities were analyzed for the northern hemisphere\")\n",
    "\n",
    "south = clean_city_data[clean_city_data['Latitude']<0]\n",
    "south.head()\n",
    "print(f\"{len(south)} cities were analyzed for the southern hemisphere\")  \n",
    "\n",
    "# check that filtering worked\n",
    "min(north['Latitude'])\n",
    "max(south['Latitude'])"
   ]
  },
  {
   "cell_type": "markdown",
   "metadata": {},
   "source": [
    "####  Northern Hemisphere - Max Temp vs. Latitude Linear Regression"
   ]
  },
  {
   "cell_type": "code",
   "execution_count": null,
   "metadata": {},
   "outputs": [],
   "source": [
    "make_scatter_plot(north, 'Latitude','Max Temp')"
   ]
  },
  {
   "cell_type": "markdown",
   "metadata": {},
   "source": [
    "Focusing just on the northern hemisphere (lat > 0) reveals a much stronger correlation\n",
    "(r^2 = 0.74) between Max Temp and Latitude"
   ]
  },
  {
   "cell_type": "markdown",
   "metadata": {},
   "source": [
    "####  Southern Hemisphere - Max Temp vs. Latitude Linear Regression"
   ]
  },
  {
   "cell_type": "code",
   "execution_count": null,
   "metadata": {},
   "outputs": [],
   "source": [
    "make_scatter_plot(south, 'Latitude','Max Temp')"
   ]
  },
  {
   "cell_type": "markdown",
   "metadata": {},
   "source": [
    "Focusing just on the southern hemisphere (lat < 0) reveals an apparent correlation between\n",
    "Max Temp and Latitude (r^2 = .37).  this correlation is much weaker than that for the northern hemisphere."
   ]
  },
  {
   "cell_type": "markdown",
   "metadata": {},
   "source": [
    "####  Northern Hemisphere - Humidity (%) vs. Latitude Linear Regression"
   ]
  },
  {
   "cell_type": "code",
   "execution_count": null,
   "metadata": {},
   "outputs": [],
   "source": [
    "make_scatter_plot(north, 'Latitude','Humidity')"
   ]
  },
  {
   "cell_type": "markdown",
   "metadata": {},
   "source": [
    " There is perhaps a weak correlation between Latitude and Humidity when considering just the\n",
    "northern hemisphere."
   ]
  },
  {
   "cell_type": "markdown",
   "metadata": {},
   "source": [
    "####  Southern Hemisphere - Humidity (%) vs. Latitude Linear Regression"
   ]
  },
  {
   "cell_type": "code",
   "execution_count": null,
   "metadata": {},
   "outputs": [],
   "source": [
    "make_scatter_plot(south, 'Latitude','Humidity')"
   ]
  },
  {
   "cell_type": "markdown",
   "metadata": {},
   "source": [
    "There is no correlation between Latitude and Humidity when considering just the\n",
    "southern hemisphere."
   ]
  },
  {
   "cell_type": "markdown",
   "metadata": {},
   "source": [
    "####  Northern Hemisphere - Cloudiness (%) vs. Latitude Linear Regression"
   ]
  },
  {
   "cell_type": "code",
   "execution_count": null,
   "metadata": {},
   "outputs": [],
   "source": [
    "make_scatter_plot(north, 'Latitude','Cloudiness')"
   ]
  },
  {
   "cell_type": "markdown",
   "metadata": {},
   "source": [
    "There is no correlation between Latitude and Cloudiness when considering just the\n",
    "northern hemisphere."
   ]
  },
  {
   "cell_type": "markdown",
   "metadata": {},
   "source": [
    "####  Southern Hemisphere - Cloudiness (%) vs. Latitude Linear Regression"
   ]
  },
  {
   "cell_type": "code",
   "execution_count": null,
   "metadata": {},
   "outputs": [],
   "source": [
    "make_scatter_plot(south, 'Latitude','Cloudiness')"
   ]
  },
  {
   "cell_type": "markdown",
   "metadata": {},
   "source": [
    "There is no correlation between Latitude and Cloudiness when considering just the\n",
    "southern hemisphere."
   ]
  },
  {
   "cell_type": "markdown",
   "metadata": {},
   "source": [
    "####  Northern Hemisphere - Wind Speed (mph) vs. Latitude Linear Regression"
   ]
  },
  {
   "cell_type": "code",
   "execution_count": null,
   "metadata": {},
   "outputs": [],
   "source": [
    "make_scatter_plot(north, 'Latitude','Wind Speed')"
   ]
  },
  {
   "cell_type": "markdown",
   "metadata": {},
   "source": [
    "There is no correlation between Latitude and Cloudiness when considering just the\n",
    "southern hemisphere."
   ]
  },
  {
   "cell_type": "markdown",
   "metadata": {},
   "source": [
    "####  Southern Hemisphere - Wind Speed (mph) vs. Latitude Linear Regression"
   ]
  },
  {
   "cell_type": "code",
   "execution_count": null,
   "metadata": {},
   "outputs": [],
   "source": [
    "make_scatter_plot(south, 'Latitude','Wind Speed')"
   ]
  },
  {
   "cell_type": "markdown",
   "metadata": {},
   "source": [
    "There is no correlation between Latitude and wind speed when considering just the\n",
    "southern hemisphere."
   ]
  },
  {
   "cell_type": "markdown",
   "metadata": {},
   "source": [
    "Convert latitude to abs value to see if raw distance from equator is linear  temp"
   ]
  },
  {
   "cell_type": "code",
   "execution_count": null,
   "metadata": {},
   "outputs": [],
   "source": [
    "abs_lat = np.absolute(clean_city_data['Latitude'])\n",
    "clean_abs = clean_city_data\n",
    "clean_abs['Abs Latitude'] = abs_lat"
   ]
  },
  {
   "cell_type": "code",
   "execution_count": null,
   "metadata": {},
   "outputs": [],
   "source": [
    "\n",
    "make_scatter_plot(clean_abs,'Abs Latitude','Max Temp')\n"
   ]
  },
  {
   "cell_type": "markdown",
   "metadata": {},
   "source": [
    "There is a strong correlation between Latitude and Max temp when considering just the\n",
    "raw distance from the equator (absolute value of latititude)"
   ]
  }
 ],
 "metadata": {
  "anaconda-cloud": {},
  "kernel_info": {
   "name": "python3"
  },
  "kernelspec": {
   "display_name": "Python 3",
   "language": "python",
   "name": "python3"
  },
  "language_info": {
   "codemirror_mode": {
    "name": "ipython",
    "version": 3
   },
   "file_extension": ".py",
   "mimetype": "text/x-python",
   "name": "python",
   "nbconvert_exporter": "python",
   "pygments_lexer": "ipython3",
   "version": "3.6.10"
  },
  "latex_envs": {
   "LaTeX_envs_menu_present": true,
   "autoclose": false,
   "autocomplete": true,
   "bibliofile": "biblio.bib",
   "cite_by": "apalike",
   "current_citInitial": 1,
   "eqLabelWithNumbers": true,
   "eqNumInitial": 1,
   "hotkeys": {
    "equation": "Ctrl-E",
    "itemize": "Ctrl-I"
   },
   "labels_anchors": false,
   "latex_user_defs": false,
   "report_style_numbering": false,
   "user_envs_cfg": false
  },
  "nteract": {
   "version": "0.12.3"
  }
 },
 "nbformat": 4,
 "nbformat_minor": 4
}
