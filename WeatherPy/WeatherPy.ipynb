{
 "cells": [
  {
   "cell_type": "markdown",
   "metadata": {},
   "source": [
    "# WeatherPy\n",
    "----\n",
    "\n",
    "#### Note\n",
    "* Instructions have been included for each segment. You do not have to follow them exactly, but they are included to help you think through the steps."
   ]
  },
  {
   "cell_type": "code",
   "execution_count": 1,
   "metadata": {
    "scrolled": true
   },
   "outputs": [],
   "source": [
    "# Dependencies and Setup\n",
    "import matplotlib.pyplot as plt\n",
    "import pandas as pd\n",
    "import numpy as np\n",
    "import requests\n",
    "import time\n",
    "from scipy.stats import linregress\n",
    "from pprint import pprint\n",
    "import json\n",
    "\n",
    "# Import API key\n",
    "from config import api_key\n",
    "\n",
    "#print(api_key)\n",
    "\n",
    "# Incorporated citipy to determine city based on latitude and longitude\n",
    "from citipy import citipy\n",
    "\n",
    "# Output File (CSV)\n",
    "output_data_file = \"output_data/cities.csv\"\n",
    "\n",
    "# Range of latitudes and longitudes\n",
    "lat_range = (-90, 90)\n",
    "lng_range = (-180, 180)"
   ]
  },
  {
   "cell_type": "code",
   "execution_count": null,
   "metadata": {},
   "outputs": [],
   "source": []
  },
  {
   "cell_type": "markdown",
   "metadata": {},
   "source": [
    "## Generate Cities List"
   ]
  },
  {
   "cell_type": "code",
   "execution_count": 2,
   "metadata": {},
   "outputs": [
    {
     "name": "stdout",
     "output_type": "stream",
     "text": [
      "607\n"
     ]
    }
   ],
   "source": [
    "# List for holding lat_lngs and cities\n",
    "lat_lngs = []\n",
    "cities = []\n",
    "\n",
    "# Create a set of random lat and lng combinations\n",
    "lats = np.random.uniform(lat_range[0], lat_range[1], size=1500)\n",
    "lngs = np.random.uniform(lng_range[0], lng_range[1], size=1500)\n",
    "lat_lngs = zip(lats, lngs)\n",
    "\n",
    "# Identify nearest city for each lat, lng combination\n",
    "for lat_lng in lat_lngs:\n",
    "    city = citipy.nearest_city(lat_lng[0], lat_lng[1]).city_name\n",
    "    \n",
    "    # If the city is unique, then add it to a our cities list\n",
    "    if city not in cities:\n",
    "        cities.append(city)\n",
    "\n",
    "# Print the city count to confirm sufficient count\n",
    "print(len(cities))\n",
    "\n"
   ]
  },
  {
   "cell_type": "markdown",
   "metadata": {},
   "source": [
    "### Perform API Calls\n",
    "* Perform a weather check on each city using a series of successive API calls.\n",
    "* Include a print log of each city as it'sbeing processed (with the city number and city name).\n"
   ]
  },
  {
   "cell_type": "code",
   "execution_count": 3,
   "metadata": {
    "scrolled": true
   },
   "outputs": [
    {
     "name": "stdout",
     "output_type": "stream",
     "text": [
      "Retrieving weather data for city number 1:  thompson\n",
      "Retrieving weather data for city number 2:  harsud\n",
      "Retrieving weather data for city number 3:  bissau\n",
      "Retrieving weather data for city number 4:  kasangulu\n",
      "Retrieving weather data for city number 5:  mataura\n",
      "Retrieving weather data for city number 6:  rikitea\n",
      "Retrieving weather data for city number 7:  saint-philippe\n",
      "Retrieving weather data for city number 8:  brae\n",
      "Retrieving weather data for city number 9:  klaksvik\n",
      "Retrieving weather data for city number 10:  punta arenas\n",
      "Retrieving weather data for city number 11:  qiongshan\n",
      "Retrieving weather data for city number 12:  albany\n",
      "Retrieving weather data for city number 13:  hofn\n",
      "Retrieving weather data for city number 14:  hobart\n",
      "Retrieving weather data for city number 15:  jamestown\n",
      "Retrieving weather data for city number 16:  esperance\n",
      "Retrieving weather data for city number 17:  sao filipe\n",
      "Retrieving weather data for city number 18:  cockburn town\n",
      "Retrieving weather data for city number 19:  mahibadhoo\n",
      "Retrieving weather data for city number 20:  gat\n",
      "Retrieving weather data for city number 21:  andros town\n",
      "Retrieving weather data for city number 22:  santa luzia\n",
      "Retrieving weather data for city number 23:  yar-sale\n",
      "Retrieving weather data for city number 24:  vaini\n",
      "Retrieving weather data for city number 25:  madingou\n",
      "Retrieving weather data for city number 26:  cabo san lucas\n",
      "Retrieving weather data for city number 27:  atuona\n",
      "Retrieving weather data for city number 28:  kodiak\n",
      "Retrieving weather data for city number 29:  chokurdakh\n",
      "Retrieving weather data for city number 30:  hamilton\n",
      "karkaralinsk not found, skip this one\n",
      "ngukurr not found, skip this one\n",
      "Retrieving weather data for city number 33:  puerto baquerizo moreno\n",
      "Retrieving weather data for city number 34:  busselton\n",
      "Retrieving weather data for city number 35:  lebu\n",
      "Retrieving weather data for city number 36:  ushuaia\n",
      "Retrieving weather data for city number 37:  east london\n",
      "Retrieving weather data for city number 38:  rabak\n",
      "Retrieving weather data for city number 39:  katsuura\n",
      "Retrieving weather data for city number 40:  victoria\n",
      "Retrieving weather data for city number 41:  eyl\n",
      "Retrieving weather data for city number 42:  mount gambier\n",
      "Retrieving weather data for city number 43:  itoman\n",
      "Retrieving weather data for city number 44:  luderitz\n",
      "sentyabrskiy not found, skip this one\n",
      "Retrieving weather data for city number 46:  barrow\n",
      "Retrieving weather data for city number 47:  bluff\n",
      "Retrieving weather data for city number 48:  cape town\n",
      "Retrieving weather data for city number 49:  chuy\n",
      "Retrieving weather data for city number 50:  kobayashi\n",
      "Retrieving weather data for city number 51:  padang\n",
      "Retrieving weather data for city number 52:  port alfred\n",
      "Retrieving weather data for city number 53:  constitucion\n",
      "Retrieving weather data for city number 54:  tual\n",
      "Retrieving weather data for city number 55:  mahebourg\n",
      "Retrieving weather data for city number 56:  castro\n",
      "Retrieving weather data for city number 57:  tasiilaq\n",
      "Retrieving weather data for city number 58:  torbay\n",
      "Retrieving weather data for city number 59:  saint anthony\n",
      "Retrieving weather data for city number 60:  stokmarknes\n",
      "Retrieving weather data for city number 61:  yabrud\n",
      "Retrieving weather data for city number 62:  jardim\n",
      "Retrieving weather data for city number 63:  olafsvik\n",
      "Retrieving weather data for city number 64:  nouadhibou\n",
      "Retrieving weather data for city number 65:  bermejo\n",
      "Retrieving weather data for city number 66:  mahon\n",
      "Retrieving weather data for city number 67:  cozumel\n",
      "Retrieving weather data for city number 68:  carnarvon\n",
      "Retrieving weather data for city number 69:  mar del plata\n",
      "Retrieving weather data for city number 70:  sabha\n",
      "Retrieving weather data for city number 71:  tuktoyaktuk\n",
      "Retrieving weather data for city number 72:  great yarmouth\n",
      "amderma not found, skip this one\n",
      "Retrieving weather data for city number 74:  bend\n",
      "Retrieving weather data for city number 75:  ko samui\n",
      "Retrieving weather data for city number 76:  hithadhoo\n",
      "Retrieving weather data for city number 77:  aarschot\n",
      "Retrieving weather data for city number 78:  port lincoln\n",
      "Retrieving weather data for city number 79:  camacha\n",
      "Retrieving weather data for city number 80:  panguna\n",
      "Retrieving weather data for city number 81:  ruston\n",
      "Retrieving weather data for city number 82:  porto walter\n",
      "Retrieving weather data for city number 83:  arraial do cabo\n",
      "Retrieving weather data for city number 84:  airai\n",
      "Retrieving weather data for city number 85:  nikolskoye\n",
      "marcona not found, skip this one\n",
      "Retrieving weather data for city number 87:  vylkove\n",
      "Retrieving weather data for city number 88:  avarua\n",
      "Retrieving weather data for city number 89:  bengkulu\n",
      "Retrieving weather data for city number 90:  pisco\n",
      "Retrieving weather data for city number 91:  half moon bay\n",
      "Retrieving weather data for city number 92:  dikson\n",
      "Retrieving weather data for city number 93:  pirovskoye\n",
      "Retrieving weather data for city number 94:  faya\n",
      "Retrieving weather data for city number 95:  la crosse\n",
      "Retrieving weather data for city number 96:  port elizabeth\n",
      "Retrieving weather data for city number 97:  bubaque\n",
      "Retrieving weather data for city number 98:  ionia\n",
      "Retrieving weather data for city number 99:  yellowknife\n",
      "Retrieving weather data for city number 100:  sarakhs\n",
      "Retrieving weather data for city number 101:  saint george\n",
      "Retrieving weather data for city number 102:  abha\n",
      "Retrieving weather data for city number 103:  tias\n",
      "Retrieving weather data for city number 104:  baiquan\n",
      "Retrieving weather data for city number 105:  hasaki\n",
      "Retrieving weather data for city number 106:  skjervoy\n",
      "Retrieving weather data for city number 107:  lindenhurst\n",
      "Retrieving weather data for city number 108:  penzance\n",
      "Retrieving weather data for city number 109:  opuwo\n",
      "Retrieving weather data for city number 110:  ambulu\n",
      "Retrieving weather data for city number 111:  bambous virieux\n",
      "labutta not found, skip this one\n",
      "Retrieving weather data for city number 113:  coihaique\n",
      "Retrieving weather data for city number 114:  ostrovnoy\n",
      "Retrieving weather data for city number 115:  ponta do sol\n",
      "Retrieving weather data for city number 116:  maragogi\n",
      "Retrieving weather data for city number 117:  aksarka\n",
      "Retrieving weather data for city number 118:  marechal floriano\n",
      "Retrieving weather data for city number 119:  kaitangata\n",
      "belushya guba not found, skip this one\n",
      "Retrieving weather data for city number 121:  fort nelson\n",
      "Retrieving weather data for city number 122:  ambovombe\n",
      "Retrieving weather data for city number 123:  yulara\n",
      "Retrieving weather data for city number 124:  vega de alatorre\n",
      "Retrieving weather data for city number 125:  pevek\n",
      "Retrieving weather data for city number 126:  tuatapere\n",
      "Retrieving weather data for city number 127:  walker\n",
      "Retrieving weather data for city number 128:  grand gaube\n",
      "Retrieving weather data for city number 129:  bandarbeyla\n",
      "Retrieving weather data for city number 130:  pangody\n",
      "Retrieving weather data for city number 131:  butaritari\n",
      "Retrieving weather data for city number 132:  khatanga\n",
      "Retrieving weather data for city number 133:  richards bay\n",
      "Retrieving weather data for city number 134:  norman wells\n",
      "Retrieving weather data for city number 135:  necochea\n",
      "Retrieving weather data for city number 136:  goderich\n",
      "Retrieving weather data for city number 137:  saldanha\n",
      "Retrieving weather data for city number 138:  karratha\n",
      "Retrieving weather data for city number 139:  belmonte\n",
      "taolanaro not found, skip this one\n",
      "illoqqortoormiut not found, skip this one\n",
      "Retrieving weather data for city number 142:  nanortalik\n",
      "Retrieving weather data for city number 143:  flinders\n",
      "Retrieving weather data for city number 144:  kangaatsiaq\n",
      "Retrieving weather data for city number 145:  talnakh\n",
      "Retrieving weather data for city number 146:  bonavista\n",
      "Retrieving weather data for city number 147:  san cristobal\n",
      "Retrieving weather data for city number 148:  bredasdorp\n",
      "nizhneyansk not found, skip this one\n",
      "Retrieving weather data for city number 150:  dingle\n",
      "Retrieving weather data for city number 151:  praia\n",
      "Retrieving weather data for city number 152:  quatre cocos\n",
      "jabiru not found, skip this one\n",
      "Retrieving weather data for city number 154:  new norfolk\n",
      "jarjis not found, skip this one\n",
      "Retrieving weather data for city number 156:  upernavik\n",
      "Retrieving weather data for city number 157:  puerto ayora\n",
      "Retrieving weather data for city number 158:  djenne\n",
      "Retrieving weather data for city number 159:  camopi\n",
      "Retrieving weather data for city number 160:  tautira\n",
      "Retrieving weather data for city number 161:  hilo\n",
      "Retrieving weather data for city number 162:  dicabisagan\n",
      "Retrieving weather data for city number 163:  marsh harbour\n",
      "Retrieving weather data for city number 164:  timra\n",
      "Retrieving weather data for city number 165:  neryungri\n",
      "Retrieving weather data for city number 166:  clyde river\n",
      "Retrieving weather data for city number 167:  araouane\n",
      "Retrieving weather data for city number 168:  papillion\n",
      "Retrieving weather data for city number 169:  porbandar\n",
      "Retrieving weather data for city number 170:  baykit\n",
      "Retrieving weather data for city number 171:  bradford\n",
      "Retrieving weather data for city number 172:  avera\n",
      "Retrieving weather data for city number 173:  shimoda\n",
      "Retrieving weather data for city number 174:  puerto narino\n",
      "saleaula not found, skip this one\n",
      "Retrieving weather data for city number 176:  arlit\n",
      "Retrieving weather data for city number 177:  fare\n",
      "Retrieving weather data for city number 178:  alice springs\n",
      "Retrieving weather data for city number 179:  qaanaaq\n",
      "Retrieving weather data for city number 180:  kapaa\n",
      "Retrieving weather data for city number 181:  zapolyarnyy\n",
      "Retrieving weather data for city number 182:  alyangula\n",
      "Retrieving weather data for city number 183:  marabba\n",
      "yialos not found, skip this one\n",
      "Retrieving weather data for city number 185:  pauini\n",
      "Retrieving weather data for city number 186:  bhainsdehi\n",
      "Retrieving weather data for city number 187:  kismayo\n",
      "Retrieving weather data for city number 188:  itarema\n",
      "Retrieving weather data for city number 189:  kuchinarai\n",
      "Retrieving weather data for city number 190:  diffa\n",
      "Retrieving weather data for city number 191:  hassleholm\n",
      "Retrieving weather data for city number 192:  berdigestyakh\n",
      "Retrieving weather data for city number 193:  darab\n",
      "Retrieving weather data for city number 194:  guerrero negro\n",
      "Retrieving weather data for city number 195:  arivonimamo\n",
      "Retrieving weather data for city number 196:  waitati\n",
      "Retrieving weather data for city number 197:  khorixas\n",
      "Retrieving weather data for city number 198:  srednekolymsk\n",
      "Retrieving weather data for city number 199:  souillac\n",
      "Retrieving weather data for city number 200:  tiksi\n",
      "Retrieving weather data for city number 201:  nsanje\n",
      "Retrieving weather data for city number 202:  vostok\n",
      "Retrieving weather data for city number 203:  eureka\n",
      "Retrieving weather data for city number 204:  jiexiu\n",
      "warqla not found, skip this one\n",
      "Retrieving weather data for city number 206:  waycross\n",
      "Retrieving weather data for city number 207:  nicoya\n",
      "Retrieving weather data for city number 208:  youkounkoun\n",
      "Retrieving weather data for city number 209:  yuksekova\n",
      "Retrieving weather data for city number 210:  sabang\n",
      "Retrieving weather data for city number 211:  cherskiy\n",
      "Retrieving weather data for city number 212:  giovinazzo\n",
      "Retrieving weather data for city number 213:  kahului\n",
      "Retrieving weather data for city number 214:  petropavlovsk-kamchatskiy\n",
      "Retrieving weather data for city number 215:  soyo\n",
      "Retrieving weather data for city number 216:  naliya\n",
      "mys shmidta not found, skip this one\n",
      "vaitupu not found, skip this one\n",
      "eldikan not found, skip this one\n",
      "Retrieving weather data for city number 220:  byron bay\n",
      "Retrieving weather data for city number 221:  sembakung\n",
      "Retrieving weather data for city number 222:  bentiu\n",
      "Retrieving weather data for city number 223:  georgetown\n",
      "Retrieving weather data for city number 224:  praia da vitoria\n",
      "Retrieving weather data for city number 225:  umm kaddadah\n",
      "Retrieving weather data for city number 226:  tilichiki\n",
      "Retrieving weather data for city number 227:  bethel\n",
      "Retrieving weather data for city number 228:  buraydah\n",
      "Retrieving weather data for city number 229:  wanning\n",
      "Retrieving weather data for city number 230:  lappeenranta\n",
      "attawapiskat not found, skip this one\n",
      "Retrieving weather data for city number 232:  provideniya\n",
      "Retrieving weather data for city number 233:  smithers\n",
      "Retrieving weather data for city number 234:  russell\n",
      "Retrieving weather data for city number 235:  svetlaya\n",
      "Retrieving weather data for city number 236:  catalina\n",
      "Retrieving weather data for city number 237:  manavalakurichi\n",
      "Retrieving weather data for city number 238:  aanekoski\n",
      "Retrieving weather data for city number 239:  otavi\n",
      "Retrieving weather data for city number 240:  sinnamary\n",
      "Retrieving weather data for city number 241:  beringovskiy\n",
      "Retrieving weather data for city number 242:  bagacay\n",
      "Retrieving weather data for city number 243:  mangaratiba\n",
      "Retrieving weather data for city number 244:  alofi\n",
      "Retrieving weather data for city number 245:  ocos\n",
      "Retrieving weather data for city number 246:  fortuna\n",
      "Retrieving weather data for city number 247:  lapa\n",
      "Retrieving weather data for city number 248:  marawi\n",
      "Retrieving weather data for city number 249:  maniitsoq\n",
      "Retrieving weather data for city number 250:  noyabrsk\n",
      "Retrieving weather data for city number 251:  pampa\n",
      "Retrieving weather data for city number 252:  izumo\n",
      "Retrieving weather data for city number 253:  dese\n",
      "Retrieving weather data for city number 254:  komsomolskiy\n",
      "Retrieving weather data for city number 255:  kudahuvadhoo\n",
      "Retrieving weather data for city number 256:  ruiru\n",
      "Retrieving weather data for city number 257:  gawler\n",
      "Retrieving weather data for city number 258:  clarence town\n",
      "Retrieving weather data for city number 259:  toronto\n",
      "Retrieving weather data for city number 260:  fairbanks\n",
      "dolbeau not found, skip this one\n",
      "Retrieving weather data for city number 262:  ust-nera\n",
      "Retrieving weather data for city number 263:  nuuk\n",
      "Retrieving weather data for city number 264:  whitianga\n",
      "Retrieving weather data for city number 265:  seymchan\n",
      "Retrieving weather data for city number 266:  papara\n",
      "Retrieving weather data for city number 267:  ornskoldsvik\n",
      "Retrieving weather data for city number 268:  fuyu\n",
      "Retrieving weather data for city number 269:  umm lajj\n",
      "Retrieving weather data for city number 270:  ribeira grande\n",
      "Retrieving weather data for city number 271:  nome\n",
      "Retrieving weather data for city number 272:  ruwi\n",
      "Retrieving weather data for city number 273:  harwich\n",
      "Retrieving weather data for city number 274:  bonthe\n",
      "Retrieving weather data for city number 275:  chabahar\n",
      "Retrieving weather data for city number 276:  yekaterinovka\n",
      "Retrieving weather data for city number 277:  kruisfontein\n",
      "Retrieving weather data for city number 278:  bilibino\n",
      "Retrieving weather data for city number 279:  champasak\n",
      "hihifo not found, skip this one\n",
      "Retrieving weather data for city number 281:  mgachi\n",
      "Retrieving weather data for city number 282:  mecca\n",
      "Retrieving weather data for city number 283:  san vicente\n",
      "karaul not found, skip this one\n",
      "Retrieving weather data for city number 285:  linxia\n",
      "Retrieving weather data for city number 286:  mochalishche\n",
      "Retrieving weather data for city number 287:  kurilsk\n",
      "Retrieving weather data for city number 288:  dalian\n",
      "Retrieving weather data for city number 289:  hambantota\n",
      "Retrieving weather data for city number 290:  high prairie\n",
      "Retrieving weather data for city number 291:  kavaratti\n",
      "Retrieving weather data for city number 292:  port macquarie\n",
      "Retrieving weather data for city number 293:  sekoma\n",
      "Retrieving weather data for city number 294:  ishinomaki\n",
      "Retrieving weather data for city number 295:  isangel\n",
      "Retrieving weather data for city number 296:  hermanus\n",
      "pakwach not found, skip this one\n",
      "Retrieving weather data for city number 298:  tukrah\n",
      "Retrieving weather data for city number 299:  severo-kurilsk\n",
      "Retrieving weather data for city number 300:  khandyga\n",
      "Retrieving weather data for city number 301:  araguaina\n",
      "Retrieving weather data for city number 302:  bathsheba\n",
      "Retrieving weather data for city number 303:  baruun-urt\n",
      "Retrieving weather data for city number 304:  venado tuerto\n",
      "Retrieving weather data for city number 305:  tarakan\n",
      "Retrieving weather data for city number 306:  darhan\n",
      "Retrieving weather data for city number 307:  geraldton\n",
      "Retrieving weather data for city number 308:  hami\n",
      "Retrieving weather data for city number 309:  launceston\n",
      "Retrieving weather data for city number 310:  aswan\n",
      "Retrieving weather data for city number 311:  binga\n",
      "Retrieving weather data for city number 312:  matara\n",
      "Retrieving weather data for city number 313:  cleethorpes\n",
      "Retrieving weather data for city number 314:  nichinan\n",
      "Retrieving weather data for city number 315:  atambua\n",
      "Retrieving weather data for city number 316:  sayyan\n",
      "Retrieving weather data for city number 317:  ilulissat\n",
      "kamenskoye not found, skip this one\n",
      "barentsburg not found, skip this one\n",
      "artyk not found, skip this one\n",
      "Retrieving weather data for city number 321:  morant bay\n",
      "Retrieving weather data for city number 322:  sao joao da barra\n",
      "meyungs not found, skip this one\n",
      "Retrieving weather data for city number 324:  vila velha\n",
      "Retrieving weather data for city number 325:  touros\n",
      "Retrieving weather data for city number 326:  kavieng\n",
      "Retrieving weather data for city number 327:  sulangan\n",
      "Retrieving weather data for city number 328:  sur\n",
      "Retrieving weather data for city number 329:  anadyr\n",
      "Retrieving weather data for city number 330:  caravelas\n",
      "Retrieving weather data for city number 331:  puerto padre\n",
      "Retrieving weather data for city number 332:  padilla\n",
      "Retrieving weather data for city number 333:  bodo\n",
      "Retrieving weather data for city number 334:  zhangzhou\n",
      "phan rang not found, skip this one\n",
      "Retrieving weather data for city number 336:  huarmey\n",
      "Retrieving weather data for city number 337:  nishihara\n",
      "Retrieving weather data for city number 338:  dawlatabad\n",
      "Retrieving weather data for city number 339:  solnechnyy\n",
      "Retrieving weather data for city number 340:  sturgeon falls\n",
      "Retrieving weather data for city number 341:  mareeba\n",
      "louisbourg not found, skip this one\n",
      "Retrieving weather data for city number 343:  san patricio\n",
      "umzimvubu not found, skip this one\n",
      "Retrieving weather data for city number 345:  belaya gora\n",
      "Retrieving weather data for city number 346:  valparai\n",
      "Retrieving weather data for city number 347:  chilca\n",
      "Retrieving weather data for city number 348:  rio branco\n",
      "Retrieving weather data for city number 349:  vestmanna\n",
      "Retrieving weather data for city number 350:  port hardy\n",
      "Retrieving weather data for city number 351:  mabaruma\n",
      "Retrieving weather data for city number 352:  sitka\n",
      "Retrieving weather data for city number 353:  catumbela\n",
      "Retrieving weather data for city number 354:  andenes\n",
      "Retrieving weather data for city number 355:  rio gallegos\n",
      "Retrieving weather data for city number 356:  nago\n",
      "Retrieving weather data for city number 357:  arona\n",
      "Retrieving weather data for city number 358:  amot\n",
      "Retrieving weather data for city number 359:  notodden\n",
      "tumannyy not found, skip this one\n",
      "Retrieving weather data for city number 361:  zhigansk\n",
      "Retrieving weather data for city number 362:  sinazongwe\n",
      "Retrieving weather data for city number 363:  parana\n",
      "Retrieving weather data for city number 364:  bud\n",
      "Retrieving weather data for city number 365:  sheregesh\n",
      "Retrieving weather data for city number 366:  ocampo\n",
      "Retrieving weather data for city number 367:  kirakira\n",
      "Retrieving weather data for city number 368:  vila franca do campo\n",
      "Retrieving weather data for city number 369:  qaqortoq\n",
      "Retrieving weather data for city number 370:  kulhudhuffushi\n",
      "Retrieving weather data for city number 371:  comodoro rivadavia\n",
      "Retrieving weather data for city number 372:  hurricane\n",
      "Retrieving weather data for city number 373:  longyearbyen\n",
      "Retrieving weather data for city number 374:  assiniboia\n",
      "Retrieving weather data for city number 375:  lompoc\n",
      "Retrieving weather data for city number 376:  tocopilla\n",
      "Retrieving weather data for city number 377:  ancud\n",
      "bolshaya orlovka not found, skip this one\n",
      "Retrieving weather data for city number 379:  codrington\n",
      "Retrieving weather data for city number 380:  gillette\n",
      "Retrieving weather data for city number 381:  pundaguitan\n",
      "Retrieving weather data for city number 382:  athabasca\n",
      "Retrieving weather data for city number 383:  port blair\n",
      "Retrieving weather data for city number 384:  cidreira\n",
      "Retrieving weather data for city number 385:  jalu\n",
      "Retrieving weather data for city number 386:  tigzirt\n",
      "Retrieving weather data for city number 387:  houston\n",
      "Retrieving weather data for city number 388:  denpasar\n",
      "Retrieving weather data for city number 389:  omboue\n",
      "Retrieving weather data for city number 390:  leningradskiy\n",
      "Retrieving weather data for city number 391:  gorontalo\n",
      "Retrieving weather data for city number 392:  mpulungu\n",
      "Retrieving weather data for city number 393:  massakory\n",
      "Retrieving weather data for city number 394:  ploemeur\n",
      "sorvag not found, skip this one\n",
      "Retrieving weather data for city number 396:  kamenka\n",
      "sahrak not found, skip this one\n",
      "Retrieving weather data for city number 398:  dunmore town\n",
      "Retrieving weather data for city number 399:  kendallville\n",
      "Retrieving weather data for city number 400:  lavrentiya\n",
      "Retrieving weather data for city number 401:  novoagansk\n",
      "Retrieving weather data for city number 402:  chernyshevskiy\n",
      "Retrieving weather data for city number 403:  evensk\n",
      "Retrieving weather data for city number 404:  adrar\n",
      "Retrieving weather data for city number 405:  novolabinskaya\n",
      "Retrieving weather data for city number 406:  ferme-neuve\n",
      "talawdi not found, skip this one\n",
      "pousat not found, skip this one\n",
      "Retrieving weather data for city number 409:  meulaboh\n",
      "Retrieving weather data for city number 410:  ebersberg\n",
      "Retrieving weather data for city number 411:  katherine\n",
      "Retrieving weather data for city number 412:  zhangjiakou\n",
      "Retrieving weather data for city number 413:  tessalit\n",
      "Retrieving weather data for city number 414:  lucapa\n",
      "Retrieving weather data for city number 415:  port moresby\n",
      "Retrieving weather data for city number 416:  burley\n",
      "sofiysk not found, skip this one\n",
      "Retrieving weather data for city number 418:  silvan\n",
      "Retrieving weather data for city number 419:  pemba\n",
      "Retrieving weather data for city number 420:  pokosnoye\n",
      "Retrieving weather data for city number 421:  camana\n",
      "Retrieving weather data for city number 422:  mehamn\n",
      "Retrieving weather data for city number 423:  riyadh\n",
      "Retrieving weather data for city number 424:  narsaq\n",
      "chikoy not found, skip this one\n",
      "Retrieving weather data for city number 426:  talaya\n",
      "Retrieving weather data for city number 427:  montreal\n",
      "satitoa not found, skip this one\n",
      "Retrieving weather data for city number 429:  korgen\n",
      "Retrieving weather data for city number 430:  mgandu\n",
      "Retrieving weather data for city number 431:  nova londrina\n",
      "chagda not found, skip this one\n",
      "Retrieving weather data for city number 433:  hermiston\n",
      "Retrieving weather data for city number 434:  visby\n",
      "Retrieving weather data for city number 435:  upata\n",
      "Retrieving weather data for city number 436:  usinsk\n",
      "Retrieving weather data for city number 437:  monterey\n",
      "Retrieving weather data for city number 438:  yelets\n",
      "Retrieving weather data for city number 439:  tooele\n",
      "aflu not found, skip this one\n",
      "Retrieving weather data for city number 441:  abu samrah\n",
      "tunduru not found, skip this one\n",
      "Retrieving weather data for city number 443:  pahrump\n",
      "Retrieving weather data for city number 444:  la libertad\n",
      "Retrieving weather data for city number 445:  oriximina\n",
      "Retrieving weather data for city number 446:  high rock\n",
      "Retrieving weather data for city number 447:  peniche\n",
      "Retrieving weather data for city number 448:  gopalpur\n",
      "Retrieving weather data for city number 449:  sao sebastiao\n",
      "Retrieving weather data for city number 450:  broome\n",
      "Retrieving weather data for city number 451:  mathbaria\n",
      "Retrieving weather data for city number 452:  nuevo progreso\n",
      "Retrieving weather data for city number 453:  sarangani\n",
      "Retrieving weather data for city number 454:  porto murtinho\n",
      "Retrieving weather data for city number 455:  shelbyville\n",
      "Retrieving weather data for city number 456:  omsukchan\n",
      "Retrieving weather data for city number 457:  magadi\n",
      "Retrieving weather data for city number 458:  barth\n",
      "Retrieving weather data for city number 459:  pop\n",
      "Retrieving weather data for city number 460:  zaragoza\n",
      "Retrieving weather data for city number 461:  ahipara\n",
      "Retrieving weather data for city number 462:  labuhan\n",
      "ust-bolsheretsk not found, skip this one\n",
      "Retrieving weather data for city number 464:  oxford\n",
      "Retrieving weather data for city number 465:  nawabganj\n",
      "Retrieving weather data for city number 466:  naron\n",
      "Retrieving weather data for city number 467:  salalah\n",
      "Retrieving weather data for city number 468:  pangnirtung\n",
      "Retrieving weather data for city number 469:  muros\n",
      "Retrieving weather data for city number 470:  ushtobe\n",
      "Retrieving weather data for city number 471:  sioux falls\n",
      "Retrieving weather data for city number 472:  puro\n",
      "Retrieving weather data for city number 473:  kungurtug\n",
      "Retrieving weather data for city number 474:  santo antonio do monte\n",
      "Retrieving weather data for city number 475:  la ronge\n",
      "Retrieving weather data for city number 476:  rawson\n",
      "Retrieving weather data for city number 477:  kroya\n",
      "Retrieving weather data for city number 478:  atagay\n",
      "Retrieving weather data for city number 479:  jinchang\n",
      "Retrieving weather data for city number 480:  ondjiva\n",
      "duz not found, skip this one\n",
      "Retrieving weather data for city number 482:  invermere\n",
      "Retrieving weather data for city number 483:  aklavik\n",
      "Retrieving weather data for city number 484:  charters towers\n",
      "Retrieving weather data for city number 485:  mayumba\n",
      "Retrieving weather data for city number 486:  ukiah\n",
      "Retrieving weather data for city number 487:  jos\n",
      "burica not found, skip this one\n",
      "Retrieving weather data for city number 489:  port hawkesbury\n",
      "Retrieving weather data for city number 490:  kabare\n",
      "Retrieving weather data for city number 491:  swan hill\n",
      "Retrieving weather data for city number 492:  saskylakh\n",
      "Retrieving weather data for city number 493:  show low\n",
      "Retrieving weather data for city number 494:  terme\n",
      "Retrieving weather data for city number 495:  la orilla\n",
      "Retrieving weather data for city number 496:  benicarlo\n",
      "Retrieving weather data for city number 497:  lorengau\n",
      "Retrieving weather data for city number 498:  hay river\n",
      "Retrieving weather data for city number 499:  sola\n",
      "Retrieving weather data for city number 500:  barka kana\n",
      "Retrieving weather data for city number 501:  fresnillo\n",
      "Retrieving weather data for city number 502:  botelhos\n",
      "Retrieving weather data for city number 503:  sambava\n",
      "tsihombe not found, skip this one\n",
      "Retrieving weather data for city number 505:  batticaloa\n",
      "Retrieving weather data for city number 506:  massaguet\n",
      "Retrieving weather data for city number 507:  along\n",
      "Retrieving weather data for city number 508:  puri\n",
      "Retrieving weather data for city number 509:  poyarkovo\n",
      "Retrieving weather data for city number 510:  lalmohan\n",
      "Retrieving weather data for city number 511:  george town\n",
      "Retrieving weather data for city number 512:  mayo\n",
      "Retrieving weather data for city number 513:  ulaangom\n",
      "Retrieving weather data for city number 514:  point fortin\n",
      "Retrieving weather data for city number 515:  takoradi\n",
      "Retrieving weather data for city number 516:  krasnoselkup\n",
      "Retrieving weather data for city number 517:  surt\n",
      "Retrieving weather data for city number 518:  vestmannaeyjar\n",
      "Retrieving weather data for city number 519:  mitu\n",
      "Retrieving weather data for city number 520:  aasiaat\n",
      "Retrieving weather data for city number 521:  tandalti\n",
      "Retrieving weather data for city number 522:  poum\n",
      "Retrieving weather data for city number 523:  severodvinsk\n",
      "Retrieving weather data for city number 524:  sebezh\n",
      "Retrieving weather data for city number 525:  altamira\n",
      "Retrieving weather data for city number 526:  yumen\n",
      "Retrieving weather data for city number 527:  mahbubnagar\n",
      "Retrieving weather data for city number 528:  valle de allende\n",
      "Retrieving weather data for city number 529:  palmer\n",
      "Retrieving weather data for city number 530:  alakurtti\n",
      "Retrieving weather data for city number 531:  vangaindrano\n",
      "Retrieving weather data for city number 532:  prigrevica\n",
      "Retrieving weather data for city number 533:  broken hill\n",
      "Retrieving weather data for city number 534:  kumluca\n",
      "sataua not found, skip this one\n",
      "Retrieving weather data for city number 536:  menongue\n",
      "Retrieving weather data for city number 537:  buta\n",
      "papasquiaro not found, skip this one\n",
      "Retrieving weather data for city number 539:  atar\n",
      "Retrieving weather data for city number 540:  kununurra\n",
      "Retrieving weather data for city number 541:  dunedin\n",
      "Retrieving weather data for city number 542:  ust-maya\n",
      "Retrieving weather data for city number 543:  noumea\n",
      "Retrieving weather data for city number 544:  worland\n",
      "Retrieving weather data for city number 545:  empalme\n",
      "Retrieving weather data for city number 546:  saint-pierre\n",
      "Retrieving weather data for city number 547:  inuvik\n",
      "Retrieving weather data for city number 548:  luena\n",
      "Retrieving weather data for city number 549:  pozo colorado\n",
      "Retrieving weather data for city number 550:  colares\n",
      "Retrieving weather data for city number 551:  kemijarvi\n",
      "Retrieving weather data for city number 552:  gravdal\n",
      "Retrieving weather data for city number 553:  harper\n",
      "Retrieving weather data for city number 554:  faanui\n",
      "Retrieving weather data for city number 555:  hammerfest\n",
      "Retrieving weather data for city number 556:  chapais\n",
      "Retrieving weather data for city number 557:  saint-paul\n",
      "Retrieving weather data for city number 558:  huaiyin\n",
      "Retrieving weather data for city number 559:  san quintin\n",
      "Retrieving weather data for city number 560:  kieta\n",
      "Retrieving weather data for city number 561:  puerto escondido\n",
      "Retrieving weather data for city number 562:  yarada\n",
      "Retrieving weather data for city number 563:  pesqueira\n",
      "Retrieving weather data for city number 564:  port said\n",
      "mrirt not found, skip this one\n",
      "Retrieving weather data for city number 566:  xai-xai\n",
      "Retrieving weather data for city number 567:  wana\n",
      "Retrieving weather data for city number 568:  husavik\n",
      "Retrieving weather data for city number 569:  carmen de carupa\n",
      "Retrieving weather data for city number 570:  lae\n",
      "Retrieving weather data for city number 571:  antofagasta\n",
      "Retrieving weather data for city number 572:  palana\n",
      "Retrieving weather data for city number 573:  agadir\n",
      "Retrieving weather data for city number 574:  matagami\n",
      "Retrieving weather data for city number 575:  sakakah\n",
      "Retrieving weather data for city number 576:  lakes entrance\n",
      "Retrieving weather data for city number 577:  batemans bay\n",
      "Retrieving weather data for city number 578:  fatsa\n",
      "Retrieving weather data for city number 579:  nioro\n",
      "Retrieving weather data for city number 580:  el dorado\n",
      "Retrieving weather data for city number 581:  sivaki\n",
      "Retrieving weather data for city number 582:  virginia beach\n",
      "Retrieving weather data for city number 583:  glendive\n",
      "riaba not found, skip this one\n",
      "Retrieving weather data for city number 585:  rosario\n",
      "Retrieving weather data for city number 586:  ampanihy\n",
      "Retrieving weather data for city number 587:  ugoofaaru\n",
      "Retrieving weather data for city number 588:  sernur\n",
      "Retrieving weather data for city number 589:  koutsouras\n",
      "Retrieving weather data for city number 590:  pemangkat\n",
      "Retrieving weather data for city number 591:  wewak\n",
      "Retrieving weather data for city number 592:  ramanuj ganj\n",
      "Retrieving weather data for city number 593:  kirensk\n",
      "Retrieving weather data for city number 594:  gao\n",
      "Retrieving weather data for city number 595:  tanete\n",
      "Retrieving weather data for city number 596:  campina verde\n",
      "Retrieving weather data for city number 597:  blackwater\n",
      "Retrieving weather data for city number 598:  bobrovka\n",
      "Retrieving weather data for city number 599:  uusikaupunki\n",
      "Retrieving weather data for city number 600:  manicore\n",
      "Retrieving weather data for city number 601:  bedele\n",
      "Retrieving weather data for city number 602:  el cope\n",
      "Retrieving weather data for city number 603:  emerald\n",
      "Retrieving weather data for city number 604:  bahia blanca\n",
      "Retrieving weather data for city number 605:  rodney\n",
      "palabuhanratu not found, skip this one\n",
      "Retrieving weather data for city number 607:  jiuquan\n"
     ]
    }
   ],
   "source": [
    "# Retrieve articles\n",
    "\n",
    "city_names = cities\n",
    "city_weather = []\n",
    "weather = {'City':[], \n",
    "           'Lat':[], \n",
    "            'Lng':[],\n",
    "            'Max Temp':[],\n",
    "            'Humidity':[],\n",
    "           'Cloudiness':[],\n",
    "           'Wind Speed':[],\n",
    "           'Country':[],\n",
    "           'Date':[]\n",
    "             }\n",
    "i=0\n",
    "for city_name in city_names:\n",
    "    #try:\n",
    "    query_url = f\"http://api.openweathermap.org/data/2.5/weather?q={city_name}&units=imperial&appid={api_key}\"\n",
    "    result = requests.get(query_url).json()\n",
    "    #print(result)\n",
    "    \n",
    "    if 'coord' in result:  #Used this to check for missing cities, but will switch to the try/except method\n",
    "        \n",
    "        city_weather.append(result)\n",
    "        print(f\"Retrieving weather data for city number {city_names.index(city_name)+1}:  {city_name}\")\n",
    "        number = city_names.index(city_name)+1\n",
    "        \n",
    "        name = city_weather[i]['name']\n",
    "        lat = city_weather[i]['coord']['lat']\n",
    "        lng = city_weather[i]['coord']['lon']\n",
    "        cur_temp = city_weather[i]['main']['temp']\n",
    "        max_temp = city_weather[i]['main']['temp_max']\n",
    "        hum = city_weather[i]['main']['humidity']\n",
    "        clouds = city_weather[i]['clouds']['all']\n",
    "        wind = city_weather[i]['wind']['speed']\n",
    "        country = city_weather[i]['sys']['country']\n",
    "        date = city_weather[i]['dt']\n",
    "    \n",
    "        weather['City'].append(name)\n",
    "        weather['Lat'].append(lat) \n",
    "        weather['Lng'].append(lng) \n",
    "        weather['Max Temp'].append(max_temp) \n",
    "        weather['Humidity'].append(hum) \n",
    "        weather['Cloudiness'].append(clouds) \n",
    "        weather['Country'].append(country) \n",
    "        weather['Wind Speed'].append(wind)\n",
    "        weather['Date'].append(date) \n",
    "        i+=1\n",
    "    \n",
    "    else: \n",
    "        print(f\"{city_name} not found, skip this one\")\n",
    "    \n",
    "      \n",
    "\n",
    "#print(number,name, lat, hum, clouds, wind, country, date)\n",
    "\n",
    "#print (result)   \n",
    "\n",
    "\n",
    "#pprint(city_weather)\n",
    "\n",
    "\n"
   ]
  },
  {
   "cell_type": "markdown",
   "metadata": {},
   "source": [
    "### Convert Raw Data to DataFrame\n",
    "* Export the city data into a .csv.\n",
    "* Display the DataFrame"
   ]
  },
  {
   "cell_type": "code",
   "execution_count": 23,
   "metadata": {},
   "outputs": [
    {
     "data": {
      "text/html": [
       "<div>\n",
       "<style scoped>\n",
       "    .dataframe tbody tr th:only-of-type {\n",
       "        vertical-align: middle;\n",
       "    }\n",
       "\n",
       "    .dataframe tbody tr th {\n",
       "        vertical-align: top;\n",
       "    }\n",
       "\n",
       "    .dataframe thead th {\n",
       "        text-align: right;\n",
       "    }\n",
       "</style>\n",
       "<table border=\"1\" class=\"dataframe\">\n",
       "  <thead>\n",
       "    <tr style=\"text-align: right;\">\n",
       "      <th></th>\n",
       "      <th>City</th>\n",
       "      <th>Lat</th>\n",
       "      <th>Lng</th>\n",
       "      <th>Max Temp</th>\n",
       "      <th>Humidity</th>\n",
       "      <th>Cloudiness</th>\n",
       "      <th>Wind Speed</th>\n",
       "      <th>Country</th>\n",
       "      <th>Date</th>\n",
       "    </tr>\n",
       "  </thead>\n",
       "  <tbody>\n",
       "    <tr>\n",
       "      <th>0</th>\n",
       "      <td>Thompson</td>\n",
       "      <td>55.74</td>\n",
       "      <td>-97.86</td>\n",
       "      <td>-9.40</td>\n",
       "      <td>76</td>\n",
       "      <td>90</td>\n",
       "      <td>6.93</td>\n",
       "      <td>CA</td>\n",
       "      <td>1608678085</td>\n",
       "    </tr>\n",
       "    <tr>\n",
       "      <th>1</th>\n",
       "      <td>Harsūd</td>\n",
       "      <td>22.10</td>\n",
       "      <td>76.73</td>\n",
       "      <td>56.55</td>\n",
       "      <td>39</td>\n",
       "      <td>88</td>\n",
       "      <td>4.03</td>\n",
       "      <td>IN</td>\n",
       "      <td>1608678085</td>\n",
       "    </tr>\n",
       "    <tr>\n",
       "      <th>2</th>\n",
       "      <td>Bissau</td>\n",
       "      <td>11.86</td>\n",
       "      <td>-15.60</td>\n",
       "      <td>73.40</td>\n",
       "      <td>64</td>\n",
       "      <td>97</td>\n",
       "      <td>5.68</td>\n",
       "      <td>GW</td>\n",
       "      <td>1608678045</td>\n",
       "    </tr>\n",
       "    <tr>\n",
       "      <th>3</th>\n",
       "      <td>Kasangulu</td>\n",
       "      <td>-4.59</td>\n",
       "      <td>15.17</td>\n",
       "      <td>78.80</td>\n",
       "      <td>83</td>\n",
       "      <td>20</td>\n",
       "      <td>4.70</td>\n",
       "      <td>CD</td>\n",
       "      <td>1608678085</td>\n",
       "    </tr>\n",
       "    <tr>\n",
       "      <th>4</th>\n",
       "      <td>Mataura</td>\n",
       "      <td>-46.19</td>\n",
       "      <td>168.86</td>\n",
       "      <td>60.01</td>\n",
       "      <td>93</td>\n",
       "      <td>100</td>\n",
       "      <td>3.00</td>\n",
       "      <td>NZ</td>\n",
       "      <td>1608678086</td>\n",
       "    </tr>\n",
       "    <tr>\n",
       "      <th>...</th>\n",
       "      <td>...</td>\n",
       "      <td>...</td>\n",
       "      <td>...</td>\n",
       "      <td>...</td>\n",
       "      <td>...</td>\n",
       "      <td>...</td>\n",
       "      <td>...</td>\n",
       "      <td>...</td>\n",
       "      <td>...</td>\n",
       "    </tr>\n",
       "    <tr>\n",
       "      <th>551</th>\n",
       "      <td>El Copé</td>\n",
       "      <td>8.62</td>\n",
       "      <td>-80.60</td>\n",
       "      <td>80.60</td>\n",
       "      <td>88</td>\n",
       "      <td>20</td>\n",
       "      <td>8.50</td>\n",
       "      <td>PA</td>\n",
       "      <td>1608678163</td>\n",
       "    </tr>\n",
       "    <tr>\n",
       "      <th>552</th>\n",
       "      <td>Emerald</td>\n",
       "      <td>-23.53</td>\n",
       "      <td>148.17</td>\n",
       "      <td>80.60</td>\n",
       "      <td>65</td>\n",
       "      <td>40</td>\n",
       "      <td>17.22</td>\n",
       "      <td>AU</td>\n",
       "      <td>1608678163</td>\n",
       "    </tr>\n",
       "    <tr>\n",
       "      <th>553</th>\n",
       "      <td>Bahía Blanca</td>\n",
       "      <td>-38.72</td>\n",
       "      <td>-62.27</td>\n",
       "      <td>86.00</td>\n",
       "      <td>42</td>\n",
       "      <td>40</td>\n",
       "      <td>11.41</td>\n",
       "      <td>AR</td>\n",
       "      <td>1608678105</td>\n",
       "    </tr>\n",
       "    <tr>\n",
       "      <th>554</th>\n",
       "      <td>Rodney</td>\n",
       "      <td>42.57</td>\n",
       "      <td>-81.68</td>\n",
       "      <td>37.40</td>\n",
       "      <td>69</td>\n",
       "      <td>97</td>\n",
       "      <td>6.93</td>\n",
       "      <td>CA</td>\n",
       "      <td>1608678163</td>\n",
       "    </tr>\n",
       "    <tr>\n",
       "      <th>555</th>\n",
       "      <td>Jiuquan</td>\n",
       "      <td>39.74</td>\n",
       "      <td>98.52</td>\n",
       "      <td>13.91</td>\n",
       "      <td>77</td>\n",
       "      <td>44</td>\n",
       "      <td>3.27</td>\n",
       "      <td>CN</td>\n",
       "      <td>1608678163</td>\n",
       "    </tr>\n",
       "  </tbody>\n",
       "</table>\n",
       "<p>556 rows × 9 columns</p>\n",
       "</div>"
      ],
      "text/plain": [
       "             City    Lat     Lng  Max Temp  Humidity  Cloudiness  Wind Speed  \\\n",
       "0        Thompson  55.74  -97.86     -9.40        76          90        6.93   \n",
       "1          Harsūd  22.10   76.73     56.55        39          88        4.03   \n",
       "2          Bissau  11.86  -15.60     73.40        64          97        5.68   \n",
       "3       Kasangulu  -4.59   15.17     78.80        83          20        4.70   \n",
       "4         Mataura -46.19  168.86     60.01        93         100        3.00   \n",
       "..            ...    ...     ...       ...       ...         ...         ...   \n",
       "551       El Copé   8.62  -80.60     80.60        88          20        8.50   \n",
       "552       Emerald -23.53  148.17     80.60        65          40       17.22   \n",
       "553  Bahía Blanca -38.72  -62.27     86.00        42          40       11.41   \n",
       "554        Rodney  42.57  -81.68     37.40        69          97        6.93   \n",
       "555       Jiuquan  39.74   98.52     13.91        77          44        3.27   \n",
       "\n",
       "    Country        Date  \n",
       "0        CA  1608678085  \n",
       "1        IN  1608678085  \n",
       "2        GW  1608678045  \n",
       "3        CD  1608678085  \n",
       "4        NZ  1608678086  \n",
       "..      ...         ...  \n",
       "551      PA  1608678163  \n",
       "552      AU  1608678163  \n",
       "553      AR  1608678105  \n",
       "554      CA  1608678163  \n",
       "555      CN  1608678163  \n",
       "\n",
       "[556 rows x 9 columns]"
      ]
     },
     "execution_count": 23,
     "metadata": {},
     "output_type": "execute_result"
    }
   ],
   "source": [
    "weather_df = pd.DataFrame(weather)\n",
    "weather_df.to_csv(\"output_data/cities.csv\", index = False)\n",
    "weather_df"
   ]
  },
  {
   "cell_type": "code",
   "execution_count": null,
   "metadata": {},
   "outputs": [],
   "source": []
  },
  {
   "cell_type": "markdown",
   "metadata": {},
   "source": [
    "## Inspect the data and remove the cities where the humidity > 100%.\n",
    "----\n",
    "Skip this step if there are no cities that have humidity > 100%. "
   ]
  },
  {
   "cell_type": "code",
   "execution_count": 5,
   "metadata": {},
   "outputs": [],
   "source": [
    "len(weather_df)\n",
    "for i in range(len(weather_df)):\n",
    "    if weather_df['Humidity'][i] > 100:\n",
    "        print(i)\n",
    "        print(weather_df['Humidity'][i])\n",
    "        \n",
    "        weather_df.drop(index=i)\n",
    "\n",
    "clean_city_data = weather_df        \n",
    "len(clean_city_data)\n",
    "clean_city_data.rename(columns = {'Lat': 'Latitude'}, inplace = True)\n",
    "\n",
    "\n",
    "\n"
   ]
  },
  {
   "cell_type": "code",
   "execution_count": 6,
   "metadata": {},
   "outputs": [
    {
     "data": {
      "text/html": [
       "<div>\n",
       "<style scoped>\n",
       "    .dataframe tbody tr th:only-of-type {\n",
       "        vertical-align: middle;\n",
       "    }\n",
       "\n",
       "    .dataframe tbody tr th {\n",
       "        vertical-align: top;\n",
       "    }\n",
       "\n",
       "    .dataframe thead th {\n",
       "        text-align: right;\n",
       "    }\n",
       "</style>\n",
       "<table border=\"1\" class=\"dataframe\">\n",
       "  <thead>\n",
       "    <tr style=\"text-align: right;\">\n",
       "      <th></th>\n",
       "      <th>City</th>\n",
       "      <th>Latitude</th>\n",
       "      <th>Lng</th>\n",
       "      <th>Max Temp</th>\n",
       "      <th>Humidity</th>\n",
       "      <th>Cloudiness</th>\n",
       "      <th>Wind Speed</th>\n",
       "      <th>Country</th>\n",
       "      <th>Date</th>\n",
       "    </tr>\n",
       "  </thead>\n",
       "  <tbody>\n",
       "    <tr>\n",
       "      <th>0</th>\n",
       "      <td>Thompson</td>\n",
       "      <td>55.74</td>\n",
       "      <td>-97.86</td>\n",
       "      <td>-9.40</td>\n",
       "      <td>76</td>\n",
       "      <td>90</td>\n",
       "      <td>6.93</td>\n",
       "      <td>CA</td>\n",
       "      <td>1608678085</td>\n",
       "    </tr>\n",
       "    <tr>\n",
       "      <th>1</th>\n",
       "      <td>Harsūd</td>\n",
       "      <td>22.10</td>\n",
       "      <td>76.73</td>\n",
       "      <td>56.55</td>\n",
       "      <td>39</td>\n",
       "      <td>88</td>\n",
       "      <td>4.03</td>\n",
       "      <td>IN</td>\n",
       "      <td>1608678085</td>\n",
       "    </tr>\n",
       "    <tr>\n",
       "      <th>2</th>\n",
       "      <td>Bissau</td>\n",
       "      <td>11.86</td>\n",
       "      <td>-15.60</td>\n",
       "      <td>73.40</td>\n",
       "      <td>64</td>\n",
       "      <td>97</td>\n",
       "      <td>5.68</td>\n",
       "      <td>GW</td>\n",
       "      <td>1608678045</td>\n",
       "    </tr>\n",
       "    <tr>\n",
       "      <th>3</th>\n",
       "      <td>Kasangulu</td>\n",
       "      <td>-4.59</td>\n",
       "      <td>15.17</td>\n",
       "      <td>78.80</td>\n",
       "      <td>83</td>\n",
       "      <td>20</td>\n",
       "      <td>4.70</td>\n",
       "      <td>CD</td>\n",
       "      <td>1608678085</td>\n",
       "    </tr>\n",
       "    <tr>\n",
       "      <th>4</th>\n",
       "      <td>Mataura</td>\n",
       "      <td>-46.19</td>\n",
       "      <td>168.86</td>\n",
       "      <td>60.01</td>\n",
       "      <td>93</td>\n",
       "      <td>100</td>\n",
       "      <td>3.00</td>\n",
       "      <td>NZ</td>\n",
       "      <td>1608678086</td>\n",
       "    </tr>\n",
       "  </tbody>\n",
       "</table>\n",
       "</div>"
      ],
      "text/plain": [
       "        City  Latitude     Lng  Max Temp  Humidity  Cloudiness  Wind Speed  \\\n",
       "0   Thompson     55.74  -97.86     -9.40        76          90        6.93   \n",
       "1     Harsūd     22.10   76.73     56.55        39          88        4.03   \n",
       "2     Bissau     11.86  -15.60     73.40        64          97        5.68   \n",
       "3  Kasangulu     -4.59   15.17     78.80        83          20        4.70   \n",
       "4    Mataura    -46.19  168.86     60.01        93         100        3.00   \n",
       "\n",
       "  Country        Date  \n",
       "0      CA  1608678085  \n",
       "1      IN  1608678085  \n",
       "2      GW  1608678045  \n",
       "3      CD  1608678085  \n",
       "4      NZ  1608678086  "
      ]
     },
     "execution_count": 6,
     "metadata": {},
     "output_type": "execute_result"
    }
   ],
   "source": [
    "clean_city_data.head()\n"
   ]
  },
  {
   "cell_type": "code",
   "execution_count": 7,
   "metadata": {},
   "outputs": [],
   "source": [
    "#Define function for making  scatter plots\n",
    "\n",
    "def make_scatter_plot(df, x_col, y_col):\n",
    "    \"This creates a scatter plot given a list of x values, y values, x label, y label and title\"\n",
    "    x = df[x_col]\n",
    "    y = df[y_col]\n",
    "    \n",
    "    plt.scatter(x, y)\n",
    "    plt.xlabel(x_col)\n",
    "    plt.ylabel(y_col)\n",
    "    plt.title(f\"{y_col} as a function of {x_col}\")\n",
    "    plt.savefig(f\"{x_col}_{y_col}.png\")\n",
    "    plt.ylim(min(y)-10,max(y)+10)\n",
    "    \n",
    "    linregress(x,y)\n",
    "    reg = linregress(x,y)\n",
    "    reg_line = reg[0]*x + reg[1]\n",
    "\n",
    "    plt.plot(x,reg_line, color=\"red\")\n",
    "    r_squared = round(reg[2]**2,2)\n",
    "    print(f\"r squared = {r_squared}\")\n",
    "              \n"
   ]
  },
  {
   "cell_type": "markdown",
   "metadata": {},
   "source": [
    "## Latitude vs. Temperature Plot"
   ]
  },
  {
   "cell_type": "code",
   "execution_count": 8,
   "metadata": {
    "scrolled": true
   },
   "outputs": [
    {
     "name": "stdout",
     "output_type": "stream",
     "text": [
      "r squared = 0.55\n"
     ]
    },
    {
     "data": {
      "image/png": "[encoded data removed]",
      "text/plain": [
       "<Figure size 432x288 with 1 Axes>"
      ]
     },
     "metadata": {
      "needs_background": "light"
     },
     "output_type": "display_data"
    }
   ],
   "source": [
    "make_scatter_plot(clean_city_data, 'Latitude', 'Max Temp')\n"
   ]
  },
  {
   "cell_type": "markdown",
   "metadata": {},
   "source": [
    "## Latitude vs. Humidity Plot"
   ]
  },
  {
   "cell_type": "code",
   "execution_count": 9,
   "metadata": {},
   "outputs": [
    {
     "name": "stdout",
     "output_type": "stream",
     "text": [
      "r squared = 0.03\n"
     ]
    },
    {
     "data": {
      "image/png": "[encoded data removed]",
      "text/plain": [
       "<Figure size 432x288 with 1 Axes>"
      ]
     },
     "metadata": {
      "needs_background": "light"
     },
     "output_type": "display_data"
    }
   ],
   "source": [
    "make_scatter_plot(clean_city_data,'Latitude','Humidity')"
   ]
  },
  {
   "cell_type": "markdown",
   "metadata": {},
   "source": [
    "## Latitude vs. Cloudiness Plot"
   ]
  },
  {
   "cell_type": "code",
   "execution_count": 10,
   "metadata": {},
   "outputs": [
    {
     "name": "stdout",
     "output_type": "stream",
     "text": [
      "r squared = 0.01\n"
     ]
    },
    {
     "data": {
      "image/png": "[encoded data removed]",
      "text/plain": [
       "<Figure size 432x288 with 1 Axes>"
      ]
     },
     "metadata": {
      "needs_background": "light"
     },
     "output_type": "display_data"
    }
   ],
   "source": [
    "make_scatter_plot(clean_city_data,'Latitude','Cloudiness')"
   ]
  },
  {
   "cell_type": "markdown",
   "metadata": {},
   "source": [
    "## Latitude vs. Wind Speed Plot"
   ]
  },
  {
   "cell_type": "code",
   "execution_count": 11,
   "metadata": {},
   "outputs": [
    {
     "name": "stdout",
     "output_type": "stream",
     "text": [
      "r squared = 0.01\n"
     ]
    },
    {
     "data": {
      "image/png": "[encoded data removed]",
      "text/plain": [
       "<Figure size 432x288 with 1 Axes>"
      ]
     },
     "metadata": {
      "needs_background": "light"
     },
     "output_type": "display_data"
    }
   ],
   "source": [
    "make_scatter_plot(clean_city_data, 'Latitude','Wind Speed')"
   ]
  },
  {
   "cell_type": "markdown",
   "metadata": {},
   "source": [
    "## Linear Regression"
   ]
  },
  {
   "cell_type": "code",
   "execution_count": 12,
   "metadata": {},
   "outputs": [
    {
     "data": {
      "text/plain": [
       "231"
      ]
     },
     "execution_count": 12,
     "metadata": {},
     "output_type": "execute_result"
    }
   ],
   "source": [
    "clean_city_data.head()\n",
    "north = clean_city_data[clean_city_data['Lng']>0]\n",
    "north.head()\n",
    "len(north)\n",
    "\n",
    "south = clean_city_data[clean_city_data['Lng']<0]\n",
    "south.head()\n",
    "len(south)    "
   ]
  },
  {
   "cell_type": "markdown",
   "metadata": {},
   "source": [
    "####  Northern Hemisphere - Max Temp vs. Latitude Linear Regression"
   ]
  },
  {
   "cell_type": "code",
   "execution_count": 13,
   "metadata": {},
   "outputs": [
    {
     "name": "stdout",
     "output_type": "stream",
     "text": [
      "r squared = 0.6\n"
     ]
    },
    {
     "data": {
      "image/png": "[encoded data removed]",
      "text/plain": [
       "<Figure size 432x288 with 1 Axes>"
      ]
     },
     "metadata": {
      "needs_background": "light"
     },
     "output_type": "display_data"
    }
   ],
   "source": [
    "make_scatter_plot(north, 'Latitude','Max Temp')"
   ]
  },
  {
   "cell_type": "markdown",
   "metadata": {},
   "source": [
    "####  Southern Hemisphere - Max Temp vs. Latitude Linear Regression"
   ]
  },
  {
   "cell_type": "code",
   "execution_count": 14,
   "metadata": {},
   "outputs": [
    {
     "name": "stdout",
     "output_type": "stream",
     "text": [
      "r squared = 0.55\n"
     ]
    },
    {
     "data": {
      "image/png": "[encoded data removed]",
      "text/plain": [
       "<Figure size 432x288 with 1 Axes>"
      ]
     },
     "metadata": {
      "needs_background": "light"
     },
     "output_type": "display_data"
    }
   ],
   "source": [
    "make_scatter_plot(south, 'Latitude','Max Temp')"
   ]
  },
  {
   "cell_type": "markdown",
   "metadata": {},
   "source": [
    "####  Northern Hemisphere - Humidity (%) vs. Latitude Linear Regression"
   ]
  },
  {
   "cell_type": "code",
   "execution_count": 15,
   "metadata": {},
   "outputs": [
    {
     "name": "stdout",
     "output_type": "stream",
     "text": [
      "r squared = 0.05\n"
     ]
    },
    {
     "data": {
      "image/png": "[encoded data removed]",
      "text/plain": [
       "<Figure size 432x288 with 1 Axes>"
      ]
     },
     "metadata": {
      "needs_background": "light"
     },
     "output_type": "display_data"
    }
   ],
   "source": [
    "make_scatter_plot(north, 'Latitude','Humidity')"
   ]
  },
  {
   "cell_type": "markdown",
   "metadata": {},
   "source": [
    "####  Southern Hemisphere - Humidity (%) vs. Latitude Linear Regression"
   ]
  },
  {
   "cell_type": "code",
   "execution_count": 16,
   "metadata": {},
   "outputs": [
    {
     "name": "stdout",
     "output_type": "stream",
     "text": [
      "r squared = 0.02\n"
     ]
    },
    {
     "data": {
      "image/png": "[encoded data removed]",
      "text/plain": [
       "<Figure size 432x288 with 1 Axes>"
      ]
     },
     "metadata": {
      "needs_background": "light"
     },
     "output_type": "display_data"
    }
   ],
   "source": [
    "make_scatter_plot(south, 'Latitude','Humidity')"
   ]
  },
  {
   "cell_type": "markdown",
   "metadata": {},
   "source": [
    "####  Northern Hemisphere - Cloudiness (%) vs. Latitude Linear Regression"
   ]
  },
  {
   "cell_type": "code",
   "execution_count": 17,
   "metadata": {},
   "outputs": [
    {
     "name": "stdout",
     "output_type": "stream",
     "text": [
      "r squared = 0.01\n"
     ]
    },
    {
     "data": {
      "image/png": "[encoded data removed]",
      "text/plain": [
       "<Figure size 432x288 with 1 Axes>"
      ]
     },
     "metadata": {
      "needs_background": "light"
     },
     "output_type": "display_data"
    }
   ],
   "source": [
    "make_scatter_plot(north, 'Latitude','Cloudiness')"
   ]
  },
  {
   "cell_type": "markdown",
   "metadata": {},
   "source": [
    "####  Southern Hemisphere - Cloudiness (%) vs. Latitude Linear Regression"
   ]
  },
  {
   "cell_type": "code",
   "execution_count": 18,
   "metadata": {},
   "outputs": [
    {
     "name": "stdout",
     "output_type": "stream",
     "text": [
      "r squared = 0.01\n"
     ]
    },
    {
     "data": {
      "image/png": "[encoded data removed]",
      "text/plain": [
       "<Figure size 432x288 with 1 Axes>"
      ]
     },
     "metadata": {
      "needs_background": "light"
     },
     "output_type": "display_data"
    }
   ],
   "source": [
    "make_scatter_plot(south, 'Latitude','Cloudiness')"
   ]
  },
  {
   "cell_type": "markdown",
   "metadata": {},
   "source": [
    "####  Northern Hemisphere - Wind Speed (mph) vs. Latitude Linear Regression"
   ]
  },
  {
   "cell_type": "code",
   "execution_count": 19,
   "metadata": {},
   "outputs": [
    {
     "name": "stdout",
     "output_type": "stream",
     "text": [
      "r squared = 0.0\n"
     ]
    },
    {
     "data": {
      "image/png": "[encoded data removed]",
      "text/plain": [
       "<Figure size 432x288 with 1 Axes>"
      ]
     },
     "metadata": {
      "needs_background": "light"
     },
     "output_type": "display_data"
    }
   ],
   "source": [
    "make_scatter_plot(north, 'Latitude','Wind Speed')"
   ]
  },
  {
   "cell_type": "markdown",
   "metadata": {},
   "source": [
    "####  Southern Hemisphere - Wind Speed (mph) vs. Latitude Linear Regression"
   ]
  },
  {
   "cell_type": "code",
   "execution_count": 20,
   "metadata": {},
   "outputs": [
    {
     "name": "stdout",
     "output_type": "stream",
     "text": [
      "r squared = 0.02\n"
     ]
    },
    {
     "data": {
      "image/png": "[encoded data removed]",
      "text/plain": [
       "<Figure size 432x288 with 1 Axes>"
      ]
     },
     "metadata": {
      "needs_background": "light"
     },
     "output_type": "display_data"
    }
   ],
   "source": [
    "make_scatter_plot(south, 'Latitude','Humidity')"
   ]
  },
  {
   "cell_type": "markdown",
   "metadata": {},
   "source": [
    "Convert latitude to abs value to see if raw distance from equator is linear  temp"
   ]
  },
  {
   "cell_type": "code",
   "execution_count": 21,
   "metadata": {},
   "outputs": [],
   "source": [
    "abs_lat = np.absolute(clean_city_data['Latitude'])\n",
    "clean_abs = clean_city_data\n",
    "clean_abs['Abs Latitude'] = abs_lat"
   ]
  },
  {
   "cell_type": "code",
   "execution_count": 22,
   "metadata": {},
   "outputs": [
    {
     "name": "stdout",
     "output_type": "stream",
     "text": [
      "r squared = 0.67\n"
     ]
    },
    {
     "data": {
      "image/png": "[encoded data removed]",
      "text/plain": [
       "<Figure size 432x288 with 1 Axes>"
      ]
     },
     "metadata": {
      "needs_background": "light"
     },
     "output_type": "display_data"
    }
   ],
   "source": [
    "\n",
    "make_scatter_plot(clean_abs,'Abs Latitude','Max Temp')\n"
   ]
  },
  {
   "cell_type": "code",
   "execution_count": null,
   "metadata": {},
   "outputs": [],
   "source": []
  }
 ],
 "metadata": {
  "anaconda-cloud": {},
  "kernel_info": {
   "name": "python3"
  },
  "kernelspec": {
   "display_name": "Python 3",
   "language": "python",
   "name": "python3"
  },
  "language_info": {
   "codemirror_mode": {
    "name": "ipython",
    "version": 3
   },
   "file_extension": ".py",
   "mimetype": "text/x-python",
   "name": "python",
   "nbconvert_exporter": "python",
   "pygments_lexer": "ipython3",
   "version": "3.6.10"
  },
  "latex_envs": {
   "LaTeX_envs_menu_present": true,
   "autoclose": false,
   "autocomplete": true,
   "bibliofile": "biblio.bib",
   "cite_by": "apalike",
   "current_citInitial": 1,
   "eqLabelWithNumbers": true,
   "eqNumInitial": 1,
   "hotkeys": {
    "equation": "Ctrl-E",
    "itemize": "Ctrl-I"
   },
   "labels_anchors": false,
   "latex_user_defs": false,
   "report_style_numbering": false,
   "user_envs_cfg": false
  },
  "nteract": {
   "version": "0.12.3"
  }
 },
 "nbformat": 4,
 "nbformat_minor": 4
}
