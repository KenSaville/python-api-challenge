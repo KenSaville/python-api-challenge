{
 "cells": [
  {
   "cell_type": "markdown",
   "metadata": {},
   "source": [
    "# WeatherPy\n",
    "----\n",
    "\n",
    "#### Note\n",
    "* Instructions have been included for each segment. You do not have to follow them exactly, but they are included to help you think through the steps."
   ]
  },
  {
   "cell_type": "code",
   "execution_count": 1,
   "metadata": {
    "scrolled": true
   },
   "outputs": [],
   "source": [
    "# Dependencies and Setup\n",
    "import matplotlib.pyplot as plt\n",
    "import pandas as pd\n",
    "import numpy as np\n",
    "import requests\n",
    "import time\n",
    "from scipy.stats import linregress\n",
    "from pprint import pprint\n",
    "import json\n",
    "import random\n",
    "\n",
    "# Import API key\n",
    "from config import api_key\n",
    "\n",
    "#print(api_key)\n",
    "\n",
    "# Incorporated citipy to determine city based on latitude and longitude\n",
    "from citipy import citipy\n",
    "\n",
    "# Output File (CSV)\n",
    "output_data_file = \"output_data/cities.csv\"\n",
    "\n",
    "# Range of latitudes and longitudes\n",
    "lat_range = (-90, 90)\n",
    "lng_range = (-180, 180)"
   ]
  },
  {
   "cell_type": "code",
   "execution_count": null,
   "metadata": {},
   "outputs": [],
   "source": []
  },
  {
   "cell_type": "markdown",
   "metadata": {},
   "source": [
    "## Generate Cities List"
   ]
  },
  {
   "cell_type": "code",
   "execution_count": 2,
   "metadata": {},
   "outputs": [
    {
     "name": "stdout",
     "output_type": "stream",
     "text": [
      "647\n"
     ]
    }
   ],
   "source": [
    "# List for holding lat_lngs and cities\n",
    "lat_lngs = []\n",
    "cities = []\n",
    "\n",
    "# Create a set of random lat and lng combinations\n",
    "lats = np.random.uniform(lat_range[0], lat_range[1], size=1500)\n",
    "lngs = np.random.uniform(lng_range[0], lng_range[1], size=1500)\n",
    "lat_lngs = zip(lats, lngs)\n",
    "\n",
    "# Identify nearest city for each lat, lng combination\n",
    "for lat_lng in lat_lngs:\n",
    "    city = citipy.nearest_city(lat_lng[0], lat_lng[1]).city_name\n",
    "    \n",
    "    # If the city is unique, then add it to a our cities list\n",
    "    if city not in cities:\n",
    "        cities.append(city)\n",
    "\n",
    "# Print the city count to confirm sufficient count\n",
    "print(len(cities))\n",
    "\n"
   ]
  },
  {
   "cell_type": "markdown",
   "metadata": {},
   "source": [
    "### Perform API Calls\n",
    "* Perform a weather check on each city using a series of successive API calls.\n",
    "* Include a print log of each city as it'sbeing processed (with the city number and city name).\n"
   ]
  },
  {
   "cell_type": "code",
   "execution_count": 3,
   "metadata": {
    "scrolled": true
   },
   "outputs": [
    {
     "name": "stdout",
     "output_type": "stream",
     "text": [
      "Retrieving weather data for city number 1:  saint-philippe\n",
      "Retrieving weather data for city number 2:  qaanaaq\n",
      "Retrieving weather data for city number 3:  atuona\n",
      "Retrieving weather data for city number 4:  sayansk\n",
      "Retrieving weather data for city number 5:  isla mujeres\n",
      "Retrieving weather data for city number 6:  roald\n",
      "Retrieving weather data for city number 7:  bredasdorp\n",
      "Retrieving weather data for city number 8:  hobart\n",
      "Retrieving weather data for city number 9:  lavrentiya\n",
      "Retrieving weather data for city number 10:  provideniya\n",
      "Retrieving weather data for city number 11:  vao\n",
      "Retrieving weather data for city number 12:  mushie\n",
      "Retrieving weather data for city number 13:  cape town\n",
      "Retrieving weather data for city number 14:  lagoa\n",
      "Retrieving weather data for city number 15:  arraial do cabo\n",
      "Retrieving weather data for city number 16:  maniitsoq\n",
      "Retrieving weather data for city number 17:  berezovyy\n",
      "Retrieving weather data for city number 18:  busselton\n",
      "Retrieving weather data for city number 19:  yellowknife\n",
      "Retrieving weather data for city number 20:  port alfred\n",
      "Retrieving weather data for city number 21:  nantucket\n",
      "Retrieving weather data for city number 22:  punta arenas\n",
      "Retrieving weather data for city number 23:  mogadishu\n",
      "Retrieving weather data for city number 24:  ushuaia\n",
      "Retrieving weather data for city number 25:  blackwater\n",
      "Retrieving weather data for city number 26:  abeche\n",
      "Retrieving weather data for city number 27:  nieves\n",
      "Retrieving weather data for city number 28:  albany\n",
      "Retrieving weather data for city number 29:  asau\n",
      "Retrieving weather data for city number 30:  leshukonskoye\n",
      "Retrieving weather data for city number 31:  tabuk\n",
      "Retrieving weather data for city number 32:  hermanus\n",
      "Retrieving weather data for city number 33:  marsh harbour\n",
      "Retrieving weather data for city number 34:  haines junction\n",
      "Retrieving weather data for city number 35:  sur\n",
      "Retrieving weather data for city number 36:  sibolga\n",
      "Retrieving weather data for city number 37:  ambon\n",
      "Retrieving weather data for city number 38:  coihaique\n",
      "Retrieving weather data for city number 39:  port macquarie\n",
      "Retrieving weather data for city number 40:  payo\n",
      "Retrieving weather data for city number 41:  vaini\n",
      "Retrieving weather data for city number 42:  agarakadzor\n",
      "Retrieving weather data for city number 43:  cheremukhovo\n",
      "Retrieving weather data for city number 44:  mahajanga\n",
      "Retrieving weather data for city number 45:  finschhafen\n",
      "Retrieving weather data for city number 46:  lata\n",
      "Retrieving weather data for city number 47:  kodiak\n",
      "Retrieving weather data for city number 48:  champerico\n",
      "illoqqortoormiut not found, skip this one\n",
      "Retrieving weather data for city number 50:  goundam\n",
      "Retrieving weather data for city number 51:  suntar\n",
      "Retrieving weather data for city number 52:  hilo\n",
      "Retrieving weather data for city number 53:  chuy\n",
      "Retrieving weather data for city number 54:  acapulco\n",
      "Retrieving weather data for city number 55:  lashio\n",
      "Retrieving weather data for city number 56:  ribeira grande\n",
      "Retrieving weather data for city number 57:  castro\n",
      "Retrieving weather data for city number 58:  saint-joseph\n",
      "Retrieving weather data for city number 59:  lebu\n",
      "Retrieving weather data for city number 60:  barrow\n",
      "Retrieving weather data for city number 61:  myitkyina\n",
      "Retrieving weather data for city number 62:  cabo san lucas\n",
      "Retrieving weather data for city number 63:  kapaa\n",
      "taolanaro not found, skip this one\n",
      "Retrieving weather data for city number 65:  selma\n",
      "amderma not found, skip this one\n",
      "Retrieving weather data for city number 67:  jalu\n",
      "Retrieving weather data for city number 68:  port-gentil\n",
      "Retrieving weather data for city number 69:  pangkalanbuun\n",
      "Retrieving weather data for city number 70:  saskylakh\n",
      "Retrieving weather data for city number 71:  tucupita\n",
      "Retrieving weather data for city number 72:  dikson\n",
      "Retrieving weather data for city number 73:  chulym\n",
      "grand centre not found, skip this one\n",
      "Retrieving weather data for city number 75:  lompoc\n",
      "Retrieving weather data for city number 76:  fairbanks\n",
      "denau not found, skip this one\n",
      "Retrieving weather data for city number 78:  avarua\n",
      "Retrieving weather data for city number 79:  esperance\n",
      "tsihombe not found, skip this one\n",
      "lolua not found, skip this one\n",
      "Retrieving weather data for city number 82:  solnechnyy\n",
      "Retrieving weather data for city number 83:  labuhan\n",
      "Retrieving weather data for city number 84:  hambantota\n",
      "umzimvubu not found, skip this one\n",
      "Retrieving weather data for city number 86:  presidencia roque saenz pena\n",
      "Retrieving weather data for city number 87:  hovd\n",
      "Retrieving weather data for city number 88:  dingle\n",
      "Retrieving weather data for city number 89:  bluff\n",
      "Retrieving weather data for city number 90:  tasiilaq\n",
      "Retrieving weather data for city number 91:  mataura\n",
      "Retrieving weather data for city number 92:  georgiyevka\n",
      "Retrieving weather data for city number 93:  upernavik\n",
      "mys shmidta not found, skip this one\n",
      "Retrieving weather data for city number 95:  broome\n",
      "Retrieving weather data for city number 96:  takoradi\n",
      "Retrieving weather data for city number 97:  san felipe\n",
      "Retrieving weather data for city number 98:  puerto del rosario\n",
      "Retrieving weather data for city number 99:  krasnovishersk\n",
      "Retrieving weather data for city number 100:  hithadhoo\n",
      "Retrieving weather data for city number 101:  flinders\n",
      "Retrieving weather data for city number 102:  rikitea\n",
      "Retrieving weather data for city number 103:  namibe\n",
      "Retrieving weather data for city number 104:  luau\n",
      "Retrieving weather data for city number 105:  te anau\n",
      "Retrieving weather data for city number 106:  popondetta\n",
      "warqla not found, skip this one\n",
      "Retrieving weather data for city number 108:  newport\n",
      "Retrieving weather data for city number 109:  mahebourg\n",
      "Retrieving weather data for city number 110:  tiksi\n",
      "Retrieving weather data for city number 111:  along\n",
      "Retrieving weather data for city number 112:  asino\n",
      "Retrieving weather data for city number 113:  lamu\n",
      "Retrieving weather data for city number 114:  bosaso\n",
      "Retrieving weather data for city number 115:  cabo rojo\n",
      "Retrieving weather data for city number 116:  peniche\n",
      "Retrieving weather data for city number 117:  muros\n",
      "Retrieving weather data for city number 118:  mount gambier\n",
      "Retrieving weather data for city number 119:  sao joao da barra\n",
      "Retrieving weather data for city number 120:  sitka\n",
      "Retrieving weather data for city number 121:  kasongo-lunda\n",
      "attawapiskat not found, skip this one\n",
      "Retrieving weather data for city number 123:  makokou\n",
      "Retrieving weather data for city number 124:  talnakh\n",
      "Retrieving weather data for city number 125:  necochea\n",
      "yomitan not found, skip this one\n",
      "belushya guba not found, skip this one\n",
      "Retrieving weather data for city number 128:  joshimath\n",
      "Retrieving weather data for city number 129:  omboue\n",
      "Retrieving weather data for city number 130:  kilindoni\n",
      "Retrieving weather data for city number 131:  westport\n",
      "Retrieving weather data for city number 132:  pevek\n",
      "Retrieving weather data for city number 133:  malabo\n",
      "Retrieving weather data for city number 134:  suruc\n",
      "Retrieving weather data for city number 135:  east london\n",
      "Retrieving weather data for city number 136:  nikolskoye\n",
      "Retrieving weather data for city number 137:  teya\n",
      "Retrieving weather data for city number 138:  providencia\n",
      "Retrieving weather data for city number 139:  koulikoro\n",
      "Retrieving weather data for city number 140:  dodoma\n",
      "Retrieving weather data for city number 141:  abnub\n",
      "Retrieving weather data for city number 142:  salalah\n",
      "Retrieving weather data for city number 143:  pangnirtung\n",
      "bossembele not found, skip this one\n",
      "Retrieving weather data for city number 145:  biloela\n",
      "Retrieving weather data for city number 146:  savinka\n",
      "Retrieving weather data for city number 147:  beringovskiy\n",
      "Retrieving weather data for city number 148:  balkhash\n",
      "Retrieving weather data for city number 149:  flin flon\n",
      "Retrieving weather data for city number 150:  lampazos de naranjo\n",
      "Retrieving weather data for city number 151:  kamaishi\n",
      "Retrieving weather data for city number 152:  saint-malo\n",
      "Retrieving weather data for city number 153:  timra\n",
      "Retrieving weather data for city number 154:  belmonte\n",
      "Retrieving weather data for city number 155:  alice springs\n",
      "Retrieving weather data for city number 156:  mar del plata\n",
      "Retrieving weather data for city number 157:  victoria\n",
      "Retrieving weather data for city number 158:  san patricio\n",
      "Retrieving weather data for city number 159:  muisne\n",
      "Retrieving weather data for city number 160:  duvan\n",
      "vaitupu not found, skip this one\n",
      "Retrieving weather data for city number 162:  anadyr\n",
      "Retrieving weather data for city number 163:  jamestown\n",
      "Retrieving weather data for city number 164:  marin\n",
      "Retrieving weather data for city number 165:  sao filipe\n",
      "Retrieving weather data for city number 166:  katsuura\n",
      "Retrieving weather data for city number 167:  mutoko\n",
      "Retrieving weather data for city number 168:  mayo\n",
      "Retrieving weather data for city number 169:  blagoyevo\n",
      "Retrieving weather data for city number 170:  ilulissat\n",
      "Retrieving weather data for city number 171:  new norfolk\n",
      "Retrieving weather data for city number 172:  valreas\n",
      "Retrieving weather data for city number 173:  ishigaki\n",
      "Retrieving weather data for city number 174:  el sauce\n",
      "Retrieving weather data for city number 175:  kaitangata\n",
      "Retrieving weather data for city number 176:  mopipi\n",
      "Retrieving weather data for city number 177:  barcelona\n",
      "Retrieving weather data for city number 178:  chokurdakh\n",
      "Retrieving weather data for city number 179:  kortkeros\n",
      "Retrieving weather data for city number 180:  batemans bay\n",
      "Retrieving weather data for city number 181:  vostok\n",
      "Retrieving weather data for city number 182:  mosquera\n",
      "Retrieving weather data for city number 183:  asfi\n",
      "Retrieving weather data for city number 184:  egvekinot\n",
      "Retrieving weather data for city number 185:  butterworth\n",
      "Retrieving weather data for city number 186:  osa\n",
      "Retrieving weather data for city number 187:  praia\n",
      "Retrieving weather data for city number 188:  arlit\n",
      "Retrieving weather data for city number 189:  geraldton\n",
      "grand river south east not found, skip this one\n",
      "Retrieving weather data for city number 191:  norman wells\n",
      "Retrieving weather data for city number 192:  maridi\n",
      "Retrieving weather data for city number 193:  santokhgarh\n",
      "Retrieving weather data for city number 194:  jackson\n",
      "Retrieving weather data for city number 195:  tecpan\n",
      "khonuu not found, skip this one\n",
      "Retrieving weather data for city number 197:  ayotzintepec\n",
      "Retrieving weather data for city number 198:  tura\n",
      "Retrieving weather data for city number 199:  kavieng\n",
      "Retrieving weather data for city number 200:  litovko\n",
      "Retrieving weather data for city number 201:  pauini\n",
      "Retrieving weather data for city number 202:  port lincoln\n",
      "Retrieving weather data for city number 203:  mangai\n",
      "Retrieving weather data for city number 204:  porto novo\n",
      "aflu not found, skip this one\n",
      "Retrieving weather data for city number 206:  eureka\n",
      "Retrieving weather data for city number 207:  narsaq\n",
      "Retrieving weather data for city number 208:  shache\n",
      "ust-kamchatsk not found, skip this one\n",
      "Retrieving weather data for city number 210:  kedainiai\n",
      "Retrieving weather data for city number 211:  shingu\n",
      "Retrieving weather data for city number 212:  torquay\n",
      "kamenskoye not found, skip this one\n",
      "Retrieving weather data for city number 214:  grenchen\n",
      "Retrieving weather data for city number 215:  malakal\n",
      "Retrieving weather data for city number 216:  ipixuna\n",
      "Retrieving weather data for city number 217:  sai buri\n",
      "Retrieving weather data for city number 218:  lusambo\n",
      "Retrieving weather data for city number 219:  salinopolis\n",
      "Retrieving weather data for city number 220:  tuktoyaktuk\n",
      "Retrieving weather data for city number 221:  yining\n",
      "Retrieving weather data for city number 222:  christchurch\n",
      "barentsburg not found, skip this one\n",
      "ngukurr not found, skip this one\n",
      "Retrieving weather data for city number 225:  impfondo\n",
      "Retrieving weather data for city number 226:  beysehir\n",
      "Retrieving weather data for city number 227:  esmeraldas\n",
      "saleaula not found, skip this one\n",
      "Retrieving weather data for city number 229:  saint-augustin\n",
      "Retrieving weather data for city number 230:  faanui\n",
      "Retrieving weather data for city number 231:  monrovia\n",
      "mahadday weyne not found, skip this one\n",
      "Retrieving weather data for city number 233:  ulladulla\n",
      "mrirt not found, skip this one\n",
      "Retrieving weather data for city number 235:  bonavista\n",
      "Retrieving weather data for city number 236:  claudio\n",
      "Retrieving weather data for city number 237:  kununurra\n",
      "Retrieving weather data for city number 238:  sedona\n",
      "Retrieving weather data for city number 239:  pangai\n",
      "Retrieving weather data for city number 240:  huimanguillo\n",
      "Retrieving weather data for city number 241:  torbay\n",
      "Retrieving weather data for city number 242:  puerto ayora\n",
      "Retrieving weather data for city number 243:  rosarito\n",
      "Retrieving weather data for city number 244:  santiago\n",
      "Retrieving weather data for city number 245:  sao gabriel\n",
      "Retrieving weather data for city number 246:  matagami\n",
      "Retrieving weather data for city number 247:  iset\n",
      "Retrieving weather data for city number 248:  sao miguel do araguaia\n",
      "Retrieving weather data for city number 249:  aklavik\n",
      "Retrieving weather data for city number 250:  ambilobe\n",
      "Retrieving weather data for city number 251:  san policarpo\n",
      "samusu not found, skip this one\n",
      "Retrieving weather data for city number 253:  berlevag\n",
      "Retrieving weather data for city number 254:  avera\n",
      "Retrieving weather data for city number 255:  puertollano\n",
      "Retrieving weather data for city number 256:  luderitz\n",
      "Retrieving weather data for city number 257:  college\n",
      "Retrieving weather data for city number 258:  mehamn\n",
      "Retrieving weather data for city number 259:  kirkenaer\n",
      "Retrieving weather data for city number 260:  san lorenzo\n",
      "Retrieving weather data for city number 261:  morgan city\n",
      "Retrieving weather data for city number 262:  bam\n",
      "Retrieving weather data for city number 263:  karasjok\n",
      "Retrieving weather data for city number 264:  staryy nadym\n",
      "Retrieving weather data for city number 265:  kalmunai\n",
      "Retrieving weather data for city number 266:  nha trang\n",
      "Retrieving weather data for city number 267:  souillac\n",
      "Retrieving weather data for city number 268:  bida\n",
      "Retrieving weather data for city number 269:  yumen\n",
      "Retrieving weather data for city number 270:  georgetown\n",
      "Retrieving weather data for city number 271:  kruisfontein\n",
      "Retrieving weather data for city number 272:  pokrovskoye\n",
      "Retrieving weather data for city number 273:  airai\n",
      "Retrieving weather data for city number 274:  san luis de gaceno\n",
      "Retrieving weather data for city number 275:  henties bay\n",
      "Retrieving weather data for city number 276:  portland\n",
      "Retrieving weather data for city number 277:  bonga\n",
      "Retrieving weather data for city number 278:  asyut\n",
      "Retrieving weather data for city number 279:  carnarvon\n",
      "sentyabrskiy not found, skip this one\n",
      "dzhusaly not found, skip this one\n",
      "Retrieving weather data for city number 282:  komsomolskiy\n",
      "Retrieving weather data for city number 283:  severnyy\n",
      "Retrieving weather data for city number 284:  khatanga\n",
      "marcona not found, skip this one\n",
      "Retrieving weather data for city number 286:  praia da vitoria\n",
      "Retrieving weather data for city number 287:  inuvik\n",
      "Retrieving weather data for city number 288:  pisco\n",
      "Retrieving weather data for city number 289:  yeppoon\n",
      "Retrieving weather data for city number 290:  rocha\n",
      "Retrieving weather data for city number 291:  makakilo city\n",
      "Retrieving weather data for city number 292:  san ignacio\n",
      "Retrieving weather data for city number 293:  tocopilla\n",
      "Retrieving weather data for city number 294:  butaritari\n",
      "Retrieving weather data for city number 295:  cockburn town\n",
      "Retrieving weather data for city number 296:  bengkulu\n",
      "Retrieving weather data for city number 297:  sao borja\n",
      "Retrieving weather data for city number 298:  saurimo\n",
      "Retrieving weather data for city number 299:  agirish\n",
      "Retrieving weather data for city number 300:  svencionys\n",
      "Retrieving weather data for city number 301:  jieshi\n",
      "Retrieving weather data for city number 302:  ponta delgada\n",
      "Retrieving weather data for city number 303:  nouakchott\n",
      "Retrieving weather data for city number 304:  zhigalovo\n",
      "Retrieving weather data for city number 305:  alvor\n",
      "Retrieving weather data for city number 306:  bethel\n",
      "Retrieving weather data for city number 307:  tautira\n",
      "dianopolis not found, skip this one\n",
      "Retrieving weather data for city number 309:  bilma\n",
      "Retrieving weather data for city number 310:  sheltozero\n",
      "Retrieving weather data for city number 311:  zhigansk\n",
      "chagda not found, skip this one\n",
      "Retrieving weather data for city number 313:  libertador general san martin\n",
      "Retrieving weather data for city number 314:  tombouctou\n",
      "Retrieving weather data for city number 315:  ponta do sol\n",
      "Retrieving weather data for city number 316:  kiunga\n",
      "Retrieving weather data for city number 317:  umm lajj\n",
      "Retrieving weather data for city number 318:  imeni poliny osipenko\n",
      "Retrieving weather data for city number 319:  wasilla\n",
      "Retrieving weather data for city number 320:  makarov\n",
      "Retrieving weather data for city number 321:  sola\n",
      "Retrieving weather data for city number 322:  mayumba\n",
      "Retrieving weather data for city number 323:  alice town\n",
      "barawe not found, skip this one\n",
      "Retrieving weather data for city number 325:  le port\n",
      "bargal not found, skip this one\n",
      "Retrieving weather data for city number 327:  locri\n",
      "Retrieving weather data for city number 328:  hilpoltstein\n",
      "Retrieving weather data for city number 329:  aykhal\n",
      "Retrieving weather data for city number 330:  san cristobal\n",
      "Retrieving weather data for city number 331:  krutinka\n",
      "kegayli not found, skip this one\n",
      "Retrieving weather data for city number 333:  fartura\n",
      "Retrieving weather data for city number 334:  cap malheureux\n",
      "palabuhanratu not found, skip this one\n",
      "Retrieving weather data for city number 336:  cherskiy\n",
      "Retrieving weather data for city number 337:  rahatgarh\n",
      "Retrieving weather data for city number 338:  caravelas\n",
      "Retrieving weather data for city number 339:  byron bay\n",
      "Retrieving weather data for city number 340:  bintulu\n",
      "Retrieving weather data for city number 341:  vila franca do campo\n",
      "Retrieving weather data for city number 342:  dukat\n",
      "Retrieving weather data for city number 343:  urengoy\n",
      "Retrieving weather data for city number 344:  saint-pierre\n",
      "Retrieving weather data for city number 345:  kazaki\n",
      "Retrieving weather data for city number 346:  hazorasp\n",
      "Retrieving weather data for city number 347:  kapuskasing\n",
      "Retrieving weather data for city number 348:  kirillov\n",
      "Retrieving weather data for city number 349:  tuatapere\n",
      "Retrieving weather data for city number 350:  mamallapuram\n",
      "Retrieving weather data for city number 351:  francisco beltrao\n",
      "Retrieving weather data for city number 352:  aquiraz\n",
      "Retrieving weather data for city number 353:  balakovo\n",
      "Retrieving weather data for city number 354:  los llanos de aridane\n",
      "Retrieving weather data for city number 355:  ahome\n",
      "Retrieving weather data for city number 356:  evensk\n",
      "Retrieving weather data for city number 357:  bambous virieux\n",
      "Retrieving weather data for city number 358:  rudnichnyy\n",
      "Retrieving weather data for city number 359:  bathsheba\n",
      "Retrieving weather data for city number 360:  bahia honda\n",
      "Retrieving weather data for city number 361:  novouzensk\n",
      "Retrieving weather data for city number 362:  verkhnevilyuysk\n",
      "Retrieving weather data for city number 363:  zalantun\n",
      "Retrieving weather data for city number 364:  turukhansk\n",
      "Retrieving weather data for city number 365:  jardim\n",
      "Retrieving weather data for city number 366:  husavik\n",
      "Retrieving weather data for city number 367:  san quintin\n",
      "Retrieving weather data for city number 368:  santa maria\n",
      "Retrieving weather data for city number 369:  zhob\n",
      "Retrieving weather data for city number 370:  najran\n",
      "Retrieving weather data for city number 371:  sakakah\n",
      "Retrieving weather data for city number 372:  port elizabeth\n",
      "Retrieving weather data for city number 373:  thinadhoo\n",
      "Retrieving weather data for city number 374:  uusikaupunki\n",
      "Retrieving weather data for city number 375:  ebeltoft\n",
      "Retrieving weather data for city number 376:  nishihara\n",
      "Retrieving weather data for city number 377:  governador dix-sept rosado\n",
      "Retrieving weather data for city number 378:  manaure\n",
      "Retrieving weather data for city number 379:  holetown\n",
      "Retrieving weather data for city number 380:  clyde river\n",
      "Retrieving weather data for city number 381:  yurino\n",
      "Retrieving weather data for city number 382:  severo-kurilsk\n",
      "Retrieving weather data for city number 383:  buinsk\n",
      "Retrieving weather data for city number 384:  belaya gora\n",
      "Retrieving weather data for city number 385:  richards bay\n",
      "Retrieving weather data for city number 386:  coromoro\n",
      "Retrieving weather data for city number 387:  axim\n",
      "Retrieving weather data for city number 388:  terre-de-bas\n",
      "Retrieving weather data for city number 389:  omsukchan\n",
      "Retrieving weather data for city number 390:  mahina\n",
      "Retrieving weather data for city number 391:  cidreira\n",
      "Retrieving weather data for city number 392:  taoudenni\n",
      "sataua not found, skip this one\n",
      "Retrieving weather data for city number 394:  charters towers\n",
      "Retrieving weather data for city number 395:  south daytona\n",
      "Retrieving weather data for city number 396:  beyneu\n",
      "Retrieving weather data for city number 397:  itarema\n",
      "Retrieving weather data for city number 398:  riyadh\n",
      "Retrieving weather data for city number 399:  sioux lookout\n",
      "Retrieving weather data for city number 400:  fare\n",
      "Retrieving weather data for city number 401:  khasan\n",
      "Retrieving weather data for city number 402:  sorland\n",
      "Retrieving weather data for city number 403:  virginia beach\n",
      "Retrieving weather data for city number 404:  matara\n",
      "Retrieving weather data for city number 405:  saint anthony\n",
      "Retrieving weather data for city number 406:  unity\n",
      "Retrieving weather data for city number 407:  saint george\n",
      "Retrieving weather data for city number 408:  guasdualito\n",
      "rolim de moura not found, skip this one\n",
      "Retrieving weather data for city number 410:  starogard gdanski\n",
      "Retrieving weather data for city number 411:  malatya\n",
      "Retrieving weather data for city number 412:  saldanha\n",
      "Retrieving weather data for city number 413:  vanderhoof\n",
      "Retrieving weather data for city number 414:  inyonga\n",
      "nizhneyansk not found, skip this one\n",
      "Retrieving weather data for city number 416:  seydisehir\n",
      "labutta not found, skip this one\n",
      "Retrieving weather data for city number 418:  port moresby\n",
      "Retrieving weather data for city number 419:  hofn\n",
      "Retrieving weather data for city number 420:  port keats\n",
      "Retrieving weather data for city number 421:  alyangula\n",
      "Retrieving weather data for city number 422:  jumla\n",
      "Retrieving weather data for city number 423:  marawi\n",
      "sorvag not found, skip this one\n",
      "Retrieving weather data for city number 425:  iqaluit\n",
      "Retrieving weather data for city number 426:  nikitinskiy\n",
      "Retrieving weather data for city number 427:  buala\n",
      "Retrieving weather data for city number 428:  daru\n",
      "Retrieving weather data for city number 429:  roswell\n",
      "Retrieving weather data for city number 430:  faya\n",
      "Retrieving weather data for city number 431:  pundaguitan\n",
      "Retrieving weather data for city number 432:  marsa matruh\n",
      "Retrieving weather data for city number 433:  bandipur\n",
      "Retrieving weather data for city number 434:  klaksvik\n",
      "Retrieving weather data for city number 435:  turtas\n",
      "Retrieving weather data for city number 436:  xianyang\n",
      "Retrieving weather data for city number 437:  vardo\n",
      "Retrieving weather data for city number 438:  kindu\n",
      "Retrieving weather data for city number 439:  giyon\n",
      "Retrieving weather data for city number 440:  doha\n",
      "Retrieving weather data for city number 441:  tomatlan\n",
      "Retrieving weather data for city number 442:  carmen\n",
      "Retrieving weather data for city number 443:  kloulklubed\n",
      "Retrieving weather data for city number 444:  ketchikan\n",
      "Retrieving weather data for city number 445:  puerto colombia\n",
      "Retrieving weather data for city number 446:  denpasar\n",
      "Retrieving weather data for city number 447:  hauterive\n",
      "Retrieving weather data for city number 448:  boshnyakovo\n",
      "Retrieving weather data for city number 449:  darhan\n",
      "Retrieving weather data for city number 450:  maromitsa\n",
      "Retrieving weather data for city number 451:  whyalla\n",
      "Retrieving weather data for city number 452:  mount pleasant\n",
      "Retrieving weather data for city number 453:  sokoni\n",
      "Retrieving weather data for city number 454:  russell\n",
      "Retrieving weather data for city number 455:  mariakani\n",
      "Retrieving weather data for city number 456:  urucui\n",
      "Retrieving weather data for city number 457:  bowen\n",
      "Retrieving weather data for city number 458:  santa vitoria\n",
      "Retrieving weather data for city number 459:  carthage\n",
      "Retrieving weather data for city number 460:  touros\n",
      "Retrieving weather data for city number 461:  ancud\n",
      "Retrieving weather data for city number 462:  palmer\n",
      "Retrieving weather data for city number 463:  port hardy\n",
      "Retrieving weather data for city number 464:  thompson\n",
      "Retrieving weather data for city number 465:  straumen\n",
      "karaul not found, skip this one\n",
      "Retrieving weather data for city number 467:  playas\n",
      "Retrieving weather data for city number 468:  wiwili\n",
      "Retrieving weather data for city number 469:  eloy\n",
      "Retrieving weather data for city number 470:  talara\n",
      "Retrieving weather data for city number 471:  mandalgovi\n",
      "Retrieving weather data for city number 472:  kysyl-syr\n",
      "Retrieving weather data for city number 473:  sarana\n",
      "Retrieving weather data for city number 474:  upington\n",
      "Retrieving weather data for city number 475:  littlehampton\n",
      "Retrieving weather data for city number 476:  zhuzhou\n",
      "Retrieving weather data for city number 477:  skjervoy\n",
      "Retrieving weather data for city number 478:  abu samrah\n",
      "Retrieving weather data for city number 479:  vila\n",
      "Retrieving weather data for city number 480:  seymchan\n",
      "Retrieving weather data for city number 481:  gwadar\n",
      "vastervik not found, skip this one\n",
      "Retrieving weather data for city number 483:  tongren\n",
      "Retrieving weather data for city number 484:  manicore\n",
      "Retrieving weather data for city number 485:  luancheng\n",
      "Retrieving weather data for city number 486:  strezhevoy\n",
      "Retrieving weather data for city number 487:  fortuna\n",
      "Retrieving weather data for city number 488:  biograd na moru\n",
      "Retrieving weather data for city number 489:  oktyabrskoye\n",
      "Retrieving weather data for city number 490:  soyo\n",
      "Retrieving weather data for city number 491:  pafos\n",
      "Retrieving weather data for city number 492:  senno\n",
      "Retrieving weather data for city number 493:  port augusta\n",
      "Retrieving weather data for city number 494:  broken hill\n",
      "Retrieving weather data for city number 495:  university place\n",
      "Retrieving weather data for city number 496:  augusto correa\n",
      "Retrieving weather data for city number 497:  andenes\n",
      "Retrieving weather data for city number 498:  potosi\n",
      "Retrieving weather data for city number 499:  teguldet\n",
      "Retrieving weather data for city number 500:  danjiangkou\n",
      "Retrieving weather data for city number 501:  nueva loja\n",
      "Retrieving weather data for city number 502:  srednekolymsk\n",
      "Retrieving weather data for city number 503:  krabi\n",
      "Retrieving weather data for city number 504:  ahuimanu\n",
      "Retrieving weather data for city number 505:  severomorsk\n",
      "Retrieving weather data for city number 506:  lorengau\n",
      "Retrieving weather data for city number 507:  hualmay\n",
      "Retrieving weather data for city number 508:  tulsipur\n",
      "Retrieving weather data for city number 509:  burns lake\n",
      "Retrieving weather data for city number 510:  pontes e lacerda\n",
      "Retrieving weather data for city number 511:  hamilton\n",
      "Retrieving weather data for city number 512:  zaysan\n",
      "Retrieving weather data for city number 513:  cayenne\n",
      "Retrieving weather data for city number 514:  tayzhina\n",
      "Retrieving weather data for city number 515:  chermoz\n",
      "Retrieving weather data for city number 516:  nanortalik\n",
      "Retrieving weather data for city number 517:  shitanjing\n",
      "Retrieving weather data for city number 518:  stykkisholmur\n",
      "Retrieving weather data for city number 519:  puerto lempira\n",
      "Retrieving weather data for city number 520:  halifax\n",
      "Retrieving weather data for city number 521:  huarmey\n",
      "Retrieving weather data for city number 522:  dalby\n",
      "Retrieving weather data for city number 523:  annau\n",
      "Retrieving weather data for city number 524:  haysville\n",
      "Retrieving weather data for city number 525:  jiangyou\n",
      "Retrieving weather data for city number 526:  umm kaddadah\n",
      "Retrieving weather data for city number 527:  parabel\n",
      "Retrieving weather data for city number 528:  keningau\n",
      "Retrieving weather data for city number 529:  nhulunbuy\n",
      "Retrieving weather data for city number 530:  bremervorde\n",
      "Retrieving weather data for city number 531:  yokadouma\n",
      "Retrieving weather data for city number 532:  san benito\n",
      "Retrieving weather data for city number 533:  la ronge\n",
      "Retrieving weather data for city number 534:  chernyshevskiy\n",
      "Retrieving weather data for city number 535:  kerman\n",
      "Retrieving weather data for city number 536:  coahuayana\n",
      "Retrieving weather data for city number 537:  olafsvik\n",
      "Retrieving weather data for city number 538:  papara\n",
      "Retrieving weather data for city number 539:  sheridan\n",
      "Retrieving weather data for city number 540:  hasaki\n",
      "Retrieving weather data for city number 541:  nurota\n",
      "Retrieving weather data for city number 542:  fukue\n",
      "Retrieving weather data for city number 543:  port blair\n",
      "Retrieving weather data for city number 544:  meulaboh\n",
      "Retrieving weather data for city number 545:  vetluga\n",
      "Retrieving weather data for city number 546:  tigil\n",
      "Retrieving weather data for city number 547:  sosnogorsk\n",
      "Retrieving weather data for city number 548:  orchard homes\n",
      "Retrieving weather data for city number 549:  hoima\n",
      "Retrieving weather data for city number 550:  baghdad\n",
      "Retrieving weather data for city number 551:  chor\n",
      "Retrieving weather data for city number 552:  rio bravo\n",
      "Retrieving weather data for city number 553:  big spring\n",
      "Retrieving weather data for city number 554:  tarime\n",
      "Retrieving weather data for city number 555:  maribo\n",
      "Retrieving weather data for city number 556:  mandurah\n",
      "Retrieving weather data for city number 557:  mochudi\n",
      "Retrieving weather data for city number 558:  lewistown\n",
      "Retrieving weather data for city number 559:  santiago del estero\n",
      "Retrieving weather data for city number 560:  gat\n",
      "Retrieving weather data for city number 561:  multan\n",
      "Retrieving weather data for city number 562:  barranca\n",
      "Retrieving weather data for city number 563:  chaupimarca\n",
      "Retrieving weather data for city number 564:  ostrovnoy\n",
      "Retrieving weather data for city number 565:  kyrksaeterora\n",
      "Retrieving weather data for city number 566:  ucluelet\n",
      "Retrieving weather data for city number 567:  vanimo\n",
      "Retrieving weather data for city number 568:  atar\n",
      "Retrieving weather data for city number 569:  tanete\n",
      "Retrieving weather data for city number 570:  guangyuan\n",
      "Retrieving weather data for city number 571:  cabildo\n",
      "Retrieving weather data for city number 572:  ausa\n",
      "Retrieving weather data for city number 573:  qasigiannguit\n",
      "eisenhuttenstadt not found, skip this one\n",
      "Retrieving weather data for city number 575:  dakar\n",
      "Retrieving weather data for city number 576:  kurumkan\n",
      "Retrieving weather data for city number 577:  cascais\n",
      "Retrieving weather data for city number 578:  loa janan\n",
      "Retrieving weather data for city number 579:  auki\n",
      "borujan not found, skip this one\n",
      "Retrieving weather data for city number 581:  canapi\n",
      "Retrieving weather data for city number 582:  porbandar\n",
      "Retrieving weather data for city number 583:  constitucion\n",
      "Retrieving weather data for city number 584:  gao\n",
      "Retrieving weather data for city number 585:  kuvandyk\n",
      "Retrieving weather data for city number 586:  niort\n",
      "Retrieving weather data for city number 587:  namatanai\n",
      "Retrieving weather data for city number 588:  sokolo\n",
      "Retrieving weather data for city number 589:  vredendal\n",
      "Retrieving weather data for city number 590:  synya\n",
      "Retrieving weather data for city number 591:  basoko\n",
      "Retrieving weather data for city number 592:  iskateley\n",
      "Retrieving weather data for city number 593:  samarai\n",
      "Retrieving weather data for city number 594:  tazmalt\n",
      "Retrieving weather data for city number 595:  whitehorse\n",
      "utiroa not found, skip this one\n",
      "Retrieving weather data for city number 597:  agropoli\n",
      "Retrieving weather data for city number 598:  cairns\n",
      "Retrieving weather data for city number 599:  nuuk\n",
      "tidore not found, skip this one\n",
      "samalaeulu not found, skip this one\n",
      "Retrieving weather data for city number 602:  porto nacional\n",
      "Retrieving weather data for city number 603:  bud\n",
      "hunza not found, skip this one\n",
      "Retrieving weather data for city number 605:  mukhen\n",
      "Retrieving weather data for city number 606:  sangueya\n",
      "Retrieving weather data for city number 607:  bonthe\n",
      "Retrieving weather data for city number 608:  biltine\n",
      "Retrieving weather data for city number 609:  watsa\n",
      "Retrieving weather data for city number 610:  karratha\n",
      "toliary not found, skip this one\n",
      "Retrieving weather data for city number 612:  ternate\n",
      "Retrieving weather data for city number 613:  nevesinje\n",
      "Retrieving weather data for city number 614:  waitati\n",
      "Retrieving weather data for city number 615:  kupang\n",
      "Retrieving weather data for city number 616:  kaduna\n",
      "Retrieving weather data for city number 617:  guerrero negro\n",
      "Retrieving weather data for city number 618:  sinop\n",
      "Retrieving weather data for city number 619:  tonj\n",
      "Retrieving weather data for city number 620:  sevilla\n",
      "Retrieving weather data for city number 621:  griffith\n",
      "Retrieving weather data for city number 622:  deputatskiy\n",
      "Retrieving weather data for city number 623:  kabinda\n",
      "Retrieving weather data for city number 624:  shalya\n",
      "Retrieving weather data for city number 625:  maarianhamina\n",
      "Retrieving weather data for city number 626:  jadu\n",
      "Retrieving weather data for city number 627:  alta floresta\n",
      "Retrieving weather data for city number 628:  kem\n",
      "Retrieving weather data for city number 629:  lakatoro\n",
      "Retrieving weather data for city number 630:  summerville\n",
      "Retrieving weather data for city number 631:  lasem\n",
      "Retrieving weather data for city number 632:  hirara\n",
      "bolungarvik not found, skip this one\n",
      "Retrieving weather data for city number 634:  parfino\n",
      "Retrieving weather data for city number 635:  mount isa\n",
      "Retrieving weather data for city number 636:  kerch\n",
      "Retrieving weather data for city number 637:  kavaratti\n",
      "Retrieving weather data for city number 638:  szentistvan\n",
      "Retrieving weather data for city number 639:  awjilah\n",
      "Retrieving weather data for city number 640:  bakchar\n",
      "Retrieving weather data for city number 641:  nome\n",
      "Retrieving weather data for city number 642:  obo\n",
      "Retrieving weather data for city number 643:  codrington\n",
      "Retrieving weather data for city number 644:  tahta\n",
      "Retrieving weather data for city number 645:  marks\n",
      "Retrieving weather data for city number 646:  terney\n",
      "chatsu not found, skip this one\n"
     ]
    }
   ],
   "source": [
    "# Retrieve articles\n",
    "\n",
    "city_names = cities\n",
    "city_weather = []\n",
    "weather = {'City':[], \n",
    "           'Lat':[], \n",
    "            'Lng':[],\n",
    "            'Max Temp':[],\n",
    "            'Humidity':[],\n",
    "           'Cloudiness':[],\n",
    "           'Wind Speed':[],\n",
    "           'Country':[],\n",
    "           'Date':[]\n",
    "             }\n",
    "i=0\n",
    "for city_name in city_names:\n",
    "    #try:\n",
    "    query_url = f\"http://api.openweathermap.org/data/2.5/weather?q={city_name}&units=imperial&appid={api_key}\"\n",
    "    result = requests.get(query_url).json()\n",
    "    #print(result)\n",
    "    \n",
    "    if 'coord' in result:  #Used this to check for missing cities, but will switch to the try/except method\n",
    "        \n",
    "        city_weather.append(result)\n",
    "        print(f\"Retrieving weather data for city number {city_names.index(city_name)+1}:  {city_name}\")\n",
    "        number = city_names.index(city_name)+1\n",
    "        \n",
    "        name = city_weather[i]['name']\n",
    "        lat = city_weather[i]['coord']['lat']\n",
    "        lng = city_weather[i]['coord']['lon']\n",
    "        cur_temp = city_weather[i]['main']['temp']\n",
    "        max_temp = city_weather[i]['main']['temp_max']\n",
    "        hum = city_weather[i]['main']['humidity']\n",
    "        clouds = city_weather[i]['clouds']['all']\n",
    "        wind = city_weather[i]['wind']['speed']\n",
    "        country = city_weather[i]['sys']['country']\n",
    "        date = city_weather[i]['dt']\n",
    "    \n",
    "        weather['City'].append(name)\n",
    "        weather['Lat'].append(lat) \n",
    "        weather['Lng'].append(lng) \n",
    "        weather['Max Temp'].append(max_temp) \n",
    "        weather['Humidity'].append(hum) \n",
    "        weather['Cloudiness'].append(clouds) \n",
    "        weather['Country'].append(country) \n",
    "        weather['Wind Speed'].append(wind)\n",
    "        weather['Date'].append(date) \n",
    "        i+=1\n",
    "    \n",
    "    else: \n",
    "        print(f\"{city_name} not found, skip this one\")\n",
    "    \n",
    "      \n",
    "\n",
    "#print(number,name, lat, hum, clouds, wind, country, date)\n",
    "\n",
    "#print (result)   \n",
    "\n",
    "\n",
    "#pprint(city_weather)\n",
    "\n",
    "\n"
   ]
  },
  {
   "cell_type": "markdown",
   "metadata": {},
   "source": [
    "### Convert Raw Data to DataFrame\n",
    "* Export the city data into a .csv.\n",
    "* Display the DataFrame"
   ]
  },
  {
   "cell_type": "code",
   "execution_count": 4,
   "metadata": {},
   "outputs": [
    {
     "data": {
      "text/html": [
       "<div>\n",
       "<style scoped>\n",
       "    .dataframe tbody tr th:only-of-type {\n",
       "        vertical-align: middle;\n",
       "    }\n",
       "\n",
       "    .dataframe tbody tr th {\n",
       "        vertical-align: top;\n",
       "    }\n",
       "\n",
       "    .dataframe thead th {\n",
       "        text-align: right;\n",
       "    }\n",
       "</style>\n",
       "<table border=\"1\" class=\"dataframe\">\n",
       "  <thead>\n",
       "    <tr style=\"text-align: right;\">\n",
       "      <th></th>\n",
       "      <th>City</th>\n",
       "      <th>Lat</th>\n",
       "      <th>Lng</th>\n",
       "      <th>Max Temp</th>\n",
       "      <th>Humidity</th>\n",
       "      <th>Cloudiness</th>\n",
       "      <th>Wind Speed</th>\n",
       "      <th>Country</th>\n",
       "      <th>Date</th>\n",
       "    </tr>\n",
       "  </thead>\n",
       "  <tbody>\n",
       "    <tr>\n",
       "      <th>0</th>\n",
       "      <td>Saint-Philippe</td>\n",
       "      <td>-21.36</td>\n",
       "      <td>55.77</td>\n",
       "      <td>77.00</td>\n",
       "      <td>78</td>\n",
       "      <td>0</td>\n",
       "      <td>25.28</td>\n",
       "      <td>RE</td>\n",
       "      <td>1609361099</td>\n",
       "    </tr>\n",
       "    <tr>\n",
       "      <th>1</th>\n",
       "      <td>Qaanaaq</td>\n",
       "      <td>77.48</td>\n",
       "      <td>-69.36</td>\n",
       "      <td>7.88</td>\n",
       "      <td>72</td>\n",
       "      <td>58</td>\n",
       "      <td>11.83</td>\n",
       "      <td>GL</td>\n",
       "      <td>1609361095</td>\n",
       "    </tr>\n",
       "    <tr>\n",
       "      <th>2</th>\n",
       "      <td>Atuona</td>\n",
       "      <td>-9.80</td>\n",
       "      <td>-139.03</td>\n",
       "      <td>78.64</td>\n",
       "      <td>73</td>\n",
       "      <td>2</td>\n",
       "      <td>18.97</td>\n",
       "      <td>PF</td>\n",
       "      <td>1609361122</td>\n",
       "    </tr>\n",
       "    <tr>\n",
       "      <th>3</th>\n",
       "      <td>Sayansk</td>\n",
       "      <td>54.11</td>\n",
       "      <td>102.16</td>\n",
       "      <td>-18.76</td>\n",
       "      <td>84</td>\n",
       "      <td>38</td>\n",
       "      <td>0.45</td>\n",
       "      <td>RU</td>\n",
       "      <td>1609361667</td>\n",
       "    </tr>\n",
       "    <tr>\n",
       "      <th>4</th>\n",
       "      <td>Isla Mujeres</td>\n",
       "      <td>21.23</td>\n",
       "      <td>-86.73</td>\n",
       "      <td>80.60</td>\n",
       "      <td>74</td>\n",
       "      <td>75</td>\n",
       "      <td>14.99</td>\n",
       "      <td>MX</td>\n",
       "      <td>1609360883</td>\n",
       "    </tr>\n",
       "    <tr>\n",
       "      <th>...</th>\n",
       "      <td>...</td>\n",
       "      <td>...</td>\n",
       "      <td>...</td>\n",
       "      <td>...</td>\n",
       "      <td>...</td>\n",
       "      <td>...</td>\n",
       "      <td>...</td>\n",
       "      <td>...</td>\n",
       "      <td>...</td>\n",
       "    </tr>\n",
       "    <tr>\n",
       "      <th>591</th>\n",
       "      <td>Obo</td>\n",
       "      <td>5.40</td>\n",
       "      <td>26.49</td>\n",
       "      <td>75.51</td>\n",
       "      <td>37</td>\n",
       "      <td>0</td>\n",
       "      <td>3.06</td>\n",
       "      <td>CF</td>\n",
       "      <td>1609361718</td>\n",
       "    </tr>\n",
       "    <tr>\n",
       "      <th>592</th>\n",
       "      <td>Codrington</td>\n",
       "      <td>-38.27</td>\n",
       "      <td>141.97</td>\n",
       "      <td>58.32</td>\n",
       "      <td>75</td>\n",
       "      <td>41</td>\n",
       "      <td>16.73</td>\n",
       "      <td>AU</td>\n",
       "      <td>1609361718</td>\n",
       "    </tr>\n",
       "    <tr>\n",
       "      <th>593</th>\n",
       "      <td>Ţahţā</td>\n",
       "      <td>26.77</td>\n",
       "      <td>31.50</td>\n",
       "      <td>55.40</td>\n",
       "      <td>50</td>\n",
       "      <td>0</td>\n",
       "      <td>9.17</td>\n",
       "      <td>EG</td>\n",
       "      <td>1609361718</td>\n",
       "    </tr>\n",
       "    <tr>\n",
       "      <th>594</th>\n",
       "      <td>Marks</td>\n",
       "      <td>51.71</td>\n",
       "      <td>46.75</td>\n",
       "      <td>9.30</td>\n",
       "      <td>95</td>\n",
       "      <td>100</td>\n",
       "      <td>5.03</td>\n",
       "      <td>RU</td>\n",
       "      <td>1609361718</td>\n",
       "    </tr>\n",
       "    <tr>\n",
       "      <th>595</th>\n",
       "      <td>Terney</td>\n",
       "      <td>45.05</td>\n",
       "      <td>136.61</td>\n",
       "      <td>-4.40</td>\n",
       "      <td>80</td>\n",
       "      <td>25</td>\n",
       "      <td>16.75</td>\n",
       "      <td>RU</td>\n",
       "      <td>1609361718</td>\n",
       "    </tr>\n",
       "  </tbody>\n",
       "</table>\n",
       "<p>596 rows × 9 columns</p>\n",
       "</div>"
      ],
      "text/plain": [
       "               City    Lat     Lng  Max Temp  Humidity  Cloudiness  \\\n",
       "0    Saint-Philippe -21.36   55.77     77.00        78           0   \n",
       "1           Qaanaaq  77.48  -69.36      7.88        72          58   \n",
       "2            Atuona  -9.80 -139.03     78.64        73           2   \n",
       "3           Sayansk  54.11  102.16    -18.76        84          38   \n",
       "4      Isla Mujeres  21.23  -86.73     80.60        74          75   \n",
       "..              ...    ...     ...       ...       ...         ...   \n",
       "591             Obo   5.40   26.49     75.51        37           0   \n",
       "592      Codrington -38.27  141.97     58.32        75          41   \n",
       "593           Ţahţā  26.77   31.50     55.40        50           0   \n",
       "594           Marks  51.71   46.75      9.30        95         100   \n",
       "595          Terney  45.05  136.61     -4.40        80          25   \n",
       "\n",
       "     Wind Speed Country        Date  \n",
       "0         25.28      RE  1609361099  \n",
       "1         11.83      GL  1609361095  \n",
       "2         18.97      PF  1609361122  \n",
       "3          0.45      RU  1609361667  \n",
       "4         14.99      MX  1609360883  \n",
       "..          ...     ...         ...  \n",
       "591        3.06      CF  1609361718  \n",
       "592       16.73      AU  1609361718  \n",
       "593        9.17      EG  1609361718  \n",
       "594        5.03      RU  1609361718  \n",
       "595       16.75      RU  1609361718  \n",
       "\n",
       "[596 rows x 9 columns]"
      ]
     },
     "execution_count": 4,
     "metadata": {},
     "output_type": "execute_result"
    }
   ],
   "source": [
    "weather_df = pd.DataFrame(weather)\n",
    "weather_df.to_csv(\"output_data/cities.csv\", index = False)\n",
    "weather_df"
   ]
  },
  {
   "cell_type": "code",
   "execution_count": null,
   "metadata": {},
   "outputs": [],
   "source": []
  },
  {
   "cell_type": "markdown",
   "metadata": {},
   "source": [
    "## Inspect the data and remove the cities where the humidity > 100%.\n",
    "----\n",
    "Skip this step if there are no cities that have humidity > 100%. "
   ]
  },
  {
   "cell_type": "code",
   "execution_count": 5,
   "metadata": {},
   "outputs": [],
   "source": [
    "len(weather_df)\n",
    "for i in range(len(weather_df)):\n",
    "    if weather_df['Humidity'][i] > 100:\n",
    "        print(i)\n",
    "        print(weather_df['Humidity'][i])\n",
    "        \n",
    "        weather_df.drop(index=i)\n",
    "\n",
    "clean_city_data = weather_df        \n",
    "len(clean_city_data)\n",
    "clean_city_data.rename(columns = {'Lat': 'Latitude'}, inplace = True)\n",
    "\n",
    "\n",
    "\n"
   ]
  },
  {
   "cell_type": "code",
   "execution_count": 6,
   "metadata": {},
   "outputs": [
    {
     "data": {
      "text/html": [
       "<div>\n",
       "<style scoped>\n",
       "    .dataframe tbody tr th:only-of-type {\n",
       "        vertical-align: middle;\n",
       "    }\n",
       "\n",
       "    .dataframe tbody tr th {\n",
       "        vertical-align: top;\n",
       "    }\n",
       "\n",
       "    .dataframe thead th {\n",
       "        text-align: right;\n",
       "    }\n",
       "</style>\n",
       "<table border=\"1\" class=\"dataframe\">\n",
       "  <thead>\n",
       "    <tr style=\"text-align: right;\">\n",
       "      <th></th>\n",
       "      <th>City</th>\n",
       "      <th>Latitude</th>\n",
       "      <th>Lng</th>\n",
       "      <th>Max Temp</th>\n",
       "      <th>Humidity</th>\n",
       "      <th>Cloudiness</th>\n",
       "      <th>Wind Speed</th>\n",
       "      <th>Country</th>\n",
       "      <th>Date</th>\n",
       "    </tr>\n",
       "  </thead>\n",
       "  <tbody>\n",
       "    <tr>\n",
       "      <th>0</th>\n",
       "      <td>Saint-Philippe</td>\n",
       "      <td>-21.36</td>\n",
       "      <td>55.77</td>\n",
       "      <td>77.00</td>\n",
       "      <td>78</td>\n",
       "      <td>0</td>\n",
       "      <td>25.28</td>\n",
       "      <td>RE</td>\n",
       "      <td>1609361099</td>\n",
       "    </tr>\n",
       "    <tr>\n",
       "      <th>1</th>\n",
       "      <td>Qaanaaq</td>\n",
       "      <td>77.48</td>\n",
       "      <td>-69.36</td>\n",
       "      <td>7.88</td>\n",
       "      <td>72</td>\n",
       "      <td>58</td>\n",
       "      <td>11.83</td>\n",
       "      <td>GL</td>\n",
       "      <td>1609361095</td>\n",
       "    </tr>\n",
       "    <tr>\n",
       "      <th>2</th>\n",
       "      <td>Atuona</td>\n",
       "      <td>-9.80</td>\n",
       "      <td>-139.03</td>\n",
       "      <td>78.64</td>\n",
       "      <td>73</td>\n",
       "      <td>2</td>\n",
       "      <td>18.97</td>\n",
       "      <td>PF</td>\n",
       "      <td>1609361122</td>\n",
       "    </tr>\n",
       "    <tr>\n",
       "      <th>3</th>\n",
       "      <td>Sayansk</td>\n",
       "      <td>54.11</td>\n",
       "      <td>102.16</td>\n",
       "      <td>-18.76</td>\n",
       "      <td>84</td>\n",
       "      <td>38</td>\n",
       "      <td>0.45</td>\n",
       "      <td>RU</td>\n",
       "      <td>1609361667</td>\n",
       "    </tr>\n",
       "    <tr>\n",
       "      <th>4</th>\n",
       "      <td>Isla Mujeres</td>\n",
       "      <td>21.23</td>\n",
       "      <td>-86.73</td>\n",
       "      <td>80.60</td>\n",
       "      <td>74</td>\n",
       "      <td>75</td>\n",
       "      <td>14.99</td>\n",
       "      <td>MX</td>\n",
       "      <td>1609360883</td>\n",
       "    </tr>\n",
       "  </tbody>\n",
       "</table>\n",
       "</div>"
      ],
      "text/plain": [
       "             City  Latitude     Lng  Max Temp  Humidity  Cloudiness  \\\n",
       "0  Saint-Philippe    -21.36   55.77     77.00        78           0   \n",
       "1         Qaanaaq     77.48  -69.36      7.88        72          58   \n",
       "2          Atuona     -9.80 -139.03     78.64        73           2   \n",
       "3         Sayansk     54.11  102.16    -18.76        84          38   \n",
       "4    Isla Mujeres     21.23  -86.73     80.60        74          75   \n",
       "\n",
       "   Wind Speed Country        Date  \n",
       "0       25.28      RE  1609361099  \n",
       "1       11.83      GL  1609361095  \n",
       "2       18.97      PF  1609361122  \n",
       "3        0.45      RU  1609361667  \n",
       "4       14.99      MX  1609360883  "
      ]
     },
     "execution_count": 6,
     "metadata": {},
     "output_type": "execute_result"
    }
   ],
   "source": [
    "clean_city_data.head()\n"
   ]
  },
  {
   "cell_type": "code",
   "execution_count": 7,
   "metadata": {},
   "outputs": [],
   "source": [
    "#Define function for making  scatter plots\n",
    "\n",
    "def make_scatter_plot(df, x_col, y_col):\n",
    "    \"This creates a scatter plot given a list of x values, y values, x label, y label and title\"\n",
    "    x = df[x_col]\n",
    "    y = df[y_col]\n",
    "    \n",
    "    #generating random number to be included in fig name so that new figure is unlikely to \n",
    "    #be named the same as a previous figure \n",
    "    \n",
    "    fig_num = random.randint(1, 100)\n",
    "    \n",
    "    plt.scatter(x, y)\n",
    "    plt.xlabel(x_col)\n",
    "    plt.ylabel(y_col)\n",
    "    plt.title(f\"{y_col} as a function of {x_col}\")\n",
    "    plt.ylim(min(y)-10,max(y)+10)\n",
    "    plt.savefig(f\"{df}_{x_col}_{y_col}_{fig_num}.png\")\n",
    "   \n",
    "    \n",
    "    linregress(x,y)\n",
    "    reg = linregress(x,y)\n",
    "    reg_line = reg[0]*x + reg[1]\n",
    "\n",
    "    plt.plot(x,reg_line, color=\"red\")\n",
    "    r_squared = round(reg[2]**2,2)\n",
    "    print(f\"r squared = {r_squared}\")\n",
    "              \n"
   ]
  },
  {
   "cell_type": "markdown",
   "metadata": {},
   "source": [
    "## Latitude vs. Temperature Plot"
   ]
  },
  {
   "cell_type": "code",
   "execution_count": 8,
   "metadata": {
    "scrolled": true
   },
   "outputs": [
    {
     "name": "stdout",
     "output_type": "stream",
     "text": [
      "r squared = 0.61\n"
     ]
    },
    {
     "data": {
      "image/png": "[encoded data removed]",
      "text/plain": [
       "<Figure size 432x288 with 1 Axes>"
      ]
     },
     "metadata": {
      "needs_background": "light"
     },
     "output_type": "display_data"
    }
   ],
   "source": [
    "make_scatter_plot(clean_city_data, 'Latitude', 'Max Temp')\n"
   ]
  },
  {
   "cell_type": "markdown",
   "metadata": {},
   "source": [
    "This plot shows maximum temperature plotted against latitude.  Temperature appears to\n",
    "decrease as the latitude gets farther from 0, more so in the northern hemisphere (lat > 0).\n",
    "The r-squared value of .52 doesn't seem particularly strong, but this is confounded by using negative and positive lat numbers in the same graph.  Graphs per hemisphere, and based on the absolute latitude are shown in later figures."
   ]
  },
  {
   "cell_type": "markdown",
   "metadata": {},
   "source": [
    "## Latitude vs. Humidity Plot"
   ]
  },
  {
   "cell_type": "code",
   "execution_count": 9,
   "metadata": {},
   "outputs": [
    {
     "name": "stdout",
     "output_type": "stream",
     "text": [
      "r squared = 0.03\n"
     ]
    },
    {
     "data": {
      "image/png": "[encoded data removed]",
      "text/plain": [
       "<Figure size 432x288 with 1 Axes>"
      ]
     },
     "metadata": {
      "needs_background": "light"
     },
     "output_type": "display_data"
    }
   ],
   "source": [
    "make_scatter_plot(clean_city_data,'Latitude','Humidity')"
   ]
  },
  {
   "cell_type": "markdown",
   "metadata": {},
   "source": [
    "There does not seem to be an effect of latitude on humidity"
   ]
  },
  {
   "cell_type": "markdown",
   "metadata": {},
   "source": [
    "## Latitude vs. Cloudiness Plot"
   ]
  },
  {
   "cell_type": "code",
   "execution_count": 10,
   "metadata": {},
   "outputs": [
    {
     "name": "stdout",
     "output_type": "stream",
     "text": [
      "r squared = 0.01\n"
     ]
    },
    {
     "data": {
      "image/png": "[encoded data removed]",
      "text/plain": [
       "<Figure size 432x288 with 1 Axes>"
      ]
     },
     "metadata": {
      "needs_background": "light"
     },
     "output_type": "display_data"
    }
   ],
   "source": [
    "make_scatter_plot(clean_city_data,'Latitude','Cloudiness')"
   ]
  },
  {
   "cell_type": "markdown",
   "metadata": {},
   "source": [
    "There is no correlation between latitude and cloudiness."
   ]
  },
  {
   "cell_type": "markdown",
   "metadata": {},
   "source": [
    "## Latitude vs. Wind Speed Plot"
   ]
  },
  {
   "cell_type": "code",
   "execution_count": 11,
   "metadata": {},
   "outputs": [
    {
     "name": "stdout",
     "output_type": "stream",
     "text": [
      "r squared = 0.0\n"
     ]
    },
    {
     "data": {
      "image/png": "[encoded data removed]",
      "text/plain": [
       "<Figure size 432x288 with 1 Axes>"
      ]
     },
     "metadata": {
      "needs_background": "light"
     },
     "output_type": "display_data"
    }
   ],
   "source": [
    "make_scatter_plot(clean_city_data, 'Latitude','Wind Speed')"
   ]
  },
  {
   "cell_type": "markdown",
   "metadata": {},
   "source": [
    "There is no correlation between latitude and wind speed"
   ]
  },
  {
   "cell_type": "markdown",
   "metadata": {},
   "source": [
    "## Linear Regression"
   ]
  },
  {
   "cell_type": "code",
   "execution_count": 12,
   "metadata": {},
   "outputs": [
    {
     "name": "stdout",
     "output_type": "stream",
     "text": [
      "418 cities were analyzed for the northern hemisphere\n",
      "178 cities were analyzed for the southern hemisphere\n"
     ]
    },
    {
     "data": {
      "text/plain": [
       "-0.58"
      ]
     },
     "execution_count": 12,
     "metadata": {},
     "output_type": "execute_result"
    }
   ],
   "source": [
    "# The clean city daa frame was filtered for latitiudes > or < 0, splitting it into two DFs, \n",
    "#one for the northern hemisphere and one for the southern hemisphere.\n",
    "\n",
    "clean_city_data.head()\n",
    "\n",
    "north = clean_city_data[clean_city_data['Latitude']>0]\n",
    "north.head()\n",
    "print(f\"{len(north)} cities were analyzed for the northern hemisphere\")\n",
    "\n",
    "south = clean_city_data[clean_city_data['Latitude']<0]\n",
    "south.head()\n",
    "print(f\"{len(south)} cities were analyzed for the southern hemisphere\")  \n",
    "\n",
    "# check that filtering worked\n",
    "min(north['Latitude'])\n",
    "max(south['Latitude'])"
   ]
  },
  {
   "cell_type": "markdown",
   "metadata": {},
   "source": [
    "####  Northern Hemisphere - Max Temp vs. Latitude Linear Regression"
   ]
  },
  {
   "cell_type": "code",
   "execution_count": 13,
   "metadata": {},
   "outputs": [
    {
     "name": "stdout",
     "output_type": "stream",
     "text": [
      "r squared = 0.72\n"
     ]
    },
    {
     "data": {
      "image/png": "[encoded data removed]",
      "text/plain": [
       "<Figure size 432x288 with 1 Axes>"
      ]
     },
     "metadata": {
      "needs_background": "light"
     },
     "output_type": "display_data"
    }
   ],
   "source": [
    "make_scatter_plot(north, 'Latitude','Max Temp')"
   ]
  },
  {
   "cell_type": "markdown",
   "metadata": {},
   "source": [
    "Focusing just on the northern hemisphere (lat > 0) reveals a much stronger correlation\n",
    "(r^2 = 0.74) between Max Temp and Latitude"
   ]
  },
  {
   "cell_type": "markdown",
   "metadata": {},
   "source": [
    "####  Southern Hemisphere - Max Temp vs. Latitude Linear Regression"
   ]
  },
  {
   "cell_type": "code",
   "execution_count": 14,
   "metadata": {},
   "outputs": [
    {
     "name": "stdout",
     "output_type": "stream",
     "text": [
      "r squared = 0.26\n"
     ]
    },
    {
     "data": {
      "image/png": "[encoded data removed]",
      "text/plain": [
       "<Figure size 432x288 with 1 Axes>"
      ]
     },
     "metadata": {
      "needs_background": "light"
     },
     "output_type": "display_data"
    }
   ],
   "source": [
    "make_scatter_plot(south, 'Latitude','Max Temp')"
   ]
  },
  {
   "cell_type": "markdown",
   "metadata": {},
   "source": [
    "Focusing just on the southern hemisphere (lat < 0) reveals an apparent correlation between\n",
    "Max Temp and Latitude (r^2 = .37).  this correlation is much weaker than that for the northern hemisphere."
   ]
  },
  {
   "cell_type": "markdown",
   "metadata": {},
   "source": [
    "####  Northern Hemisphere - Humidity (%) vs. Latitude Linear Regression"
   ]
  },
  {
   "cell_type": "code",
   "execution_count": 15,
   "metadata": {},
   "outputs": [
    {
     "name": "stdout",
     "output_type": "stream",
     "text": [
      "r squared = 0.16\n"
     ]
    },
    {
     "data": {
      "image/png": "[encoded data removed]",
      "text/plain": [
       "<Figure size 432x288 with 1 Axes>"
      ]
     },
     "metadata": {
      "needs_background": "light"
     },
     "output_type": "display_data"
    }
   ],
   "source": [
    "make_scatter_plot(north, 'Latitude','Humidity')"
   ]
  },
  {
   "cell_type": "markdown",
   "metadata": {},
   "source": [
    " There is perhaps a weak correlation between Latitude and Humidity when considering just the\n",
    "northern hemisphere."
   ]
  },
  {
   "cell_type": "markdown",
   "metadata": {},
   "source": [
    "####  Southern Hemisphere - Humidity (%) vs. Latitude Linear Regression"
   ]
  },
  {
   "cell_type": "code",
   "execution_count": 16,
   "metadata": {},
   "outputs": [
    {
     "name": "stdout",
     "output_type": "stream",
     "text": [
      "r squared = 0.05\n"
     ]
    },
    {
     "data": {
      "image/png": "[encoded data removed]",
      "text/plain": [
       "<Figure size 432x288 with 1 Axes>"
      ]
     },
     "metadata": {
      "needs_background": "light"
     },
     "output_type": "display_data"
    }
   ],
   "source": [
    "make_scatter_plot(south, 'Latitude','Humidity')"
   ]
  },
  {
   "cell_type": "markdown",
   "metadata": {},
   "source": [
    "There is no correlation between Latitude and Humidity when considering just the\n",
    "southern hemisphere."
   ]
  },
  {
   "cell_type": "markdown",
   "metadata": {},
   "source": [
    "####  Northern Hemisphere - Cloudiness (%) vs. Latitude Linear Regression"
   ]
  },
  {
   "cell_type": "code",
   "execution_count": 17,
   "metadata": {},
   "outputs": [
    {
     "name": "stdout",
     "output_type": "stream",
     "text": [
      "r squared = 0.09\n"
     ]
    },
    {
     "data": {
      "image/png": "[encoded data removed]",
      "text/plain": [
       "<Figure size 432x288 with 1 Axes>"
      ]
     },
     "metadata": {
      "needs_background": "light"
     },
     "output_type": "display_data"
    }
   ],
   "source": [
    "make_scatter_plot(north, 'Latitude','Cloudiness')"
   ]
  },
  {
   "cell_type": "markdown",
   "metadata": {},
   "source": [
    "There is no correlation between Latitude and Cloudiness when considering just the\n",
    "northern hemisphere."
   ]
  },
  {
   "cell_type": "markdown",
   "metadata": {},
   "source": [
    "####  Southern Hemisphere - Cloudiness (%) vs. Latitude Linear Regression"
   ]
  },
  {
   "cell_type": "code",
   "execution_count": 18,
   "metadata": {},
   "outputs": [
    {
     "name": "stdout",
     "output_type": "stream",
     "text": [
      "r squared = 0.04\n"
     ]
    },
    {
     "data": {
      "image/png": "[encoded data removed]",
      "text/plain": [
       "<Figure size 432x288 with 1 Axes>"
      ]
     },
     "metadata": {
      "needs_background": "light"
     },
     "output_type": "display_data"
    }
   ],
   "source": [
    "make_scatter_plot(south, 'Latitude','Cloudiness')"
   ]
  },
  {
   "cell_type": "markdown",
   "metadata": {},
   "source": [
    "There is no correlation between Latitude and Cloudiness when considering just the\n",
    "southern hemisphere."
   ]
  },
  {
   "cell_type": "markdown",
   "metadata": {},
   "source": [
    "####  Northern Hemisphere - Wind Speed (mph) vs. Latitude Linear Regression"
   ]
  },
  {
   "cell_type": "code",
   "execution_count": 19,
   "metadata": {},
   "outputs": [
    {
     "name": "stdout",
     "output_type": "stream",
     "text": [
      "r squared = 0.0\n"
     ]
    },
    {
     "data": {
      "image/png": "[encoded data removed]",
      "text/plain": [
       "<Figure size 432x288 with 1 Axes>"
      ]
     },
     "metadata": {
      "needs_background": "light"
     },
     "output_type": "display_data"
    }
   ],
   "source": [
    "make_scatter_plot(north, 'Latitude','Wind Speed')"
   ]
  },
  {
   "cell_type": "markdown",
   "metadata": {},
   "source": [
    "There is no correlation between Latitude and Cloudiness when considering just the\n",
    "southern hemisphere."
   ]
  },
  {
   "cell_type": "markdown",
   "metadata": {},
   "source": [
    "####  Southern Hemisphere - Wind Speed (mph) vs. Latitude Linear Regression"
   ]
  },
  {
   "cell_type": "code",
   "execution_count": 20,
   "metadata": {},
   "outputs": [
    {
     "name": "stdout",
     "output_type": "stream",
     "text": [
      "r squared = 0.03\n"
     ]
    },
    {
     "data": {
      "image/png": "[encoded data removed]",
      "text/plain": [
       "<Figure size 432x288 with 1 Axes>"
      ]
     },
     "metadata": {
      "needs_background": "light"
     },
     "output_type": "display_data"
    }
   ],
   "source": [
    "make_scatter_plot(south, 'Latitude','Wind Speed')"
   ]
  },
  {
   "cell_type": "markdown",
   "metadata": {},
   "source": [
    "There is no correlation between Latitude and wind speed when considering just the\n",
    "southern hemisphere."
   ]
  },
  {
   "cell_type": "markdown",
   "metadata": {},
   "source": [
    "Convert latitude to abs value to see if raw distance from equator is linear  temp"
   ]
  },
  {
   "cell_type": "code",
   "execution_count": 21,
   "metadata": {},
   "outputs": [],
   "source": [
    "abs_lat = np.absolute(clean_city_data['Latitude'])\n",
    "clean_abs = clean_city_data\n",
    "clean_abs['Abs Latitude'] = abs_lat"
   ]
  },
  {
   "cell_type": "code",
   "execution_count": 22,
   "metadata": {},
   "outputs": [
    {
     "name": "stdout",
     "output_type": "stream",
     "text": [
      "r squared = 0.71\n"
     ]
    },
    {
     "data": {
      "image/png": "[encoded data removed]",
      "text/plain": [
       "<Figure size 432x288 with 1 Axes>"
      ]
     },
     "metadata": {
      "needs_background": "light"
     },
     "output_type": "display_data"
    }
   ],
   "source": [
    "\n",
    "make_scatter_plot(clean_abs,'Abs Latitude','Max Temp')\n"
   ]
  },
  {
   "cell_type": "markdown",
   "metadata": {},
   "source": [
    "There is a strong correlation between Latitude and Max temp when considering just the\n",
    "raw distance from the equator (absolute value of latititude)"
   ]
  }
 ],
 "metadata": {
  "anaconda-cloud": {},
  "kernel_info": {
   "name": "python3"
  },
  "kernelspec": {
   "display_name": "Python 3",
   "language": "python",
   "name": "python3"
  },
  "language_info": {
   "codemirror_mode": {
    "name": "ipython",
    "version": 3
   },
   "file_extension": ".py",
   "mimetype": "text/x-python",
   "name": "python",
   "nbconvert_exporter": "python",
   "pygments_lexer": "ipython3",
   "version": "3.6.10"
  },
  "latex_envs": {
   "LaTeX_envs_menu_present": true,
   "autoclose": false,
   "autocomplete": true,
   "bibliofile": "biblio.bib",
   "cite_by": "apalike",
   "current_citInitial": 1,
   "eqLabelWithNumbers": true,
   "eqNumInitial": 1,
   "hotkeys": {
    "equation": "Ctrl-E",
    "itemize": "Ctrl-I"
   },
   "labels_anchors": false,
   "latex_user_defs": false,
   "report_style_numbering": false,
   "user_envs_cfg": false
  },
  "nteract": {
   "version": "0.12.3"
  }
 },
 "nbformat": 4,
 "nbformat_minor": 4
}
