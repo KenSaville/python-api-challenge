{
 "cells": [
  {
   "cell_type": "markdown",
   "metadata": {},
   "source": [
    "# WeatherPy\n",
    "----\n",
    "\n",
    "#### Note\n",
    "* Instructions have been included for each segment. You do not have to follow them exactly, but they are included to help you think through the steps."
   ]
  },
  {
   "cell_type": "code",
   "execution_count": null,
   "metadata": {
    "scrolled": true
   },
   "outputs": [],
   "source": [
    "# Dependencies and Setup\n",
    "import matplotlib.pyplot as plt\n",
    "import pandas as pd\n",
    "import numpy as np\n",
    "import requests\n",
    "import time\n",
    "from scipy.stats import linregress\n",
    "from pprint import pprint\n",
    "import json\n",
    "import random\n",
    "\n",
    "# Import API key\n",
    "from config import api_key\n",
    "\n",
    "#print(api_key)\n",
    "\n",
    "# Incorporated citipy to determine city based on latitude and longitude\n",
    "from citipy import citipy\n",
    "\n",
    "# Output File (CSV)\n",
    "output_data_file = \"output_data/cities.csv\"\n",
    "\n",
    "# Range of latitudes and longitudes\n",
    "lat_range = (-90, 90)\n",
    "lng_range = (-180, 180)"
   ]
  },
  {
   "cell_type": "code",
   "execution_count": null,
   "metadata": {},
   "outputs": [],
   "source": []
  },
  {
   "cell_type": "markdown",
   "metadata": {},
   "source": [
    "## Generate Cities List"
   ]
  },
  {
   "cell_type": "code",
   "execution_count": null,
   "metadata": {},
   "outputs": [],
   "source": [
    "# List for holding lat_lngs and cities\n",
    "lat_lngs = []\n",
    "cities = []\n",
    "\n",
    "# Create a set of random lat and lng combinations\n",
    "lats = np.random.uniform(lat_range[0], lat_range[1], size=1500)\n",
    "lngs = np.random.uniform(lng_range[0], lng_range[1], size=1500)\n",
    "lat_lngs = zip(lats, lngs)\n",
    "\n",
    "# Identify nearest city for each lat, lng combination\n",
    "for lat_lng in lat_lngs:\n",
    "    city = citipy.nearest_city(lat_lng[0], lat_lng[1]).city_name\n",
    "    \n",
    "    # If the city is unique, then add it to a our cities list\n",
    "    if city not in cities:\n",
    "        cities.append(city)\n",
    "\n",
    "# Print the city count to confirm sufficient count\n",
    "print(len(cities))\n",
    "\n"
   ]
  },
  {
   "cell_type": "markdown",
   "metadata": {},
   "source": [
    "### Perform API Calls\n",
    "* Perform a weather check on each city using a series of successive API calls.\n",
    "* Include a print log of each city as it'sbeing processed (with the city number and city name).\n"
   ]
  },
  {
   "cell_type": "code",
   "execution_count": null,
   "metadata": {
    "scrolled": true
   },
   "outputs": [],
   "source": [
    "# Retrieve articles\n",
    "\n",
    "city_names = cities\n",
    "city_weather = []\n",
    "weather = {'City':[], \n",
    "           'Lat':[], \n",
    "            'Lng':[],\n",
    "            'Max Temp':[],\n",
    "            'Humidity':[],\n",
    "           'Cloudiness':[],\n",
    "           'Wind Speed':[],\n",
    "           'Country':[],\n",
    "           'Date':[]\n",
    "             }\n",
    "i=0\n",
    "for city_name in city_names:\n",
    "    #try:\n",
    "    query_url = f\"http://api.openweathermap.org/data/2.5/weather?q={city_name}&units=imperial&appid={api_key}\"\n",
    "    result = requests.get(query_url).json()\n",
    "    #print(result)\n",
    "    \n",
    "    if 'coord' in result:  #Used this to check for missing cities, but will switch to the try/except method\n",
    "        \n",
    "        city_weather.append(result)\n",
    "        print(f\"Retrieving weather data for city number {city_names.index(city_name)+1}:  {city_name}\")\n",
    "        number = city_names.index(city_name)+1\n",
    "        \n",
    "        name = city_weather[i]['name']\n",
    "        lat = city_weather[i]['coord']['lat']\n",
    "        lng = city_weather[i]['coord']['lon']\n",
    "        cur_temp = city_weather[i]['main']['temp']\n",
    "        max_temp = city_weather[i]['main']['temp_max']\n",
    "        hum = city_weather[i]['main']['humidity']\n",
    "        clouds = city_weather[i]['clouds']['all']\n",
    "        wind = city_weather[i]['wind']['speed']\n",
    "        country = city_weather[i]['sys']['country']\n",
    "        date = city_weather[i]['dt']\n",
    "    \n",
    "        weather['City'].append(name)\n",
    "        weather['Lat'].append(lat) \n",
    "        weather['Lng'].append(lng) \n",
    "        weather['Max Temp'].append(max_temp) \n",
    "        weather['Humidity'].append(hum) \n",
    "        weather['Cloudiness'].append(clouds) \n",
    "        weather['Country'].append(country) \n",
    "        weather['Wind Speed'].append(wind)\n",
    "        weather['Date'].append(date) \n",
    "        i+=1\n",
    "    \n",
    "    else: \n",
    "        print(f\"{city_name} not found, skip this one\")\n",
    "    \n",
    "      \n",
    "\n",
    "#print(number,name, lat, hum, clouds, wind, country, date)\n",
    "\n",
    "#print (result)   \n",
    "\n",
    "\n",
    "#pprint(city_weather)\n",
    "\n",
    "\n"
   ]
  },
  {
   "cell_type": "markdown",
   "metadata": {},
   "source": [
    "### Convert Raw Data to DataFrame\n",
    "* Export the city data into a .csv.\n",
    "* Display the DataFrame"
   ]
  },
  {
   "cell_type": "code",
   "execution_count": null,
   "metadata": {},
   "outputs": [],
   "source": [
    "weather_df = pd.DataFrame(weather)\n",
    "weather_df.to_csv(\"output_data/cities.csv\", index = False)\n",
    "weather_df"
   ]
  },
  {
   "cell_type": "code",
   "execution_count": null,
   "metadata": {},
   "outputs": [],
   "source": []
  },
  {
   "cell_type": "markdown",
   "metadata": {},
   "source": [
    "## Inspect the data and remove the cities where the humidity > 100%.\n",
    "----\n",
    "Skip this step if there are no cities that have humidity > 100%. "
   ]
  },
  {
   "cell_type": "code",
   "execution_count": null,
   "metadata": {},
   "outputs": [],
   "source": [
    "len(weather_df)\n",
    "for i in range(len(weather_df)):\n",
    "    if weather_df['Humidity'][i] > 100:\n",
    "        print(i)\n",
    "        print(weather_df['Humidity'][i])\n",
    "        \n",
    "        weather_df.drop(index=i)\n",
    "\n",
    "clean_city_data = weather_df        \n",
    "len(clean_city_data)\n",
    "clean_city_data.rename(columns = {'Lat': 'Latitude'}, inplace = True)\n",
    "\n",
    "\n",
    "\n"
   ]
  },
  {
   "cell_type": "code",
   "execution_count": null,
   "metadata": {},
   "outputs": [],
   "source": [
    "clean_city_data.head()\n"
   ]
  },
  {
   "cell_type": "code",
   "execution_count": null,
   "metadata": {},
   "outputs": [],
   "source": [
    "#Define function for making  scatter plots\n",
    "\n",
    "def make_scatter_plot(df, x_col, y_col):\n",
    "    \"This creates a scatter plot given a list of x values, y values, x label, y label and title\"\n",
    "    x = df[x_col]\n",
    "    y = df[y_col]\n",
    "    \n",
    "    #generating random number to be included in fig name so that new figure is unlikely to \n",
    "    #be named the same as a previous figure \n",
    "    \n",
    "    fig_num = random.randint(1, 100)\n",
    "    \n",
    "    plt.scatter(x, y)\n",
    "    plt.xlabel(x_col)\n",
    "    plt.ylabel(y_col)\n",
    "    plt.title(f\"{y_col} as a function of {x_col}\")\n",
    "    plt.ylim(min(y)-10,max(y)+10)\n",
    "    plt.savefig(f\"{df}_{x_col}_{y_col}_{fig_num}.png\")\n",
    "   \n",
    "    \n",
    "    linregress(x,y)\n",
    "    reg = linregress(x,y)\n",
    "    reg_line = reg[0]*x + reg[1]\n",
    "\n",
    "    plt.plot(x,reg_line, color=\"red\")\n",
    "    r_squared = round(reg[2]**2,2)\n",
    "    print(f\"r squared = {r_squared}\")\n",
    "              \n"
   ]
  },
  {
   "cell_type": "markdown",
   "metadata": {},
   "source": [
    "## Latitude vs. Temperature Plot"
   ]
  },
  {
   "cell_type": "code",
   "execution_count": null,
   "metadata": {
    "scrolled": true
   },
   "outputs": [],
   "source": [
    "make_scatter_plot(clean_city_data, 'Latitude', 'Max Temp')\n"
   ]
  },
  {
   "cell_type": "markdown",
   "metadata": {},
   "source": [
    "This plot shows maximum temperature plotted against latitude.  Temperature appears to\n",
    "decrease as the latitude gets farther from 0, more so in the northern hemisphere (lat > 0).\n",
    "The r-squared value of .52 doesn't seem particularly strong, but this is confounded by using negative and positive lat numbers in the same graph.  Graphs per hemisphere, and based on the absolute latitude are shown in later figures."
   ]
  },
  {
   "cell_type": "markdown",
   "metadata": {},
   "source": [
    "## Latitude vs. Humidity Plot"
   ]
  },
  {
   "cell_type": "code",
   "execution_count": null,
   "metadata": {},
   "outputs": [],
   "source": [
    "make_scatter_plot(clean_city_data,'Latitude','Humidity')"
   ]
  },
  {
   "cell_type": "markdown",
   "metadata": {},
   "source": [
    "There does not seem to be an effect of latitude on humidity"
   ]
  },
  {
   "cell_type": "markdown",
   "metadata": {},
   "source": [
    "## Latitude vs. Cloudiness Plot"
   ]
  },
  {
   "cell_type": "code",
   "execution_count": null,
   "metadata": {},
   "outputs": [],
   "source": [
    "make_scatter_plot(clean_city_data,'Latitude','Cloudiness')"
   ]
  },
  {
   "cell_type": "markdown",
   "metadata": {},
   "source": [
    "There is no correlation between latitude and cloudiness."
   ]
  },
  {
   "cell_type": "markdown",
   "metadata": {},
   "source": [
    "## Latitude vs. Wind Speed Plot"
   ]
  },
  {
   "cell_type": "code",
   "execution_count": null,
   "metadata": {},
   "outputs": [],
   "source": [
    "make_scatter_plot(clean_city_data, 'Latitude','Wind Speed')"
   ]
  },
  {
   "cell_type": "markdown",
   "metadata": {},
   "source": [
    "There is no correlation between latitude and wind speed"
   ]
  },
  {
   "cell_type": "markdown",
   "metadata": {},
   "source": [
    "## Linear Regression"
   ]
  },
  {
   "cell_type": "code",
   "execution_count": null,
   "metadata": {},
   "outputs": [],
   "source": [
    "# The clean city daa frame was filtered for latitiudes > or < 0, splitting it into two DFs, \n",
    "#one for the northern hemisphere and one for the southern hemisphere.\n",
    "\n",
    "clean_city_data.head()\n",
    "\n",
    "north = clean_city_data[clean_city_data['Latitude']>0]\n",
    "north.head()\n",
    "print(f\"{len(north)} cities were analyzed for the northern hemisphere\")\n",
    "\n",
    "south = clean_city_data[clean_city_data['Latitude']<0]\n",
    "south.head()\n",
    "print(f\"{len(south)} cities were analyzed for the southern hemisphere\")  \n",
    "\n",
    "# check that filtering worked\n",
    "min(north['Latitude'])\n",
    "max(south['Latitude'])"
   ]
  },
  {
   "cell_type": "markdown",
   "metadata": {},
   "source": [
    "####  Northern Hemisphere - Max Temp vs. Latitude Linear Regression"
   ]
  },
  {
   "cell_type": "code",
   "execution_count": null,
   "metadata": {},
   "outputs": [],
   "source": [
    "make_scatter_plot(north, 'Latitude','Max Temp')"
   ]
  },
  {
   "cell_type": "markdown",
   "metadata": {},
   "source": [
    "Focusing just on the northern hemisphere (lat > 0) reveals a much stronger correlation\n",
    "(r^2 = 0.74) between Max Temp and Latitude"
   ]
  },
  {
   "cell_type": "markdown",
   "metadata": {},
   "source": [
    "####  Southern Hemisphere - Max Temp vs. Latitude Linear Regression"
   ]
  },
  {
   "cell_type": "code",
   "execution_count": null,
   "metadata": {},
   "outputs": [],
   "source": [
    "make_scatter_plot(south, 'Latitude','Max Temp')"
   ]
  },
  {
   "cell_type": "markdown",
   "metadata": {},
   "source": [
    "Focusing just on the southern hemisphere (lat < 0) reveals an apparent correlation between\n",
    "Max Temp and Latitude (r^2 = .37).  this correlation is much weaker than that for the northern hemisphere."
   ]
  },
  {
   "cell_type": "markdown",
   "metadata": {},
   "source": [
    "####  Northern Hemisphere - Humidity (%) vs. Latitude Linear Regression"
   ]
  },
  {
   "cell_type": "code",
   "execution_count": null,
   "metadata": {},
   "outputs": [],
   "source": [
    "make_scatter_plot(north, 'Latitude','Humidity')"
   ]
  },
  {
   "cell_type": "markdown",
   "metadata": {},
   "source": [
    " There is perhaps a weak correlation between Latitude and Humidity when considering just the\n",
    "northern hemisphere."
   ]
  },
  {
   "cell_type": "markdown",
   "metadata": {},
   "source": [
    "####  Southern Hemisphere - Humidity (%) vs. Latitude Linear Regression"
   ]
  },
  {
   "cell_type": "code",
   "execution_count": null,
   "metadata": {},
   "outputs": [],
   "source": [
    "make_scatter_plot(south, 'Latitude','Humidity')"
   ]
  },
  {
   "cell_type": "markdown",
   "metadata": {},
   "source": [
    "There is no correlation between Latitude and Humidity when considering just the\n",
    "southern hemisphere."
   ]
  },
  {
   "cell_type": "markdown",
   "metadata": {},
   "source": [
    "####  Northern Hemisphere - Cloudiness (%) vs. Latitude Linear Regression"
   ]
  },
  {
   "cell_type": "code",
   "execution_count": null,
   "metadata": {},
   "outputs": [],
   "source": [
    "make_scatter_plot(north, 'Latitude','Cloudiness')"
   ]
  },
  {
   "cell_type": "markdown",
   "metadata": {},
   "source": [
    "There is no correlation between Latitude and Cloudiness when considering just the\n",
    "northern hemisphere."
   ]
  },
  {
   "cell_type": "markdown",
   "metadata": {},
   "source": [
    "####  Southern Hemisphere - Cloudiness (%) vs. Latitude Linear Regression"
   ]
  },
  {
   "cell_type": "code",
   "execution_count": null,
   "metadata": {},
   "outputs": [],
   "source": [
    "make_scatter_plot(south, 'Latitude','Cloudiness')"
   ]
  },
  {
   "cell_type": "markdown",
   "metadata": {},
   "source": [
    "There is no correlation between Latitude and Cloudiness when considering just the\n",
    "southern hemisphere."
   ]
  },
  {
   "cell_type": "markdown",
   "metadata": {},
   "source": [
    "####  Northern Hemisphere - Wind Speed (mph) vs. Latitude Linear Regression"
   ]
  },
  {
   "cell_type": "code",
   "execution_count": null,
   "metadata": {},
   "outputs": [],
   "source": [
    "make_scatter_plot(north, 'Latitude','Wind Speed')"
   ]
  },
  {
   "cell_type": "markdown",
   "metadata": {},
   "source": [
    "There is no correlation between Latitude and Cloudiness when considering just the\n",
    "southern hemisphere."
   ]
  },
  {
   "cell_type": "markdown",
   "metadata": {},
   "source": [
    "####  Southern Hemisphere - Wind Speed (mph) vs. Latitude Linear Regression"
   ]
  },
  {
   "cell_type": "code",
   "execution_count": null,
   "metadata": {},
   "outputs": [],
   "source": [
    "make_scatter_plot(south, 'Latitude','Wind Speed')"
   ]
  },
  {
   "cell_type": "markdown",
   "metadata": {},
   "source": [
    "There is no correlation between Latitude and wind speed when considering just the\n",
    "southern hemisphere."
   ]
  },
  {
   "cell_type": "markdown",
   "metadata": {},
   "source": [
    "Convert latitude to abs value to see if raw distance from equator is linear  temp"
   ]
  },
  {
   "cell_type": "code",
   "execution_count": null,
   "metadata": {},
   "outputs": [],
   "source": [
    "abs_lat = np.absolute(clean_city_data['Latitude'])\n",
    "clean_abs = clean_city_data\n",
    "clean_abs['Abs Latitude'] = abs_lat"
   ]
  },
  {
   "cell_type": "code",
   "execution_count": null,
   "metadata": {},
   "outputs": [],
   "source": [
    "\n",
    "make_scatter_plot(clean_abs,'Abs Latitude','Max Temp')\n"
   ]
  },
  {
   "cell_type": "markdown",
   "metadata": {},
   "source": [
    "There is a strong correlation between Latitude and Max temp when considering just the\n",
    "raw distance from the equator (absolute value of latititude)"
   ]
  }
 ],
 "metadata": {
  "anaconda-cloud": {},
  "kernel_info": {
   "name": "python3"
  },
  "kernelspec": {
   "display_name": "Python 3",
   "language": "python",
   "name": "python3"
  },
  "language_info": {
   "codemirror_mode": {
    "name": "ipython",
    "version": 3
   },
   "file_extension": ".py",
   "mimetype": "text/x-python",
   "name": "python",
   "nbconvert_exporter": "python",
   "pygments_lexer": "ipython3",
   "version": "3.8.3"
  },
  "latex_envs": {
   "LaTeX_envs_menu_present": true,
   "autoclose": false,
   "autocomplete": true,
   "bibliofile": "biblio.bib",
   "cite_by": "apalike",
   "current_citInitial": 1,
   "eqLabelWithNumbers": true,
   "eqNumInitial": 1,
   "hotkeys": {
    "equation": "Ctrl-E",
    "itemize": "Ctrl-I"
   },
   "labels_anchors": false,
   "latex_user_defs": false,
   "report_style_numbering": false,
   "user_envs_cfg": false
  },
  "nteract": {
   "version": "0.12.3"
  }
 },
 "nbformat": 4,
 "nbformat_minor": 4
}
