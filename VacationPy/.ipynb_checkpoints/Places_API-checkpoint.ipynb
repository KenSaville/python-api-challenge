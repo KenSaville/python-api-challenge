{
 "cells": [
  {
   "cell_type": "code",
   "execution_count": 21,
   "metadata": {},
   "outputs": [
    {
     "data": {
      "text/plain": [
       "{'candidates': [{'formatted_address': '201 4th Ave, Dodge City, KS 67801, United States',\n",
       "   'name': 'Holiday Inn Express & Suites Dodge City',\n",
       "   'opening_hours': {'open_now': True},\n",
       "   'rating': 4.6}],\n",
       " 'status': 'OK'}"
      ]
     },
     "execution_count": 21,
     "metadata": {},
     "output_type": "execute_result"
    }
   ],
   "source": [
    "import requests\n",
    "import json\n",
    "from config import api_key\n",
    "\n",
    "#query_url = f\"https://maps.googleapis.com/maps/api/place/findplacefromtext/json?key={api_key}\\\n",
    "#&input=hotel&inputtype=textquery&location=37.75-100.02&radius=5000\"\n",
    "\n",
    "#print(api_key)\n",
    "query_url = f\"https://maps.googleapis.com/maps/api/place/findplacefromtext/json?\\\n",
    "input=Hotel&inputtype=textquery&locationbias=point:37.75,-100.02&radius=5000&fields=formatted_address,\\\n",
    "name,rating,opening_hours&key={api_key}\"\n",
    "\n",
    "response = requests.get(query_url).json()\n",
    "\n",
    "response"
   ]
  },
  {
   "cell_type": "code",
   "execution_count": 24,
   "metadata": {},
   "outputs": [
    {
     "name": "stdout",
     "output_type": "stream",
     "text": [
      "Your best bet for a hotel is Holiday Inn Express & Suites Dodge City\n"
     ]
    }
   ],
   "source": [
    "print(f\"Your best bet for a hotel is {response['candidates'][0]['name']}\")"
   ]
  },
  {
   "cell_type": "code",
   "execution_count": null,
   "metadata": {},
   "outputs": [],
   "source": []
  }
 ],
 "metadata": {
  "kernelspec": {
   "display_name": "Python 3",
   "language": "python",
   "name": "python3"
  },
  "language_info": {
   "codemirror_mode": {
    "name": "ipython",
    "version": 3
   },
   "file_extension": ".py",
   "mimetype": "text/x-python",
   "name": "python",
   "nbconvert_exporter": "python",
   "pygments_lexer": "ipython3",
   "version": "3.8.3"
  }
 },
 "nbformat": 4,
 "nbformat_minor": 4
}
